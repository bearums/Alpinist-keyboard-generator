{
 "cells": [
  {
   "cell_type": "code",
   "execution_count": 2,
   "id": "f56ac357",
   "metadata": {},
   "outputs": [
    {
     "name": "stderr",
     "output_type": "stream",
     "text": [
      "/home/ben/anaconda3/envs/jcq3/lib/python3.10/site-packages/quaternion/calculus.py:310: NumbaDeprecationWarning: \u001b[1mThe 'nopython' keyword argument was not supplied to the 'numba.jit' decorator. The implicit default value for this argument is currently False, but it will be changed to True in Numba 0.59.0. See https://numba.readthedocs.io/en/stable/reference/deprecation.html#deprecation-of-object-mode-fall-back-behaviour-when-using-jit for details.\u001b[0m\n",
      "  def fd_indefinite_integral(f, t):\n"
     ]
    },
    {
     "name": "stdout",
     "output_type": "stream",
     "text": [
      "Overwriting auto display for cadquery Workplane and Shape\n",
      "\n",
      "Enabling jupyter_cadquery replay\n"
     ]
    }
   ],
   "source": [
    "import sys\n",
    "sys.path.append('../')\n",
    "from case import make_case\n",
    "from plate import make_plate\n",
    "from plate import Config, Shape\n",
    "import cadquery as cq\n",
    "\n",
    "from jupyter_cadquery import (\n",
    "    versions,\n",
    "    show, PartGroup, Part, \n",
    "    get_viewer, close_viewer, get_viewers, close_viewers, open_viewer, set_defaults, get_defaults, open_viewer,\n",
    "    get_pick,\n",
    ")\n",
    "\n",
    "from jupyter_cadquery.replay import replay, enable_replay, disable_replay\n",
    "''\n",
    "enable_replay(False)\n",
    "\n",
    "set_defaults(\n",
    "    cad_width=640, \n",
    "    height=480, \n",
    ")\n"
   ]
  },
  {
   "cell_type": "code",
   "execution_count": 6,
   "id": "a50d5333",
   "metadata": {},
   "outputs": [
    {
     "ename": "StdFail_NotDone",
     "evalue": "BRep_API: command not done",
     "output_type": "error",
     "traceback": [
      "\u001b[0;31m---------------------------------------------------------------------------\u001b[0m",
      "\u001b[0;31mStdFail_NotDone\u001b[0m                           Traceback (most recent call last)",
      "Cell \u001b[0;32mIn[6], line 14\u001b[0m\n\u001b[1;32m      4\u001b[0m config\u001b[38;5;241m=\u001b[39mConfig( rkn, \n\u001b[1;32m      5\u001b[0m               shape\u001b[38;5;241m=\u001b[39mShape\u001b[38;5;241m.\u001b[39mLEAN, \n\u001b[1;32m      6\u001b[0m                   caseHeight\u001b[38;5;241m=\u001b[39m\u001b[38;5;241m20\u001b[39m, \n\u001b[0;32m   (...)\u001b[0m\n\u001b[1;32m     11\u001b[0m                  caseGap\u001b[38;5;241m=\u001b[39m\u001b[38;5;241m1.0\u001b[39m,\n\u001b[1;32m     12\u001b[0m                  wallThickness\u001b[38;5;241m=\u001b[39m\u001b[38;5;241m1.2\u001b[39m,)\n\u001b[1;32m     13\u001b[0m pl \u001b[38;5;241m=\u001b[39m make_plate(config, holes\u001b[38;5;241m=\u001b[39m\u001b[38;5;28;01mTrue\u001b[39;00m)\n\u001b[0;32m---> 14\u001b[0m case \u001b[38;5;241m=\u001b[39m \u001b[43mmake_case\u001b[49m\u001b[43m(\u001b[49m\u001b[43mconfig\u001b[49m\u001b[43m)\u001b[49m\n",
      "File \u001b[0;32m~/3dprinting/keebs/kb_gen/keyboard-gen/Alpinist/testing_notebooks/../case.py:64\u001b[0m, in \u001b[0;36mmake_case\u001b[0;34m(config)\u001b[0m\n\u001b[1;32m     60\u001b[0m \u001b[38;5;28;01mcase\u001b[39;00m\u001b[38;5;241m.\u001b[39medges(\u001b[38;5;124m'\u001b[39m\u001b[38;5;124m>Z\u001b[39m\u001b[38;5;124m'\u001b[39m)\u001b[38;5;241m.\u001b[39mtag(\u001b[38;5;124m'\u001b[39m\u001b[38;5;124mouterTopEdge\u001b[39m\u001b[38;5;124m'\u001b[39m)\n\u001b[1;32m     63\u001b[0m \u001b[38;5;66;03m# scoop out interior\u001b[39;00m\n\u001b[0;32m---> 64\u001b[0m case\u001b[38;5;241m=\u001b[39m (\u001b[43mcase\u001b[49m\u001b[38;5;241;43m.\u001b[39;49m\u001b[43mfaces\u001b[49m\u001b[43m(\u001b[49m\u001b[38;5;124;43m\"\u001b[39;49m\u001b[38;5;124;43m>Z\u001b[39;49m\u001b[38;5;124;43m\"\u001b[39;49m\u001b[43m)\u001b[49m\n\u001b[1;32m     65\u001b[0m \u001b[43m        \u001b[49m\u001b[38;5;241;43m.\u001b[39;49m\u001b[43mshell\u001b[49m\u001b[43m(\u001b[49m\u001b[38;5;241;43m-\u001b[39;49m\u001b[43mconfig\u001b[49m\u001b[38;5;241;43m.\u001b[39;49m\u001b[43mwallThickness\u001b[49m\u001b[43m,\u001b[49m\u001b[43m \u001b[49m\u001b[43mkind\u001b[49m\u001b[38;5;241;43m=\u001b[39;49m\u001b[38;5;124;43m'\u001b[39;49m\u001b[38;5;124;43mintersection\u001b[39;49m\u001b[38;5;124;43m'\u001b[39;49m\u001b[43m)\u001b[49m\n\u001b[1;32m     66\u001b[0m         )\n\u001b[1;32m     68\u001b[0m \u001b[38;5;66;03m# set floor thickness \u001b[39;00m\n\u001b[1;32m     69\u001b[0m btm \u001b[38;5;241m=\u001b[39m case\u001b[38;5;241m.\u001b[39mfaces(\u001b[38;5;124m'\u001b[39m\u001b[38;5;124m<Z[1]\u001b[39m\u001b[38;5;124m'\u001b[39m)\u001b[38;5;241m.\u001b[39mclean()\u001b[38;5;241m.\u001b[39mwires()\u001b[38;5;241m.\u001b[39mtoPending()\n",
      "File \u001b[0;32m~/anaconda3/envs/jcq3/lib/python3.10/site-packages/jupyter_cadquery/replay.py:203\u001b[0m, in \u001b[0;36m_add_context.<locals>.intercept.<locals>.f\u001b[0;34m(*args, **kwargs)\u001b[0m\n\u001b[1;32m    200\u001b[0m     _CTX\u001b[38;5;241m.\u001b[39mupdate(func\u001b[38;5;241m.\u001b[39m\u001b[38;5;18m__name__\u001b[39m, args, kwargs)\n\u001b[1;32m    201\u001b[0m     _trace(_CTX)\n\u001b[0;32m--> 203\u001b[0m result \u001b[38;5;241m=\u001b[39m \u001b[43mfunc\u001b[49m\u001b[43m(\u001b[49m\u001b[38;5;241;43m*\u001b[39;49m\u001b[43margs\u001b[49m\u001b[43m,\u001b[49m\u001b[43m \u001b[49m\u001b[38;5;241;43m*\u001b[39;49m\u001b[38;5;241;43m*\u001b[39;49m\u001b[43mkwargs\u001b[49m\u001b[43m)\u001b[49m\n\u001b[1;32m    205\u001b[0m \u001b[38;5;28;01mif\u001b[39;00m func\u001b[38;5;241m.\u001b[39m\u001b[38;5;18m__name__\u001b[39m \u001b[38;5;241m==\u001b[39m _CTX\u001b[38;5;241m.\u001b[39mfunc:\n\u001b[1;32m    206\u001b[0m     _CTX\u001b[38;5;241m.\u001b[39mobj \u001b[38;5;241m=\u001b[39m result\n",
      "File \u001b[0;32m~/anaconda3/envs/jcq3/lib/python3.10/site-packages/cadquery/cq.py:1234\u001b[0m, in \u001b[0;36mWorkplane.shell\u001b[0;34m(self, thickness, kind)\u001b[0m\n\u001b[1;32m   1230\u001b[0m solidRef \u001b[38;5;241m=\u001b[39m \u001b[38;5;28mself\u001b[39m\u001b[38;5;241m.\u001b[39mfindSolid()\n\u001b[1;32m   1232\u001b[0m faces \u001b[38;5;241m=\u001b[39m [f \u001b[38;5;28;01mfor\u001b[39;00m f \u001b[38;5;129;01min\u001b[39;00m \u001b[38;5;28mself\u001b[39m\u001b[38;5;241m.\u001b[39mobjects \u001b[38;5;28;01mif\u001b[39;00m \u001b[38;5;28misinstance\u001b[39m(f, Face)]\n\u001b[0;32m-> 1234\u001b[0m s \u001b[38;5;241m=\u001b[39m \u001b[43msolidRef\u001b[49m\u001b[38;5;241;43m.\u001b[39;49m\u001b[43mshell\u001b[49m\u001b[43m(\u001b[49m\u001b[43mfaces\u001b[49m\u001b[43m,\u001b[49m\u001b[43m \u001b[49m\u001b[43mthickness\u001b[49m\u001b[43m,\u001b[49m\u001b[43m \u001b[49m\u001b[43mkind\u001b[49m\u001b[38;5;241;43m=\u001b[39;49m\u001b[43mkind\u001b[49m\u001b[43m)\u001b[49m\n\u001b[1;32m   1235\u001b[0m \u001b[38;5;28;01mreturn\u001b[39;00m \u001b[38;5;28mself\u001b[39m\u001b[38;5;241m.\u001b[39mnewObject([s])\n",
      "File \u001b[0;32m~/anaconda3/envs/jcq3/lib/python3.10/site-packages/cadquery/occ_impl/shapes.py:2738\u001b[0m, in \u001b[0;36mMixin3D.shell\u001b[0;34m(self, faceList, thickness, tolerance, kind)\u001b[0m\n\u001b[1;32m   2735\u001b[0m shell_builder\u001b[38;5;241m.\u001b[39mBuild()\n\u001b[1;32m   2737\u001b[0m \u001b[38;5;28;01mif\u001b[39;00m faceList:\n\u001b[0;32m-> 2738\u001b[0m     rv \u001b[38;5;241m=\u001b[39m \u001b[38;5;28mself\u001b[39m\u001b[38;5;241m.\u001b[39m\u001b[38;5;18m__class__\u001b[39m(\u001b[43mshell_builder\u001b[49m\u001b[38;5;241;43m.\u001b[39;49m\u001b[43mShape\u001b[49m\u001b[43m(\u001b[49m\u001b[43m)\u001b[49m)\n\u001b[1;32m   2740\u001b[0m \u001b[38;5;28;01melse\u001b[39;00m:  \u001b[38;5;66;03m# if no faces provided a watertight solid will be constructed\u001b[39;00m\n\u001b[1;32m   2741\u001b[0m     s1 \u001b[38;5;241m=\u001b[39m \u001b[38;5;28mself\u001b[39m\u001b[38;5;241m.\u001b[39m\u001b[38;5;18m__class__\u001b[39m(shell_builder\u001b[38;5;241m.\u001b[39mShape())\u001b[38;5;241m.\u001b[39mShells()[\u001b[38;5;241m0\u001b[39m]\u001b[38;5;241m.\u001b[39mwrapped\n",
      "\u001b[0;31mStdFail_NotDone\u001b[0m: BRep_API: command not done"
     ]
    }
   ],
   "source": [
    "rkn = [3,5,8,5, 2]\n",
    "#rkn = [6,6,6,8]\n",
    "switchHoleSize= 13.9\n",
    "config=Config( rkn, \n",
    "              shape=Shape.LEAN, \n",
    "                  caseHeight=20, \n",
    "              plateThickness=1,  \n",
    "              cs= switchHoleSize+3.4505, \n",
    "              rs= switchHoleSize+5.508,\n",
    "             switchHoleSize= switchHoleSize,\n",
    "                 caseGap=1.0,\n",
    "                 wallThickness=1.2,)\n",
    "pl = make_plate(config, holes=True)\n",
    "case = make_case(config)"
   ]
  },
  {
   "cell_type": "code",
   "execution_count": 5,
   "id": "c3ddae58",
   "metadata": {},
   "outputs": [
    {
     "name": "stdout",
     "output_type": "stream",
     "text": [
      "100% ⋮————————————————————————————————————————————————————————————⋮ (2/2)  0.65s\n"
     ]
    },
    {
     "data": {
      "application/vnd.jupyter.widget-view+json": {
       "model_id": "2cc089280ec44cfe87fccbe307f74368",
       "version_major": 2,
       "version_minor": 0
      },
      "text/plain": [
       "CadViewerWidget(anchor=None, cad_width=640, glass=False, height=480, pinning=False, theme='light', title=None,…"
      ]
     },
     "metadata": {},
     "output_type": "display_data"
    },
    {
     "data": {
      "text/html": [
       "<div></div>"
      ],
      "text/plain": [
       "<IPython.core.display.HTML object>"
      ]
     },
     "metadata": {},
     "output_type": "display_data"
    }
   ],
   "source": [
    "assy = cq.Assembly()\n",
    "assy.add(case)\n",
    "assy.add(pl,loc=cq.Location(cq.Vector(0,0,18)) )"
   ]
  },
  {
   "cell_type": "code",
   "execution_count": null,
   "id": "7663ca63",
   "metadata": {},
   "outputs": [],
   "source": []
  }
 ],
 "metadata": {
  "kernelspec": {
   "display_name": "Python 3 (ipykernel)",
   "language": "python",
   "name": "python3"
  },
  "language_info": {
   "codemirror_mode": {
    "name": "ipython",
    "version": 3
   },
   "file_extension": ".py",
   "mimetype": "text/x-python",
   "name": "python",
   "nbconvert_exporter": "python",
   "pygments_lexer": "ipython3",
   "version": "3.10.13"
  }
 },
 "nbformat": 4,
 "nbformat_minor": 5
}
