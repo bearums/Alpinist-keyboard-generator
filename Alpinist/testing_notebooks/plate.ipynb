{
 "cells": [
  {
   "cell_type": "markdown",
   "id": "547cb125",
   "metadata": {},
   "source": [
    "## TODO\n",
    "\n",
    "- add screwholes to plate"
   ]
  },
  {
   "cell_type": "code",
   "execution_count": 9,
   "id": "f3bc9e0f",
   "metadata": {},
   "outputs": [
    {
     "name": "stdout",
     "output_type": "stream",
     "text": [
      "Overwriting auto display for cadquery Workplane and Shape\n",
      "\n",
      "Enabling jupyter_cadquery replay\n"
     ]
    },
    {
     "name": "stderr",
     "output_type": "stream",
     "text": [
      "/home/ben/anaconda3/envs/jcq3/lib/python3.10/site-packages/quaternion/calculus.py:310: NumbaDeprecationWarning: \u001b[1mThe 'nopython' keyword argument was not supplied to the 'numba.jit' decorator. The implicit default value for this argument is currently False, but it will be changed to True in Numba 0.59.0. See https://numba.readthedocs.io/en/stable/reference/deprecation.html#deprecation-of-object-mode-fall-back-behaviour-when-using-jit for details.\u001b[0m\n",
      "  def fd_indefinite_integral(f, t):\n"
     ]
    }
   ],
   "source": [
    "import cadquery as cq\n",
    "\n",
    "from jupyter_cadquery import (\n",
    "    versions,\n",
    "    show, PartGroup, Part, \n",
    "    get_viewer, close_viewer, get_viewers, close_viewers, open_viewer, set_defaults, get_defaults, open_viewer,\n",
    "    get_pick,\n",
    ")\n",
    "\n",
    "from jupyter_cadquery.replay import replay, enable_replay, disable_replay\n",
    "''\n",
    "enable_replay(False)\n",
    "\n",
    "set_defaults(\n",
    "    cad_width=640, \n",
    "    height=480, \n",
    ")\n",
    "\n",
    "from plate import Config, Shape, get_key_positions, get_key_hole_shape, get_keys, get_base\n",
    "\n",
    "from functools import partial\n",
    "import math"
   ]
  },
  {
   "cell_type": "code",
   "execution_count": 5,
   "id": "3fbd3f58",
   "metadata": {},
   "outputs": [],
   "source": [
    "import sys\n",
    "sys.path.append('../')\n",
    "sys.path.append('../examples')\n",
    "from original import config\n",
    "from config import Config\n",
    "import cadquery as cq"
   ]
  },
  {
   "cell_type": "code",
   "execution_count": 52,
   "id": "4ad66bf1",
   "metadata": {},
   "outputs": [],
   "source": [
    "def get_screw_positions(config: Config) -> [(float, float)]:\n",
    "    sp=[]\n",
    "    x_centre = max(config.row_key_numbers)* config.rowSpacing*0.5\n",
    "    row_holes = config.row_key_numbers\n",
    "    print(row_holes)\n",
    "    nrows = len(config.row_key_numbers)\n",
    "    for col_num in range(0,nrows,1):    \n",
    "        row_size = row_holes[col_num]\n",
    "        centre = row_size* config.rowSpacing*0.5\n",
    "\n",
    "        if centre != x_centre:\n",
    "            x_trans = x_centre - centre\n",
    "        else:\n",
    "            x_trans = 0\n",
    "            \n",
    "        if row_size%2 ==0: #for rows with even key numbers\n",
    "            print(col_num, row_size)\n",
    "            for row_num in range(1,row_size, 2):\n",
    "                hole_x_pos = config.rowSpacing*row_num+x_trans-0.5*config.rowSpacing\n",
    "                hole_y_pos = config.columnSpacing*col_num+0.0*config.columnSpacing\n",
    "                sp.append((hole_x_pos, hole_y_pos))\n",
    "                \n",
    "        else: # for rows with odd key numbers\n",
    "            print(col_num, row_size)\n",
    "            for row_num in range(1,row_size, 2):\n",
    "                hole_x_pos = config.rowSpacing*row_num+x_trans-0.5*config.rowSpacing\n",
    "                hole_y_pos = config.columnSpacing*col_num+0.0*config.columnSpacing\n",
    "                sp.append((hole_x_pos, hole_y_pos))\n",
    "    return sp\n",
    "\n",
    "def make_plate(config:Config, holes=True) -> cq.Sketch:\n",
    "    key_hole_shape = get_key_hole_shape(config)\n",
    "    kp = get_key_positions(config)\n",
    "    plate = get_base(config, kp, thickness=config.plateThickness, base_fillet=config.edgeFillet, window=False).cut(get_keys(kp, key_hole_shape, config))\n",
    "    hole_psns= get_screw_positions(config)\n",
    "    if holes:\n",
    "        plate= plate.faces(\">Z\").workplane().pushPoints(hole_psns).hole(config.screwHoleDiamater)\n",
    "    return plate\n"
   ]
  },
  {
   "cell_type": "code",
   "execution_count": 53,
   "id": "571ba438",
   "metadata": {},
   "outputs": [
    {
     "name": "stdout",
     "output_type": "stream",
     "text": [
      "[7, 10, 10, 10]\n",
      "0 7\n",
      "1 10\n",
      "2 10\n",
      "3 10\n"
     ]
    },
    {
     "data": {
      "application/vnd.jupyter.widget-view+json": {
       "model_id": "9448ce204faa4151a2baef230e958887",
       "version_major": 2,
       "version_minor": 0
      },
      "text/plain": [
       "CadViewerWidget(anchor=None, cad_width=640, glass=False, height=480, pinning=False, theme='light', title=None,…"
      ]
     },
     "metadata": {},
     "output_type": "display_data"
    },
    {
     "data": {
      "text/html": [
       "<div></div>"
      ],
      "text/plain": [
       "<IPython.core.display.HTML object>"
      ]
     },
     "metadata": {},
     "output_type": "display_data"
    }
   ],
   "source": [
    "make_plate(config)"
   ]
  },
  {
   "cell_type": "code",
   "execution_count": null,
   "id": "c6d18825",
   "metadata": {},
   "outputs": [],
   "source": []
  }
 ],
 "metadata": {
  "kernelspec": {
   "display_name": "Python 3 (ipykernel)",
   "language": "python",
   "name": "python3"
  },
  "language_info": {
   "codemirror_mode": {
    "name": "ipython",
    "version": 3
   },
   "file_extension": ".py",
   "mimetype": "text/x-python",
   "name": "python",
   "nbconvert_exporter": "python",
   "pygments_lexer": "ipython3",
   "version": "3.10.13"
  }
 },
 "nbformat": 4,
 "nbformat_minor": 5
}
