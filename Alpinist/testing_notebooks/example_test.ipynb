{
 "cells": [
  {
   "cell_type": "code",
   "execution_count": 6,
   "metadata": {},
   "outputs": [
    {
     "name": "stderr",
     "output_type": "stream",
     "text": [
      "/home/ben/anaconda3/envs/jcq3/lib/python3.10/site-packages/quaternion/calculus.py:310: NumbaDeprecationWarning: \u001b[1mThe 'nopython' keyword argument was not supplied to the 'numba.jit' decorator. The implicit default value for this argument is currently False, but it will be changed to True in Numba 0.59.0. See https://numba.readthedocs.io/en/stable/reference/deprecation.html#deprecation-of-object-mode-fall-back-behaviour-when-using-jit for details.\u001b[0m\n",
      "  def fd_indefinite_integral(f, t):\n"
     ]
    },
    {
     "name": "stdout",
     "output_type": "stream",
     "text": [
      "Overwriting auto display for cadquery Workplane and Shape\n",
      "\n",
      "Enabling jupyter_cadquery replay\n"
     ]
    }
   ],
   "source": [
    "from jupyter_cadquery.replay import replay, enable_replay, disable_replay\n",
    "''\n",
    "enable_replay(False)\n"
   ]
  },
  {
   "cell_type": "code",
   "execution_count": 40,
   "metadata": {},
   "outputs": [
    {
     "name": "stdout",
     "output_type": "stream",
     "text": [
      "xxxx\n"
     ]
    }
   ],
   "source": [
    "import cadquery as cq\n",
    "import sys\n",
    "import os\n",
    "sys.path.append('../')\n",
    "from config import read_config_from_json\n",
    "from plate import make_plate\n",
    "from case import make_case, get_distance_between_two_shapes\n",
    "\n",
    "config_dict = \"\"\"{\n",
    "    \"row_key_numbers\": [\n",
    "        7,\n",
    "        10,\n",
    "        10,\n",
    "        10\n",
    "    ],\n",
    "    \"columnSpacing\": 19,\n",
    "    \"rowSpacing\": 19,\n",
    "    \"plateThickness\": 2,\n",
    "    \"screwHoleDiamater\": 2.4,\n",
    "    \"switchHoleSize\": 13.9,\n",
    "    \"shape\": 0,\n",
    "    \"notched_keyhole\": true,\n",
    "    \"caseHeight\": 22,\n",
    "    \"caseGap\": 1.0,\n",
    "    \"wallThickness\": 1.6,\n",
    "    \"floorThickness\": 3.0,\n",
    "    \"edgeFillet\": 3,\n",
    "    \"bottomFillet\": 2,\n",
    "    \"controller\": {\n",
    "        \"name\": \"Pi Pico\",\n",
    "        \"board_dimension_x\": 51.0,\n",
    "        \"board_dimension_y\": 21.0,\n",
    "        \"screw_hole_x\": 47.0,\n",
    "        \"screw_hole_y\": 11.4\n",
    "    },\n",
    "    \"controllerYOffset\": 6,\n",
    "    \"controllerBoxThickness\": 2\n",
    "}\"\"\"\n",
    "\n",
    "config = read_config_from_json(string=config_dict)\n",
    "\n",
    "def cut_holes_in_top_plate(top):\n",
    "    top_plate_width = get_distance_between_two_shapes(top.edges('|Y and >Z'))['x']\n",
    "    led_num=3\n",
    "    led_array_start_x = -6\n",
    "    led_spacing = 7\n",
    "    led_hole_dia = 5.15\n",
    "\n",
    "    #cut holes for LEDs\n",
    "    for i in range(0,led_num):\n",
    "        top= (top.faces('>Z').workplane(centerOption=\"CenterOfBoundBox\")\n",
    "            .moveTo(led_array_start_x - i*led_spacing,(-0.5))\n",
    "            .circle(0.5*led_hole_dia)\n",
    "            .cutThruAll()\n",
    "        )\n",
    "\n",
    "    # add slot for potentiometer\n",
    "    circle_dia = 9.1\n",
    "    flat_width = 8.1\n",
    "    encoder_hole_centre = (16, -1)\n",
    "    top = (top.faces('>Z').workplane(centerOption=\"CenterOfBoundBox\")\n",
    "        .center(encoder_hole_centre[0],encoder_hole_centre[1])\n",
    "        .moveTo(-0.5*flat_width, ((0.5*circle_dia)**2 - (0.5*flat_width)**2)**0.5)\n",
    "        .threePointArc((0, 0.5*circle_dia), (0.5*flat_width, ((0.5*circle_dia)**2 - (0.5*flat_width)**2)**0.5))\n",
    "        .vLine(-10)\n",
    "        .hLine(-flat_width)\n",
    "        .vLine(10)\n",
    "        .wire()\n",
    "        .cutThruAll()\n",
    "    )\n",
    "    return top\n",
    "\n",
    "def cut_aviator_connector_hole(case):\n",
    "\n",
    "    aviator_hole_dia = 6.25\n",
    "    aviator_flat_width = 5.3\n",
    "    aviator_hole_height =  1\n",
    "\n",
    "    case = (case.faces(\">Y\").workplane(centerOption='CenterOfBoundBox')\n",
    "                    .center(0,aviator_hole_height)\n",
    "                    .moveTo(-0.5*aviator_flat_width, -((0.5*aviator_hole_dia)**2 - (0.5*aviator_flat_width)**2)**0.5)\n",
    "                    .threePointArc((0, -0.5*aviator_hole_dia), (0.5*aviator_flat_width, -((0.5*aviator_hole_dia)**2 - (0.5*aviator_flat_width)**2)**0.5))\n",
    "                    .lineTo(0.5*aviator_flat_width,((0.5*aviator_hole_dia)**2 - (0.5*aviator_flat_width)**2)**0.5)\n",
    "                    .threePointArc((0, 0.5*aviator_hole_dia), (-0.5*aviator_flat_width, ((0.5*aviator_hole_dia)**2 - (0.5*aviator_flat_width)**2)**0.5))\n",
    "                    .close()\n",
    "                    .cutBlind(until='next')\n",
    "                    )\n",
    "    return case \n",
    "\n",
    "def get_screw_positions_(config):\n",
    "    print('xxxx')\n",
    "    sp=[]\n",
    "    x_centre = max(config.row_key_numbers)* config.rowSpacing*0.5\n",
    "    row_holes = config.row_key_numbers\n",
    "    nrows = len(config.row_key_numbers)\n",
    "    for col_num in range(0,nrows,1):    \n",
    "        row_size = row_holes[col_num]\n",
    "        centre = row_size* config.rowSpacing*0.5\n",
    "\n",
    "        if centre != x_centre:\n",
    "            x_trans = x_centre - centre\n",
    "        else:\n",
    "            x_trans = 0\n",
    "            \n",
    "        if row_size%2 ==0: #for rows with even key numbers\n",
    "            for row_num in [1, 0.5*row_size,row_size-1]:#range(1,row_size, 2):\n",
    "                hole_x_pos = config.rowSpacing*row_num+x_trans-0.5*config.rowSpacing\n",
    "                hole_y_pos = config.columnSpacing*col_num+0.0*config.columnSpacing\n",
    "                sp.append((hole_x_pos, hole_y_pos))\n",
    "                \n",
    "        else: # for rows with odd key numbers\n",
    "            for row_num in [1, row_size-1]:#range(1,row_size, 2):\n",
    "                hole_x_pos = config.rowSpacing*row_num+x_trans-0.5*config.rowSpacing\n",
    "                hole_y_pos = config.columnSpacing*col_num+0.0*config.columnSpacing\n",
    "                sp.append((hole_x_pos, hole_y_pos))\n",
    "    return sp\n",
    "# case = make_case(config, \n",
    "#                 get_screw_positions=get_screw_positions_,\n",
    "#                  #modify_controller_box=cut_holes_in_top_plate,\n",
    "#                  #cut_hole_for_connector=cut_aviator_connector_hole\n",
    "#                  )\n",
    "\n",
    "plate= make_plate(config, get_screw_hole_positions=get_screw_positions_)\n",
    "#assy = cq.Assembly()\n",
    "#assy.add(case)\n",
    "#assy.add(plate,loc=cq.Location(cq.Vector(0,0,18)) )\n",
    "\n",
    "#file_location = os.path.abspath(os.path.dirname(__file__))\n",
    "\n",
    "#assy.save( os.path.join(file_location, \"KB.stl\"))"
   ]
  },
  {
   "cell_type": "code",
   "execution_count": 41,
   "metadata": {},
   "outputs": [
    {
     "data": {
      "application/vnd.jupyter.widget-view+json": {
       "model_id": "e02339a61c584a768ca1cbf1d0e8b1c2",
       "version_major": 2,
       "version_minor": 0
      },
      "text/plain": [
       "CadViewerWidget(anchor=None, cad_width=800, glass=False, height=600, pinning=False, theme='light', title=None,…"
      ]
     },
     "metadata": {},
     "output_type": "display_data"
    },
    {
     "data": {
      "text/html": [
       "<div></div>"
      ],
      "text/plain": [
       "<IPython.core.display.HTML object>"
      ]
     },
     "metadata": {},
     "output_type": "display_data"
    }
   ],
   "source": [
    "plate"
   ]
  },
  {
   "cell_type": "code",
   "execution_count": null,
   "metadata": {},
   "outputs": [],
   "source": []
  }
 ],
 "metadata": {
  "kernelspec": {
   "display_name": "jcq3",
   "language": "python",
   "name": "python3"
  },
  "language_info": {
   "codemirror_mode": {
    "name": "ipython",
    "version": 3
   },
   "file_extension": ".py",
   "mimetype": "text/x-python",
   "name": "python",
   "nbconvert_exporter": "python",
   "pygments_lexer": "ipython3",
   "version": "3.10.13"
  }
 },
 "nbformat": 4,
 "nbformat_minor": 2
}
