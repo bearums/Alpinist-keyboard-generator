{
 "cells": [
  {
   "cell_type": "code",
   "execution_count": 1,
   "id": "a94dfa0a",
   "metadata": {},
   "outputs": [
    {
     "name": "stdout",
     "output_type": "stream",
     "text": [
      "Overwriting auto display for cadquery Workplane and Shape\n",
      "\n",
      "Enabling jupyter_cadquery replay\n"
     ]
    },
    {
     "name": "stderr",
     "output_type": "stream",
     "text": [
      "/home/ben/anaconda3/envs/jcq3/lib/python3.10/site-packages/quaternion/calculus.py:310: NumbaDeprecationWarning: \u001b[1mThe 'nopython' keyword argument was not supplied to the 'numba.jit' decorator. The implicit default value for this argument is currently False, but it will be changed to True in Numba 0.59.0. See https://numba.readthedocs.io/en/stable/reference/deprecation.html#deprecation-of-object-mode-fall-back-behaviour-when-using-jit for details.\u001b[0m\n",
      "  def fd_indefinite_integral(f, t):\n"
     ]
    }
   ],
   "source": [
    "import cadquery as cq\n",
    "\n",
    "from jupyter_cadquery import (\n",
    "    versions,\n",
    "    show, PartGroup, Part, \n",
    "    get_viewer, close_viewer, get_viewers, close_viewers, open_viewer, set_defaults, get_defaults, open_viewer,\n",
    "    get_pick,\n",
    ")\n",
    "\n",
    "from jupyter_cadquery.replay import replay, enable_replay, disable_replay\n",
    "''\n",
    "enable_replay(False)\n",
    "\n",
    "set_defaults(\n",
    "    cad_width=640, \n",
    "    height=480, \n",
    ")\n",
    "\n",
    "import sys\n",
    "sys.path.append('../')\n",
    "from config import Config, Shape\n",
    "from plate import get_base, get_screw_positions, get_key_positions, make_plate\n",
    "#from case import make_case"
   ]
  },
  {
   "cell_type": "code",
   "execution_count": 2,
   "id": "0daf9313",
   "metadata": {},
   "outputs": [],
   "source": [
    "rkn = [10,10,10,8]\n",
    "\n",
    "config=Config(rkn, shape=Shape.LEAN)\n",
    "kp = get_key_positions(config)"
   ]
  },
  {
   "cell_type": "code",
   "execution_count": 30,
   "id": "43922f03",
   "metadata": {},
   "outputs": [],
   "source": [
    "def make_case(config:Config) -> cq.Sketch:\n",
    "    \"\"\"TODO: add screw holes for microcontroller (check they are in right position!!)\n",
    "            make separate floor thickness\n",
    "            change fillet parameters\n",
    "            add module for leds, encoder and aviator\n",
    "            add screw holes\"\"\"\n",
    "    \n",
    "    # remove hard coding and put into Config!\n",
    "    controller_y_offset = 5\n",
    "    controllerBoxLength = config.controller.board_dimension_y - controller_y_offset\n",
    "    controllerBoxWidth=config.controller.board_dimension_x + 5\n",
    "    \n",
    "    kp = get_key_positions(config)\n",
    "    x_centre = 0.5*(min([x[0] for x in list(kp.values())])+ max([x[0] for x in list(kp.values())]))\n",
    "    \n",
    "    foot_x, foot_y = (config.columnSpacing / 2 + config.switchHoleSize, config.rowSpacing / 2 +\n",
    "                          config.switchHoleSize) if config.shape == Shape.LEAN else (config.switchHoleSize, config.switchHoleSize)\n",
    "    case = cq.Sketch()\n",
    "\n",
    "    case = case.push(list(kp.values()))\n",
    "    \n",
    "    \n",
    "    case = (case.rect(foot_x+(config.caseGap+config.wallThickness)*2, \n",
    "                      foot_y+(config.caseGap+config.wallThickness)*2)\n",
    "            .faces()\n",
    "            .clean()\n",
    "            .offset(config.wallThickness)\n",
    "            .clean())\n",
    "    \n",
    "    \n",
    "    case= (cq.Workplane()\n",
    "           .placeSketch(case)\n",
    "           .extrude(config.caseHeight))\n",
    "    \n",
    "    # add box for microcontroller\n",
    "    case = (case\n",
    "             .edges('>Y and <Z')\n",
    "             .workplane(centerOption=\"CenterOfBoundBox\", invert=False)\n",
    "             .box(controllerBoxWidth,controllerBoxLength, config.caseHeight, centered=[True,False,False],combine=False)\n",
    "             .faces('<Z')\n",
    "            .workplane(centerOption=\"CenterOfBoundBox\")\n",
    "            .tag(\"controllerBox\")\n",
    "            .union(case)\n",
    "            )\n",
    "    \n",
    "\n",
    "    # scoop out interior and fillet edges\n",
    "    case= (case.faces(\"+Z\")\n",
    "            .shell(-config.wallThickness)\n",
    "            .edges(\"|Z\")\n",
    "            .fillet(3))\n",
    "    \n",
    "    \n",
    "    # add controllerbox holes.\n",
    "    # TODO - remove hardcoding on screw hole size\n",
    "    case = (case.workplaneFromTagged(\"controllerBox\")\n",
    "            .rect(config.controller.screw_hole_x,\n",
    "                   config.controller.screw_hole_y- config.wallThickness - controller_y_offset - (config.controller.board_dimension_y -config.controller.screw_hole_y)*0.5, \n",
    "                   forConstruction=True ,centered=[True,True,True])\n",
    "            .vertices()\n",
    "            .cskHole(2.4, 4.8, 82, depth=None))\n",
    "    \n",
    "    \n",
    "    return case"
   ]
  },
  {
   "cell_type": "code",
   "execution_count": 31,
   "id": "5a862487",
   "metadata": {},
   "outputs": [
    {
     "data": {
      "application/vnd.jupyter.widget-view+json": {
       "model_id": "0141320431f44a48a15211ba79578cf9",
       "version_major": 2,
       "version_minor": 0
      },
      "text/plain": [
       "CadViewerWidget(anchor=None, cad_width=640, glass=False, height=480, pinning=False, theme='light', title=None,…"
      ]
     },
     "metadata": {},
     "output_type": "display_data"
    },
    {
     "data": {
      "text/html": [
       "<div></div>"
      ],
      "text/plain": [
       "<IPython.core.display.HTML object>"
      ]
     },
     "metadata": {},
     "output_type": "display_data"
    }
   ],
   "source": [
    "case = make_case(config)\n",
    "case"
   ]
  },
  {
   "cell_type": "code",
   "execution_count": null,
   "id": "28b53e9d",
   "metadata": {},
   "outputs": [],
   "source": []
  },
  {
   "cell_type": "code",
   "execution_count": null,
   "id": "adc849aa",
   "metadata": {},
   "outputs": [],
   "source": [
    "controllerBoxLength = 20\n",
    "controllerBoxWidth=80\n",
    "\n",
    "# find position of controller box\n",
    "# add controller box corners to kp\n",
    "if True:\n",
    "\n",
    "    #x_centre = max(config.row_key_num)* config.rowSpacing*0.5\n",
    "    x_centre = 0.5*(min([x[0] for x in list(kp.values())])+ max([x[0] for x in list(kp.values())]))\n",
    "    \n",
    "    foot_x, foot_y = (config.columnSpacing / 2 + config.switchHoleSize, config.rowSpacing / 2 +\n",
    "                          config.switchHoleSize) if config.shape == Shape.LEAN else (config.switchHoleSize, config.switchHoleSize)\n",
    "    case = cq.Sketch()\n",
    "\n",
    "    \n",
    "    kp = get_key_positions(config)\n",
    "    \n",
    "    \n",
    "    points_to_push = list(kp.values())\n",
    "    case = case.push(points_to_push)\n",
    "\n",
    "    \n",
    "    case = (case.rect(foot_x+(config.caseGap+wall_thickness)*2, foot_y+(config.caseGap+wall_thickness)*2)\n",
    "            .faces()\n",
    "            .clean()\n",
    "            .offset(config.wallThickness)\n",
    "            .clean())\n",
    "    case=cq.Workplane().placeSketch(case).extrude(config.caseHeight)\n",
    "    case = (case\n",
    "            .edges('>Y and <Z')\n",
    "            .workplane(centerOption=\"CenterOfBoundBox\")\n",
    "            .box(controllerBoxWidth,controllerBoxLength, config.caseHeight, centered=[True,False,False])\n",
    "           )\n",
    "\n",
    "    case=case.faces(\"+Z\").shell(-wall_thickness).edges(\"|Z\").fillet(3)"
   ]
  },
  {
   "cell_type": "code",
   "execution_count": null,
   "id": "788ea28a",
   "metadata": {},
   "outputs": [],
   "source": [
    "case"
   ]
  },
  {
   "cell_type": "code",
   "execution_count": null,
   "id": "0539a9e0",
   "metadata": {},
   "outputs": [],
   "source": [
    "0.5*(min([x[0] for x in list(kp.values())])+ max([x[0] for x in list(kp.values())]))"
   ]
  },
  {
   "cell_type": "code",
   "execution_count": null,
   "id": "e88fd8eb",
   "metadata": {},
   "outputs": [],
   "source": [
    "controllerBoxLength = 20\n",
    "controllerBoxWidth=80\n",
    "\n",
    "# find position of controller box\n",
    "# add controller box corners to kp\n",
    "if True:\n",
    "\n",
    "    #x_centre = max(config.row_key_num)* config.rowSpacing*0.5\n",
    "    x_centre = 0.5*(min([x[0] for x in list(kp.values())])+ max([x[0] for x in list(kp.values())]))\n",
    "    \n",
    "    foot_x, foot_y = (config.columnSpacing / 2 + config.switchHoleSize, config.rowSpacing / 2 +\n",
    "                          config.switchHoleSize) if config.shape == Shape.LEAN else (config.switchHoleSize, config.switchHoleSize)\n",
    "    case = cq.Sketch()\n",
    "\n",
    "    \n",
    "    kp = get_key_positions(config)\n",
    "    #points_to_push = [y[1] for y in list(filter( lambda x: x[0] not in idxs_to_drop, kp.items()))]\n",
    "    points_to_push=[]\n",
    "    for x in range(len(config.row_key_num)):\n",
    "            points_to_push.append((x,0))\n",
    "            points_to_push.append((x,config.row_key_num[x]-1))\n",
    "    #points_to_push.extend([(x_centre+0.5*controllerBoxWidth,80) ,(x_centre-0.5*controllerBoxWidth,80), (x_centre,80)])\n",
    "    points_to_push=[]\n",
    "    for x in range(len(config.row_key_num)):\n",
    "            points_to_push.append(kp[(x,0)])\n",
    "            points_to_push.append(kp[(x,list(reversed(config.row_key_num))[x]-1)])\n",
    "    case = case.push(points_to_push)\n",
    "    #case = case.push([(0,0) ,(10,10)])\n",
    "    \n",
    "    case = (case.rect(foot_x+(config.caseGap+wall_thickness)*2, foot_y+(config.caseGap+wall_thickness)*2)\n",
    "           .faces()\n",
    "           .clean()\n",
    "           .offset(config.wallThickness)\n",
    "           .clean())\n",
    "    case=cq.Workplane().placeSketch(case).extrude(config.caseHeight)\n",
    "\n",
    "    #case=case.faces(\"+Z\").shell(-wall_thickness).edges(\"|Z\").fillet(3)\n",
    "    \n",
    "case"
   ]
  },
  {
   "cell_type": "code",
   "execution_count": null,
   "id": "4d529454",
   "metadata": {},
   "outputs": [],
   "source": [
    "len(config.row_key_num), config.row_key_num"
   ]
  },
  {
   "cell_type": "code",
   "execution_count": null,
   "id": "bebce7e9",
   "metadata": {},
   "outputs": [],
   "source": []
  },
  {
   "cell_type": "code",
   "execution_count": null,
   "id": "2c6ce5fe",
   "metadata": {},
   "outputs": [],
   "source": [
    "kp[len(config.row_key_num)-1, 3]\n"
   ]
  },
  {
   "cell_type": "code",
   "execution_count": null,
   "id": "8aa65661",
   "metadata": {},
   "outputs": [],
   "source": [
    "[kp[len(config.row_key_num)-1, x] for x in range( 1, config.row_key_num[0])-1]"
   ]
  },
  {
   "cell_type": "code",
   "execution_count": null,
   "id": "2ffea0d0",
   "metadata": {},
   "outputs": [],
   "source": [
    "points_to_remove = [kp[len(config.row_key_num)-1, x] for x in range(  1,config.row_key_num[0]-1)]"
   ]
  },
  {
   "cell_type": "code",
   "execution_count": null,
   "id": "41a7ac4a",
   "metadata": {},
   "outputs": [],
   "source": [
    "idxs_to_drop = [(len(config.row_key_num)-1, x) for x in range(1, config.row_key_num[0]-1)]\n",
    "\n",
    "idxs_to_drop\n",
    "\n",
    "list(filter( lambda x: x[0] not in idxs_to_drop, kp.items()))"
   ]
  },
  {
   "cell_type": "code",
   "execution_count": null,
   "id": "1b71e5c3",
   "metadata": {},
   "outputs": [],
   "source": [
    "points_to_push = [y[1] for y in list(filter( lambda x: x[0] not in idxs_to_drop, kp.items()))]\n",
    "points_to_push.extend([(x_centre+0.5*controllerBoxWidth,80) ,(x_centre-0.5*controllerBoxWidth,80), (x_centre,80)])\n",
    "    "
   ]
  },
  {
   "cell_type": "code",
   "execution_count": null,
   "id": "04820436",
   "metadata": {},
   "outputs": [],
   "source": [
    "points_to_push"
   ]
  },
  {
   "cell_type": "code",
   "execution_count": null,
   "id": "e8b88b4a",
   "metadata": {},
   "outputs": [],
   "source": [
    "[ [(x,) for x in range(len(config.row_key_num))] for y in [0, config.row_key_num[x]-1]]"
   ]
  },
  {
   "cell_type": "code",
   "execution_count": null,
   "id": "5c00207a",
   "metadata": {},
   "outputs": [],
   "source": [
    "[[(j,i) for j in range(5)] for i in range(5)]"
   ]
  },
  {
   "cell_type": "code",
   "execution_count": null,
   "id": "66ea1de1",
   "metadata": {},
   "outputs": [],
   "source": [
    "[[(x,y) for y in [0, config.row_key_num[x]-1]] for x in range(len(config.row_key_num))]"
   ]
  },
  {
   "cell_type": "code",
   "execution_count": null,
   "id": "ca940965",
   "metadata": {},
   "outputs": [],
   "source": [
    "points_to_push=[]\n",
    "for x in range(len(config.row_key_num)):\n",
    "        points_to_push.append(kp[(x,0)])\n",
    "        points_to_push.append(kp[(x,list(reversed(config.row_key_num))[x]-1)])"
   ]
  },
  {
   "cell_type": "code",
   "execution_count": null,
   "id": "eb131e64",
   "metadata": {},
   "outputs": [],
   "source": [
    "points_to_push"
   ]
  },
  {
   "cell_type": "code",
   "execution_count": null,
   "id": "787e9bdf",
   "metadata": {},
   "outputs": [],
   "source": [
    "xx=(cq.Workplane('XY')\n",
    "             .box(10,20, config.caseHeight, centered=[True,False,False])\n",
    "             .pushPoints([(5,10)]).cskHole(2.4, 4.8, 82, depth=None)\n",
    ")\n",
    "\n",
    "xx"
   ]
  },
  {
   "cell_type": "code",
   "execution_count": null,
   "id": "64d29c87",
   "metadata": {},
   "outputs": [],
   "source": [
    "controllerBoxLength = config.controller.board_dimension_y -5\n",
    "controllerBoxWidth=config.controller.board_dimension_x + 5\n",
    "(cq.Workplane('XZ')\n",
    ".box(controllerBoxWidth,controllerBoxLength, config.caseHeight, centered=[True,False,False],combine=True)\n",
    " .faces(\"<Z\")\n",
    "    .workplane()\n",
    "             .rect(config.controller.screw_hole_x-5,\n",
    "                   config.controller.screw_hole_y, \n",
    "                   forConstruction=True )\n",
    "            .vertices()\n",
    "            .cskHole(2.2, 4.8, 82, depth=None)\n",
    ")"
   ]
  },
  {
   "cell_type": "code",
   "execution_count": null,
   "id": "6cc7c9c8",
   "metadata": {},
   "outputs": [],
   "source": []
  }
 ],
 "metadata": {
  "kernelspec": {
   "display_name": "Python 3 (ipykernel)",
   "language": "python",
   "name": "python3"
  },
  "language_info": {
   "codemirror_mode": {
    "name": "ipython",
    "version": 3
   },
   "file_extension": ".py",
   "mimetype": "text/x-python",
   "name": "python",
   "nbconvert_exporter": "python",
   "pygments_lexer": "ipython3",
   "version": "3.10.13"
  }
 },
 "nbformat": 4,
 "nbformat_minor": 5
}
