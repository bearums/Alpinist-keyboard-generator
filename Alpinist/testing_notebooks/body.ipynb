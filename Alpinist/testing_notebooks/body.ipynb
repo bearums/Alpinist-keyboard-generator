{
 "cells": [
  {
   "cell_type": "code",
   "execution_count": 1,
   "id": "a94dfa0a",
   "metadata": {},
   "outputs": [
    {
     "name": "stdout",
     "output_type": "stream",
     "text": [
      "Overwriting auto display for cadquery Workplane and Shape\n",
      "\n",
      "Enabling jupyter_cadquery replay\n"
     ]
    },
    {
     "name": "stderr",
     "output_type": "stream",
     "text": [
      "/home/ben/anaconda3/envs/jcq3/lib/python3.10/site-packages/quaternion/calculus.py:310: NumbaDeprecationWarning: \u001b[1mThe 'nopython' keyword argument was not supplied to the 'numba.jit' decorator. The implicit default value for this argument is currently False, but it will be changed to True in Numba 0.59.0. See https://numba.readthedocs.io/en/stable/reference/deprecation.html#deprecation-of-object-mode-fall-back-behaviour-when-using-jit for details.\u001b[0m\n",
      "  def fd_indefinite_integral(f, t):\n"
     ]
    }
   ],
   "source": [
    "import cadquery as cq\n",
    "\n",
    "from jupyter_cadquery import (\n",
    "    versions,\n",
    "    show, PartGroup, Part, \n",
    "    get_viewer, close_viewer, get_viewers, close_viewers, open_viewer, set_defaults, get_defaults, open_viewer,\n",
    "    get_pick,\n",
    ")\n",
    "\n",
    "from jupyter_cadquery.replay import replay, enable_replay, disable_replay\n",
    "''\n",
    "enable_replay(False)\n",
    "\n",
    "set_defaults(\n",
    "    cad_width=640, \n",
    "    height=480, \n",
    ")\n",
    "\n",
    "import sys\n",
    "sys.path.append('../')\n",
    "from config import Config, Shape\n",
    "from plate import get_base, get_screw_positions, get_key_positions, make_plate\n",
    "from case import get_basic_shape,  cut_aviator_connector_hole, get_distance_between_two_vertices,  add_microcontrollerbox"
   ]
  },
  {
   "cell_type": "code",
   "execution_count": 14,
   "id": "988198f4",
   "metadata": {},
   "outputs": [
    {
     "name": "stdout",
     "output_type": "stream",
     "text": [
      "100% ⋮————————————————————————————————————————————————————————————⋮ (2/2)  0.00s\n"
     ]
    },
    {
     "data": {
      "application/vnd.jupyter.widget-view+json": {
       "model_id": "1cd70c91b0a34bdd9f75b07a1bcaf889",
       "version_major": 2,
       "version_minor": 0
      },
      "text/plain": [
       "CadViewerWidget(anchor=None, cad_width=640, glass=False, height=480, pinning=False, theme='light', title=None,…"
      ]
     },
     "metadata": {},
     "output_type": "display_data"
    },
    {
     "data": {
      "text/html": [
       "<div></div>"
      ],
      "text/plain": [
       "<IPython.core.display.HTML object>"
      ]
     },
     "metadata": {},
     "output_type": "display_data"
    }
   ],
   "source": []
  },
  {
   "cell_type": "code",
   "execution_count": 2,
   "id": "629202b8",
   "metadata": {},
   "outputs": [],
   "source": [
    "def make_controller_box_top_plate(case,config):\n",
    "\n",
    "    controllerBoxLength =  get_distance_between_two_vertices(case.faces(tag='controllerBoxTop').vertices('<X'))['y']\n",
    "    controllerBoxWidth = get_distance_between_two_vertices(case.faces(tag='controllerBoxTop').vertices('<Y'))['x']\n",
    "\n",
    "    controller_box_top = (case\n",
    "                        .faces(tag='controllerBoxTop')\n",
    "                        .workplane(centerOption=\"CenterOfBoundBox\", invert=True)\n",
    "                        .move(0,config.wallThickness)\n",
    "                        .box(controllerBoxWidth,controllerBoxLength, config.controllerBoxThickness, centered=[True,True,False],combine=False)\n",
    "    )\n",
    "\n",
    "\n",
    "    return controller_box_top"
   ]
  },
  {
   "cell_type": "code",
   "execution_count": 2,
   "id": "0daf9313",
   "metadata": {},
   "outputs": [],
   "source": [
    "\n",
    "rkn = [4,8,8,6]\n",
    "config=Config(rkn, shape=Shape.LEAN, floorThickness=3)\n",
    "kp = get_key_positions(config)"
   ]
  },
  {
   "cell_type": "code",
   "execution_count": 10,
   "id": "507cc0d2",
   "metadata": {},
   "outputs": [
    {
     "data": {
      "text/plain": [
       "71.8"
      ]
     },
     "execution_count": 10,
     "metadata": {},
     "output_type": "execute_result"
    }
   ],
   "source": [
    "case= get_basic_shape(config)\n",
    "\n",
    "case = case.edges('|Z').fillet(3)\n",
    "\n",
    "case.edges(tag='topEdge').val().Center().y"
   ]
  },
  {
   "cell_type": "code",
   "execution_count": 34,
   "id": "2816d799",
   "metadata": {},
   "outputs": [],
   "source": [
    "\n",
    "from cadquery import Selector\n",
    "class CustomisableSelector(Selector):\n",
    "    def set_filter(self, filter_function):\n",
    "        self.filter = filter_function\n",
    "\n"
   ]
  },
  {
   "cell_type": "code",
   "execution_count": 93,
   "id": "e5367f75",
   "metadata": {},
   "outputs": [],
   "source": [
    "ff = CustomisableSelector()\n",
    "\n",
    "def filter_func(objectList):\n",
    "        r = []\n",
    "        for o in objectList:\n",
    "            if o.Center().y > case.edges(tag='topEdge').val().Center().y  :\n",
    "                r.append(o)\n",
    "        return r\n",
    "\n",
    "ff.set_filter(filter_func)\n",
    "\n",
    "a=case.edges('>Z').edges(ff).wire().toPending()#.extrude(1)"
   ]
  },
  {
   "cell_type": "code",
   "execution_count": 186,
   "id": "30ddca66",
   "metadata": {},
   "outputs": [
    {
     "name": "stdout",
     "output_type": "stream",
     "text": [
      "100% ⋮————————————————————————————————————————————————————————————⋮ (2/2)  0.02s\n"
     ]
    },
    {
     "data": {
      "application/vnd.jupyter.widget-view+json": {
       "model_id": "78a54b1e1a84454b916e01476ac97118",
       "version_major": 2,
       "version_minor": 0
      },
      "text/plain": [
       "CadViewerWidget(anchor=None, cad_width=640, glass=False, height=480, pinning=False, theme='light', title=None,…"
      ]
     },
     "metadata": {},
     "output_type": "display_data"
    },
    {
     "data": {
      "text/html": [
       "<div></div>"
      ],
      "text/plain": [
       "<IPython.core.display.HTML object>"
      ]
     },
     "metadata": {},
     "output_type": "display_data"
    }
   ],
   "source": [
    "edges = case.faces('>Z').edges(ff).toPending()#.vals()\n",
    "edges\n",
    "#case.edges('>Z').edges(ff).wires().val().assembleEdges(edges)"
   ]
  },
  {
   "cell_type": "code",
   "execution_count": 95,
   "id": "b04d7f81",
   "metadata": {},
   "outputs": [
    {
     "data": {
      "text/plain": [
       "[35.5, 38.5, 38.5, 41.5, 97.5, 94.5, 94.5, 91.5]"
      ]
     },
     "execution_count": 95,
     "metadata": {},
     "output_type": "execute_result"
    }
   ],
   "source": [
    "a.vertices()\n",
    "\n",
    "[v.toTuple()[0] for v in a.vertices().vals()]"
   ]
  },
  {
   "cell_type": "code",
   "execution_count": 182,
   "id": "8f835440",
   "metadata": {},
   "outputs": [
    {
     "data": {
      "application/vnd.jupyter.widget-view+json": {
       "model_id": "2e814cb07468410da88c3d463d0cef1b",
       "version_major": 2,
       "version_minor": 0
      },
      "text/plain": [
       "CadViewerWidget(anchor=None, cad_width=640, glass=False, height=480, pinning=False, theme='light', title=None,…"
      ]
     },
     "metadata": {},
     "output_type": "display_data"
    },
    {
     "data": {
      "text/html": [
       "<div></div>"
      ],
      "text/plain": [
       "<IPython.core.display.HTML object>"
      ]
     },
     "metadata": {},
     "output_type": "display_data"
    }
   ],
   "source": [
    "ss = cq.Sketch()\n",
    "\n",
    "for e in edges.vals(): ss.edge(e)\n",
    "\n",
    "\n",
    "#ss.close()\n",
    "xs = [v.toTuple()[0] for v in a.vertices().vals()]\n",
    "ys = [v.toTuple()[1] for v in a.vertices().vals()]\n",
    "\n",
    "ss\n",
    "#print(min(ys), max(xs), min(xs))"
   ]
  },
  {
   "cell_type": "code",
   "execution_count": 119,
   "metadata": {},
   "outputs": [
    {
     "data": {
      "text/plain": [
       "(97.5, 71.8)"
      ]
     },
     "execution_count": 119,
     "metadata": {},
     "output_type": "execute_result"
    }
   ],
   "source": [
    "max(xs), min(ys)"
   ]
  },
  {
   "cell_type": "code",
   "execution_count": 184,
   "id": "024e17ac",
   "metadata": {},
   "outputs": [
    {
     "name": "stdout",
     "output_type": "stream",
     "text": [
      "[(35.5, 71.8, 22.0), (38.5, 74.8, 22.0), (38.5, 86.8, 22.0), (41.5, 89.8, 22.0), (97.5, 71.8, 22.0), (94.5, 74.8, 22.0), (94.5, 86.8, 22.0), (91.5, 89.8, 22.0)]\n",
      "100% ⋮————————————————————————————————————————————————————————————⋮ (2/2)  0.00s\n"
     ]
    },
    {
     "data": {
      "application/vnd.jupyter.widget-view+json": {
       "model_id": "e0afbc62a7f04f788954c9626c4c58ed",
       "version_major": 2,
       "version_minor": 0
      },
      "text/plain": [
       "CadViewerWidget(anchor=None, cad_width=640, glass=False, height=480, pinning=False, theme='light', title=None,…"
      ]
     },
     "metadata": {},
     "output_type": "display_data"
    },
    {
     "data": {
      "text/html": [
       "<div></div>"
      ],
      "text/plain": [
       "<IPython.core.display.HTML object>"
      ]
     },
     "metadata": {},
     "output_type": "display_data"
    }
   ],
   "source": [
    "#wp=case.faces('>Z').workplane(centerOption=\"CenterOfBoundBox\")#cq.Workplane('XZ')\n",
    "wp=cq.Workplane('XY')\n",
    "#edges = sorted(a.vals(), key = lambda e: e.Center().y, reverse=True)\n",
    "for e in edges.vals():\n",
    "    wp.add(e)#.placeSketch(ss)\n",
    "#wp.circle(10)\n",
    "\n",
    "#wp.moveTo(0, 0)\n",
    "#wp.line(0,20)\n",
    "#wp.close()\n",
    "\n",
    "\n",
    "print([v.toTuple() for v in wp.vertices().vals()])\n",
    "#wp.moveTo(35.5, 71.8)\n",
    "wp.line(0,10)"
   ]
  },
  {
   "cell_type": "code",
   "execution_count": 148,
   "id": "7ec6bb0e",
   "metadata": {},
   "outputs": [
    {
     "name": "stdout",
     "output_type": "stream",
     "text": [
      "found\n"
     ]
    },
    {
     "ename": "AttributeError",
     "evalue": "'Vertex' object has no attribute 'tag'",
     "output_type": "error",
     "traceback": [
      "\u001b[0;31m---------------------------------------------------------------------------\u001b[0m",
      "\u001b[0;31mAttributeError\u001b[0m                            Traceback (most recent call last)",
      "Cell \u001b[0;32mIn[148], line 5\u001b[0m\n\u001b[1;32m      3\u001b[0m \u001b[38;5;28;01mif\u001b[39;00m y_val \u001b[38;5;241m==\u001b[39m \u001b[38;5;28mmin\u001b[39m(ys):\n\u001b[1;32m      4\u001b[0m     \u001b[38;5;28mprint\u001b[39m(\u001b[38;5;124m'\u001b[39m\u001b[38;5;124mfound\u001b[39m\u001b[38;5;124m'\u001b[39m)\n\u001b[0;32m----> 5\u001b[0m     \u001b[43mv\u001b[49m\u001b[38;5;241;43m.\u001b[39;49m\u001b[43mtag\u001b[49m(\u001b[38;5;124m'\u001b[39m\u001b[38;5;124mxxx\u001b[39m\u001b[38;5;124m'\u001b[39m)\n\u001b[1;32m      6\u001b[0m     \u001b[38;5;28;01mbreak\u001b[39;00m\n",
      "\u001b[0;31mAttributeError\u001b[0m: 'Vertex' object has no attribute 'tag'"
     ]
    }
   ],
   "source": [
    "for v in a.vertices().vals():\n",
    "    y_val = (v.toTuple()[1])\n",
    "    if y_val == min(ys):\n",
    "        print('found')\n",
    "        v.tag('xxx')\n",
    "        break"
   ]
  },
  {
   "cell_type": "code",
   "execution_count": 7,
   "id": "c1eba356",
   "metadata": {},
   "outputs": [],
   "source": [
    "\n",
    "\n",
    "if True:\n",
    "    controllerBoxLength =  get_distance_between_two_vertices(case.faces(tag='controllerBoxTop').vertices('<X'))['y']\n",
    "    controllerBoxWidth = get_distance_between_two_vertices(case.faces(tag='controllerBoxTop').vertices('<Y'))['x']+10\n",
    "\n",
    "    controller_box_top = (case\n",
    "                        .faces(tag='controllerBoxTop')\n",
    "                        .workplane(centerOption=\"CenterOfBoundBox\", invert=True)\n",
    "                        .move(0,config.wallThickness)\n",
    "                        .box(controllerBoxWidth,controllerBoxLength, config.controllerBoxThickness, centered=[True,True,False],combine=False)\n",
    "    )\n",
    "\n",
    "#case.intersect(controller_box_top)\n",
    "    \n"
   ]
  },
  {
   "cell_type": "code",
   "execution_count": 9,
   "id": "f0e95b63",
   "metadata": {},
   "outputs": [
    {
     "data": {
      "application/vnd.jupyter.widget-view+json": {
       "model_id": "d0549075a9404ffab63d93c8659333aa",
       "version_major": 2,
       "version_minor": 0
      },
      "text/plain": [
       "CadViewerWidget(anchor=None, cad_width=640, glass=False, height=480, pinning=False, theme='light', title=None,…"
      ]
     },
     "metadata": {},
     "output_type": "display_data"
    },
    {
     "data": {
      "text/html": [
       "<div></div>"
      ],
      "text/plain": [
       "<IPython.core.display.HTML object>"
      ]
     },
     "metadata": {},
     "output_type": "display_data"
    }
   ],
   "source": [
    "case.faces('+Y',tag='outface').faces('>>Y[-2]').tag('xxxx')\n",
    "\n",
    "\n",
    "case.faces(tag='xxxx').workplane(centerOption=\"CenterOfBoundBox\").box(60,20,25, centered=[True,True,False])"
   ]
  },
  {
   "cell_type": "code",
   "execution_count": 3,
   "id": "1463849c",
   "metadata": {},
   "outputs": [],
   "source": [
    "\n",
    "\n",
    "def make_case(config:Config) -> cq.Sketch:\n",
    "    \"\"\"TODO: add screw holes for microcontroller (check they are in right position!!)\n",
    "            change fillet parameters\n",
    "            add module for leds, encoder and aviator\n",
    "            \"\"\"\n",
    "    \n",
    "    \n",
    "    case= get_basic_shape(config)\n",
    "    case.faces('<Z or >Z').tag('bottomface')\n",
    "\n",
    "\n",
    "    # add box for microcontroller\n",
    "    if config.controller is not None:\n",
    "        case = add_microcontrollerbox(case, config)\n",
    "\n",
    "\n",
    "    #fillet edges\n",
    "    case = case.edges('|Z').fillet(config.edgeFillet)\n",
    "    #case.edges('>Z').tag('outerTopEdge')\n",
    "    case.faces('(not <Z) and (not >Z)').tag('outface')\n",
    "    case.wires('>Z').all()[0].tag('topwire')\n",
    "\n",
    "    # scoop out interior\n",
    "    case= (case.faces(\">Z or <Z\").shell(-config.wallThickness, kind='intersection'))\n",
    "    \n",
    "    # set floor thickness \n",
    "    case = case.faces('<Z').wires('>X and >Y').toPending().extrude(config.floorThickness)\n",
    "    \n",
    "    return case\n",
    "    \n",
    "    #fillet bottom edge\n",
    "    case = case.edges('<Z').fillet(3)\n",
    "\n",
    "\n",
    "\n",
    "    # add plate screw holes \n",
    "    scr_hls = get_screw_positions(config)\n",
    "    case=(case.faces('<Z').workplane(origin=(0,0))\n",
    "          .pushPoints([(x,-y) for x,y in scr_hls])\n",
    "          .cskHole(2.4, 4.8, 82, depth=None)    \n",
    "          )\n",
    "\n",
    "    # add controllerbox holes.\n",
    "    # TODO - remove hardcoding on screw hole size\n",
    "    if config.controller is not None:\n",
    "        case = (case.workplaneFromTagged(\"controllerBox\")\n",
    "                .rect(config.controller.screw_hole_x,\n",
    "                        config.controller.screw_hole_y- config.wallThickness - config.controllerYOffset - (config.controller.board_dimension_y -config.controller.screw_hole_y)*0.5, \n",
    "                        forConstruction=True ,centered=[True,True,True])\n",
    "                .vertices()\n",
    "                .cskHole(2.4, 4.8, 82, depth=None))\n",
    "    \n",
    "    #cut hole for aviator connector \n",
    "    case = cut_aviator_connector_hole(case, config)\n",
    "\n",
    "    return case\n"
   ]
  },
  {
   "cell_type": "code",
   "execution_count": 4,
   "id": "b6d587ee",
   "metadata": {},
   "outputs": [],
   "source": [
    "case = make_case(config)"
   ]
  },
  {
   "cell_type": "code",
   "execution_count": 13,
   "id": "ab6a2e22",
   "metadata": {},
   "outputs": [],
   "source": []
  },
  {
   "cell_type": "code",
   "execution_count": 273,
   "id": "e6873487",
   "metadata": {},
   "outputs": [
    {
     "name": "stdout",
     "output_type": "stream",
     "text": [
      "100% ⋮————————————————————————————————————————————————————————————⋮ (2/2)  0.03s\n"
     ]
    },
    {
     "data": {
      "application/vnd.jupyter.widget-view+json": {
       "model_id": "412a0384124a4ab09a90aa9fe548334c",
       "version_major": 2,
       "version_minor": 0
      },
      "text/plain": [
       "CadViewerWidget(anchor=None, cad_width=640, glass=False, height=480, pinning=False, theme='light', title=None,…"
      ]
     },
     "metadata": {},
     "output_type": "display_data"
    },
    {
     "data": {
      "text/html": [
       "<div></div>"
      ],
      "text/plain": [
       "<IPython.core.display.HTML object>"
      ]
     },
     "metadata": {},
     "output_type": "display_data"
    }
   ],
   "source": [
    "case.faces(cq.TypeSelector('CYLINDER'))#.faces('+Y')"
   ]
  },
  {
   "cell_type": "code",
   "execution_count": 158,
   "id": "f8296c89",
   "metadata": {},
   "outputs": [
    {
     "data": {
      "text/plain": [
       "[<cadquery.occ_impl.shapes.Edge at 0x7f152a27b160>,\n",
       " <cadquery.occ_impl.shapes.Edge at 0x7f152a1949a0>,\n",
       " <cadquery.occ_impl.shapes.Edge at 0x7f152a194a60>]"
      ]
     },
     "execution_count": 158,
     "metadata": {},
     "output_type": "execute_result"
    }
   ],
   "source": [
    "case.faces('-Y').faces('>>Y').edges('>Z').tag('topPoints')\n",
    "\n",
    "top_edge_of_box = case.edges(tag='topPoints').val()\n",
    "vertices_of_box = [v.toTuple() for v in top_edge_of_box.Vertices()]\n",
    "\n",
    "# find wire with edge in \n",
    "\n",
    "wires_to_search = case.wires('>Z').vals()\n",
    "\n",
    "\n",
    "wire = list(filter(lambda x: top_edge_of_box in x.Edges(), wires_to_search))[0]\n",
    "\n",
    "\n",
    "#filter wires connected to top edge of box\n",
    "\n",
    "wanted_edges=[]\n",
    "for e in wire.Edges():\n",
    "    start_end_points = [v.toTuple() for v in e.Vertices()]\n",
    "    if vertices_of_box[0] in start_end_points or  vertices_of_box[1] in start_end_points:\n",
    "        wanted_edges.append(e)\n",
    "\n",
    "    "
   ]
  },
  {
   "cell_type": "code",
   "execution_count": 188,
   "id": "6fd7ea79",
   "metadata": {},
   "outputs": [],
   "source": [
    "edges_to_search =wire.Edges() \n",
    "starting_edge = top_edge_of_box\n",
    "\n",
    "wanted_edges=[]\n",
    "\n",
    "if True:\n",
    "#while len(wanted_edges)<3:\n",
    "    for edge in edges_to_search:\n",
    "        start_end_points = [v.toTuple() for v in edge.Vertices()]\n",
    "        starting_edge_vertex_start = starting_edge.Vertices()[0].toTuple()\n",
    "        starting_edge_vertex_end = starting_edge.Vertices()[1].toTuple()\n",
    "\n",
    "        if starting_edge_vertex_start in start_end_points or  starting_edge_vertex_end in start_end_points:\n",
    "            wanted_edges.append(edge)\n",
    "            starting_edge = edge\n",
    "            if len(wanted_edges)>=4:\n",
    "                break"
   ]
  },
  {
   "cell_type": "code",
   "execution_count": 228,
   "id": "78397abc",
   "metadata": {},
   "outputs": [
    {
     "data": {
      "text/plain": [
       "[(41.5, 88.19999999999999, 22.0), (40.1, 86.8, 22.0)]"
      ]
     },
     "execution_count": 228,
     "metadata": {},
     "output_type": "execute_result"
    }
   ],
   "source": [
    "start_end_points"
   ]
  },
  {
   "cell_type": "code",
   "execution_count": 245,
   "id": "d09cd3a9",
   "metadata": {},
   "outputs": [],
   "source": [
    "edges_to_search =wire.Edges() \n",
    "starting_edge = top_edge_of_box\n",
    "\n",
    "\n",
    "\n",
    "\n",
    "wanted_edges=[starting_edge ]\n",
    "idx=0\n",
    "while len(wanted_edges)<=3:\n",
    "    for edge in edges_to_search:\n",
    "        start_end_points = [v.toTuple() for v in edge.Vertices()]\n",
    "        starting_edge_vertex_start = starting_edge.Vertices()[0].toTuple()\n",
    "        starting_edge_vertex_end = starting_edge.Vertices()[1].toTuple()\n",
    "        #starting_edge_vertexes = [v.toTuple() for v in starting_edge.Vertices()]\n",
    "        #edge_to_match = starting_edge_vertexes[idx]\n",
    "        if starting_edge_vertex_start in start_end_points or starting_edge_vertex_end in start_end_points:\n",
    "            wanted_edges.append(edge)\n",
    "            starting_edge = edge\n",
    "            edges_to_search.remove(edge)\n",
    "            #edges_to_search.reverse()\n",
    "            break\n",
    "            \n"
   ]
  },
  {
   "cell_type": "code",
   "execution_count": 253,
   "id": "d3e6513a",
   "metadata": {},
   "outputs": [
    {
     "name": "stdout",
     "output_type": "stream",
     "text": [
      "100% ⋮————————————————————————————————————————————————————————————⋮ (2/2)  0.00s\n"
     ]
    },
    {
     "data": {
      "application/vnd.jupyter.widget-view+json": {
       "model_id": "3640f185555a4fc6816e4a6844d00635",
       "version_major": 2,
       "version_minor": 0
      },
      "text/plain": [
       "CadViewerWidget(anchor=None, cad_width=640, glass=False, height=480, pinning=False, theme='light', title=None,…"
      ]
     },
     "metadata": {},
     "output_type": "display_data"
    },
    {
     "data": {
      "text/html": [
       "<div></div>"
      ],
      "text/plain": [
       "<IPython.core.display.HTML object>"
      ]
     },
     "metadata": {},
     "output_type": "display_data"
    }
   ],
   "source": [
    "case.newObject(wanted_edges).wire()"
   ]
  },
  {
   "cell_type": "code",
   "execution_count": 249,
   "id": "32f370c0",
   "metadata": {},
   "outputs": [
    {
     "data": {
      "text/plain": [
       "[<cadquery.occ_impl.shapes.Edge at 0x7f152af6e1a0>,\n",
       " <cadquery.occ_impl.shapes.Edge at 0x7f15295e2b00>,\n",
       " <cadquery.occ_impl.shapes.Edge at 0x7f15295e1450>,\n",
       " <cadquery.occ_impl.shapes.Edge at 0x7f15295e1ea0>]"
      ]
     },
     "execution_count": 249,
     "metadata": {},
     "output_type": "execute_result"
    }
   ],
   "source": [
    "wanted_edges"
   ]
  },
  {
   "cell_type": "code",
   "execution_count": 250,
   "id": "e100f832",
   "metadata": {},
   "outputs": [
    {
     "ename": "TypeError",
     "evalue": "Shape.__init__() missing 1 required positional argument: 'obj'",
     "output_type": "error",
     "traceback": [
      "\u001b[0;31m---------------------------------------------------------------------------\u001b[0m",
      "\u001b[0;31mTypeError\u001b[0m                                 Traceback (most recent call last)",
      "Cell \u001b[0;32mIn[250], line 1\u001b[0m\n\u001b[0;32m----> 1\u001b[0m \u001b[43mcq\u001b[49m\u001b[38;5;241;43m.\u001b[39;49m\u001b[43mWire\u001b[49m\u001b[43m(\u001b[49m\u001b[43m)\u001b[49m\u001b[38;5;241m.\u001b[39mcombine(wanted_edges)\n",
      "\u001b[0;31mTypeError\u001b[0m: Shape.__init__() missing 1 required positional argument: 'obj'"
     ]
    }
   ],
   "source": [
    "cq.Wire().combine(wanted_edges)"
   ]
  },
  {
   "cell_type": "code",
   "execution_count": 263,
   "id": "534d2d9e",
   "metadata": {},
   "outputs": [
    {
     "name": "stdout",
     "output_type": "stream",
     "text": [
      "100% ⋮————————————————————————————————————————————————————————————⋮ (2/2)  0.00s\n"
     ]
    },
    {
     "data": {
      "application/vnd.jupyter.widget-view+json": {
       "model_id": "8f823bc36b2d46979079069eacbb6d67",
       "version_major": 2,
       "version_minor": 0
      },
      "text/plain": [
       "CadViewerWidget(anchor=None, cad_width=640, glass=False, height=480, pinning=False, theme='light', title=None,…"
      ]
     },
     "metadata": {},
     "output_type": "display_data"
    },
    {
     "data": {
      "text/html": [
       "<div></div>"
      ],
      "text/plain": [
       "<IPython.core.display.HTML object>"
      ]
     },
     "metadata": {},
     "output_type": "display_data"
    }
   ],
   "source": [
    "cq.Workplane('XY').newObject(wanted_edges).mirror('YZ')"
   ]
  },
  {
   "cell_type": "code",
   "execution_count": null,
   "id": "401bd440",
   "metadata": {},
   "outputs": [],
   "source": []
  }
 ],
 "metadata": {
  "kernelspec": {
   "display_name": "Python 3 (ipykernel)",
   "language": "python",
   "name": "python3"
  },
  "language_info": {
   "codemirror_mode": {
    "name": "ipython",
    "version": 3
   },
   "file_extension": ".py",
   "mimetype": "text/x-python",
   "name": "python",
   "nbconvert_exporter": "python",
   "pygments_lexer": "ipython3",
   "version": "3.10.13"
  }
 },
 "nbformat": 4,
 "nbformat_minor": 5
}
