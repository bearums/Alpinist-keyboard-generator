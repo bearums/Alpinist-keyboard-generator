{
 "cells": [
  {
   "cell_type": "code",
   "execution_count": 2,
   "id": "a94dfa0a",
   "metadata": {},
   "outputs": [
    {
     "name": "stdout",
     "output_type": "stream",
     "text": [
      "\n",
      "Enabling jupyter_cadquery replay\n"
     ]
    }
   ],
   "source": [
    "import cadquery as cq\n",
    "\n",
    "from jupyter_cadquery import (\n",
    "    versions,\n",
    "    show, PartGroup, Part, \n",
    "    get_viewer, close_viewer, get_viewers, close_viewers, open_viewer, set_defaults, get_defaults, open_viewer,\n",
    "    get_pick,\n",
    ")\n",
    "\n",
    "from jupyter_cadquery.replay import replay, enable_replay, disable_replay\n",
    "''\n",
    "enable_replay(False)\n",
    "\n",
    "set_defaults(\n",
    "    cad_width=640, \n",
    "    height=480, \n",
    ")\n",
    "\n",
    "import sys\n",
    "sys.path.append('../')\n",
    "from config import Config, Shape\n",
    "from plate import get_base, get_screw_positions, get_key_positions, make_plate\n",
    "from case import get_basic_shape,  cut_aviator_connector_hole #, add_microcontrollerbox,"
   ]
  },
  {
   "cell_type": "code",
   "execution_count": 3,
   "id": "0daf9313",
   "metadata": {},
   "outputs": [],
   "source": [
    "rkn = [3,5,8,5, 2]\n",
    "rkn = [4,8,8,6]\n",
    "config=Config(rkn, shape=Shape.LEAN, floorThickness=3)\n",
    "kp = get_key_positions(config)"
   ]
  },
  {
   "cell_type": "code",
   "execution_count": 10,
   "id": "1463849c",
   "metadata": {},
   "outputs": [],
   "source": [
    "def add_microcontrollerbox(case, config):\n",
    "        controllerBoxLength = config.controller.board_dimension_y - config.controllerYOffset\n",
    "        controllerBoxWidth=config.controller.board_dimension_x + 5\n",
    "        \n",
    "        ctrBox = (case\n",
    "                .edges('>Y and <Z')\n",
    "                .workplane(centerOption=\"CenterOfBoundBox\", invert=False)\n",
    "                .box(controllerBoxWidth,controllerBoxLength, config.caseHeight, centered=[True,False,False],combine=False)\n",
    "                )\n",
    "        ctrBox.faces('<Z').tag(\"controllerBox\")\n",
    "        ctrBox.faces('>Z').tag(\"controllerBoxTop\")\n",
    "        ctrBox.edges('|Z').tag(\"controllerBoxEdges\")\n",
    "\n",
    "        case = case.union(ctrBox)\n",
    "        return case\n",
    "\n",
    "\n",
    "\n",
    "def make_case(config:Config) -> cq.Sketch:\n",
    "    \"\"\"TODO: add screw holes for microcontroller (check they are in right position!!)\n",
    "            change fillet parameters\n",
    "            add module for leds, encoder and aviator\n",
    "            \"\"\"\n",
    "    \n",
    "    \n",
    "    case= get_basic_shape(config)\n",
    "    #case.faces('<Z').tag('bottomface')\n",
    "\n",
    "    # add box for microcontroller\n",
    "    if config.controller is not None:\n",
    "        case = add_microcontrollerbox(case, config)\n",
    "    \n",
    "\n",
    "    #fillet edges\n",
    "    case = case.edges('|Z').fillet(config.edgeFillet)\n",
    "    #case.edges('>Z').tag('outerTopEdge')\n",
    "\n",
    "\n",
    "    # scoop out interior\n",
    "    case= (case.faces(\">Z or <Z\").shell(-config.wallThickness, kind='intersection'))\n",
    "    \n",
    "    # set floor thickness \n",
    "    case = case.faces('<Z').wires('>X and >Y').toPending().extrude(config.floorThickness)\n",
    "    \n",
    "    #fillet bottom edge\n",
    "    case = case.edges('<Z').fillet(3)\n",
    "\n",
    "\n",
    "\n",
    "    # add plate screw holes \n",
    "    scr_hls = get_screw_positions(config)\n",
    "    case=(case.faces('<Z').workplane(origin=(0,0))\n",
    "          .pushPoints([(x,-y) for x,y in scr_hls])\n",
    "          .cskHole(2.4, 4.8, 82, depth=None)    \n",
    "          )\n",
    "\n",
    "    # add controllerbox holes.\n",
    "    # TODO - remove hardcoding on screw hole size\n",
    "    if config.controller is not None:\n",
    "        case = (case.workplaneFromTagged(\"controllerBox\")\n",
    "                .rect(config.controller.screw_hole_x,\n",
    "                        config.controller.screw_hole_y- config.wallThickness - controller_y_offset - (config.controller.board_dimension_y -config.controller.screw_hole_y)*0.5, \n",
    "                        forConstruction=True ,centered=[True,True,True])\n",
    "                .vertices()\n",
    "                .cskHole(2.4, 4.8, 82, depth=None))\n",
    "    \n",
    "    #cut hole for aviator connector \n",
    "    case = cut_aviator_connector_hole(case, config)\n",
    "\n",
    "    return case\n"
   ]
  },
  {
   "cell_type": "code",
   "execution_count": null,
   "id": "9b6496b4",
   "metadata": {},
   "outputs": [],
   "source": [
    "make_plate(config)"
   ]
  },
  {
   "cell_type": "code",
   "execution_count": 11,
   "id": "b6d587ee",
   "metadata": {},
   "outputs": [],
   "source": [
    "case= get_basic_shape(config)\n",
    "    #case.faces('<Z').tag('bottomface')\n",
    "\n",
    "    # add box for microcontroller\n",
    "if config.controller is not None:\n",
    "        case = add_microcontrollerbox(case, config)\n",
    "    \n",
    "case= (case.faces(\">Z or <Z\").shell(-config.wallThickness, kind='intersection'))\n",
    "\n"
   ]
  },
  {
   "cell_type": "code",
   "execution_count": 21,
   "id": "43922f03",
   "metadata": {},
   "outputs": [
    {
     "name": "stdout",
     "output_type": "stream",
     "text": [
      "100% ⋮————————————————————————————————————————————————————————————⋮ (2/2)  0.00s\n"
     ]
    },
    {
     "data": {
      "application/vnd.jupyter.widget-view+json": {
       "model_id": "c82aa09a45e143ad9c6fe33cbc57a0b7",
       "version_major": 2,
       "version_minor": 0
      },
      "text/plain": [
       "CadViewerWidget(anchor=None, cad_width=640, glass=False, height=480, pinning=False, theme='light', title=None,…"
      ]
     },
     "metadata": {},
     "output_type": "display_data"
    },
    {
     "data": {
      "text/html": [
       "<div></div>"
      ],
      "text/plain": [
       "<IPython.core.display.HTML object>"
      ]
     },
     "metadata": {},
     "output_type": "display_data"
    }
   ],
   "source": [
    "\n",
    "(case.edges('<Y',tag=\"controllerBoxEdges\"))"
   ]
  },
  {
   "cell_type": "code",
   "execution_count": 25,
   "id": "ab6a2e22",
   "metadata": {},
   "outputs": [],
   "source": [
    "casse = case.edges('|Z').fillet(2)"
   ]
  },
  {
   "cell_type": "code",
   "execution_count": 76,
   "id": "d4f42e95",
   "metadata": {},
   "outputs": [
    {
     "data": {
      "application/vnd.jupyter.widget-view+json": {
       "model_id": "0b058e97b2af4ff88d4ff28cb3ce376d",
       "version_major": 2,
       "version_minor": 0
      },
      "text/plain": [
       "CadViewerWidget(anchor=None, cad_width=640, glass=False, height=480, pinning=False, theme='light', title=None,…"
      ]
     },
     "metadata": {},
     "output_type": "display_data"
    },
    {
     "data": {
      "text/html": [
       "<div></div>"
      ],
      "text/plain": [
       "<IPython.core.display.HTML object>"
      ]
     },
     "metadata": {},
     "output_type": "display_data"
    }
   ],
   "source": [
    "\n",
    "def make_controller_box_top_plate(case):\n",
    "\n",
    "    controllerBoxLength = controller_box_width = get_distance_between_two_vertices(case.faces(tag='controllerBoxTop').vertices('<X'))['y']\n",
    "    controllerBoxWidth=controller_box_width = get_distance_between_two_vertices(case.faces(tag='controllerBoxTop').vertices('<Y'))['x']\n",
    "\n",
    "    controller_box_top = (case\n",
    "    .faces(tag='controllerBoxTop')\n",
    "    .workplane(centerOption=\"CenterOfBoundBox\", invert=True)\n",
    "    .move(0,config.wallThickness)\n",
    "    .box(controllerBoxWidth,controllerBoxLength, 2, centered=[True,True,False],combine=False)\n",
    "    )\n",
    "\n",
    "\n",
    "    return controller_box_top\n"
   ]
  },
  {
   "cell_type": "code",
   "execution_count": 74,
   "id": "dd6fd18d",
   "metadata": {},
   "outputs": [],
   "source": []
  },
  {
   "cell_type": "code",
   "execution_count": null,
   "id": "998ae905",
   "metadata": {},
   "outputs": [],
   "source": []
  },
  {
   "cell_type": "code",
   "execution_count": 69,
   "id": "67f0510f",
   "metadata": {},
   "outputs": [],
   "source": [
    "\n"
   ]
  },
  {
   "cell_type": "code",
   "execution_count": 70,
   "id": "ef3b5073",
   "metadata": {},
   "outputs": [
    {
     "data": {
      "text/plain": [
       "{'x': 56.0, 'y': 0.0, 'z': 0.0}"
      ]
     },
     "execution_count": 70,
     "metadata": {},
     "output_type": "execute_result"
    }
   ],
   "source": [
    "get_distance_between_two_vertices(case.faces(tag='controllerBoxTop').vertices('<Y'))"
   ]
  }
 ],
 "metadata": {
  "kernelspec": {
   "display_name": "Python 3 (ipykernel)",
   "language": "python",
   "name": "python3"
  },
  "language_info": {
   "codemirror_mode": {
    "name": "ipython",
    "version": 3
   },
   "file_extension": ".py",
   "mimetype": "text/x-python",
   "name": "python",
   "nbconvert_exporter": "python",
   "pygments_lexer": "ipython3",
   "version": "3.10.13"
  }
 },
 "nbformat": 4,
 "nbformat_minor": 5
}
