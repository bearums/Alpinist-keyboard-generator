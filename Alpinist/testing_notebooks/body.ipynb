{
 "cells": [
  {
   "cell_type": "code",
   "execution_count": 1,
   "id": "a94dfa0a",
   "metadata": {},
   "outputs": [
    {
     "name": "stdout",
     "output_type": "stream",
     "text": [
      "Overwriting auto display for cadquery Workplane and Shape\n",
      "\n",
      "Enabling jupyter_cadquery replay\n"
     ]
    },
    {
     "name": "stderr",
     "output_type": "stream",
     "text": [
      "/home/ben/anaconda3/envs/jcq3/lib/python3.10/site-packages/quaternion/calculus.py:310: NumbaDeprecationWarning: \u001b[1mThe 'nopython' keyword argument was not supplied to the 'numba.jit' decorator. The implicit default value for this argument is currently False, but it will be changed to True in Numba 0.59.0. See https://numba.readthedocs.io/en/stable/reference/deprecation.html#deprecation-of-object-mode-fall-back-behaviour-when-using-jit for details.\u001b[0m\n",
      "  def fd_indefinite_integral(f, t):\n"
     ]
    }
   ],
   "source": [
    "import cadquery as cq\n",
    "\n",
    "from jupyter_cadquery import (\n",
    "    versions,\n",
    "    show, PartGroup, Part, \n",
    "    get_viewer, close_viewer, get_viewers, close_viewers, open_viewer, set_defaults, get_defaults, open_viewer,\n",
    "    get_pick,\n",
    ")\n",
    "\n",
    "from jupyter_cadquery.replay import replay, enable_replay, disable_replay\n",
    "''\n",
    "enable_replay(False)\n",
    "\n",
    "set_defaults(\n",
    "    cad_width=640, \n",
    "    height=480, \n",
    ")\n",
    "\n",
    "import sys\n",
    "sys.path.append('../')\n",
    "from config import Config, Shape\n",
    "from plate import get_base, get_screw_positions, get_key_positions, make_plate\n",
    "#from case import make_case"
   ]
  },
  {
   "cell_type": "code",
   "execution_count": 2,
   "id": "0daf9313",
   "metadata": {},
   "outputs": [],
   "source": [
    "rkn = [10,10,10,8]\n",
    "\n",
    "config=Config(rkn, shape=Shape.LEAN)\n",
    "kp = get_key_positions(config)"
   ]
  },
  {
   "cell_type": "code",
   "execution_count": 23,
   "id": "43922f03",
   "metadata": {},
   "outputs": [],
   "source": [
    "def make_case(config:Config) -> cq.Sketch:\n",
    "    \"\"\"TODO: add screw holes for microcontroller (check they are in right position!!)\n",
    "            change fillet parameters\n",
    "            add module for leds, encoder and aviator\n",
    "            add screw holes\"\"\"\n",
    "    \n",
    "    # remove hard coding and put into Config!\n",
    "    controller_y_offset = 5\n",
    "    controllerBoxLength = config.controller.board_dimension_y - controller_y_offset\n",
    "    controllerBoxWidth=config.controller.board_dimension_x + 5\n",
    "    \n",
    "    kp = get_key_positions(config)\n",
    "    x_centre = 0.5*(min([x[0] for x in list(kp.values())])+ max([x[0] for x in list(kp.values())]))\n",
    "    \n",
    "    foot_x, foot_y = (config.columnSpacing / 2 + config.switchHoleSize, config.rowSpacing / 2 +\n",
    "                          config.switchHoleSize) if config.shape == Shape.LEAN else (config.switchHoleSize, config.switchHoleSize)\n",
    "    case = cq.Sketch()\n",
    "\n",
    "    case = case.push(list(kp.values()))\n",
    "    \n",
    "    \n",
    "    case = (case.rect(foot_x+(config.caseGap+config.wallThickness)*2, \n",
    "                      foot_y+(config.caseGap+config.wallThickness)*2)\n",
    "            .faces()\n",
    "            .clean()\n",
    "            .offset(config.wallThickness)\n",
    "            .clean())\n",
    "    \n",
    "    \n",
    "    case= (cq.Workplane()\n",
    "           .placeSketch(case)\n",
    "           .extrude(config.caseHeight))\n",
    "    \n",
    "    # add box for microcontroller\n",
    "    case = (case\n",
    "             .edges('>Y and <Z')\n",
    "             .workplane(centerOption=\"CenterOfBoundBox\", invert=False)\n",
    "             .box(controllerBoxWidth,controllerBoxLength, config.caseHeight, centered=[True,False,False],combine=False)\n",
    "             .faces('<Z')\n",
    "            .workplane(centerOption=\"CenterOfBoundBox\")\n",
    "            .tag(\"controllerBox\")\n",
    "            .union(case)\n",
    "            )\n",
    "    \n",
    "    # tag outerfaces for future reference\n",
    "    case.faces('not |Z').tag('outerfaces')\n",
    "\n",
    "    # scoop out interior \n",
    "    case= (case.faces(\"+Z\")\n",
    "            .shell(-config.wallThickness)\n",
    "            )\n",
    "    \n",
    "    # fillet edges\n",
    "    case = (case.edges(\"|Z\")\n",
    "             .fillet(config.plateFillet))\n",
    "\n",
    "    # set floor thickness \n",
    "    btm = case.faces('<Z[1]').clean().wires().toPending()\n",
    "    case_without_btm=(btm.extrude(config.wallThickness, combine=\"cut\"))\n",
    "    new_btm = case.faces('<Z[1]').clean().wires().toPending().extrude(-config.floorThickness, combine=False).translate([0,0,-config.wallThickness])\n",
    "    case = case_without_btm.union(new_btm)\n",
    "    \n",
    "    # add controllerbox holes.\n",
    "    # TODO - remove hardcoding on screw hole size\n",
    "#     case = (case.workplaneFromTagged(\"controllerBox\")\n",
    "#             .rect(config.controller.screw_hole_x,\n",
    "#                    config.controller.screw_hole_y- config.wallThickness - controller_y_offset - (config.controller.board_dimension_y -config.controller.screw_hole_y)*0.5, \n",
    "#                    forConstruction=True ,centered=[True,True,True])\n",
    "#             .vertices()\n",
    "#             .cskHole(2.4, 4.8, 82, depth=None))\n",
    "    \n",
    "    \n",
    "    return case\n",
    "\n",
    "\n"
   ]
  },
  {
   "cell_type": "code",
   "execution_count": 37,
   "id": "5a862487",
   "metadata": {},
   "outputs": [
    {
     "data": {
      "application/vnd.jupyter.widget-view+json": {
       "model_id": "c5c38d5a863c4864bce5ee4f5bb714f4",
       "version_major": 2,
       "version_minor": 0
      },
      "text/plain": [
       "CadViewerWidget(anchor=None, cad_width=640, glass=False, height=480, pinning=False, theme='light', title=None,…"
      ]
     },
     "metadata": {},
     "output_type": "display_data"
    },
    {
     "data": {
      "text/html": [
       "<div></div>"
      ],
      "text/plain": [
       "<IPython.core.display.HTML object>"
      ]
     },
     "metadata": {},
     "output_type": "display_data"
    }
   ],
   "source": [
    "\n",
    "rkn = [10,10,10,8]\n",
    "\n",
    "config=Config(rkn, shape=Shape.LEAN, floorThickness=10)\n",
    "kp = get_key_positions(config)\n",
    "\n",
    "case = make_case(config)\n",
    "\n",
    "case\n",
    "#case.faces(tag='outerfaces').edges('#Z and <Z').chamfer(1)\n"
   ]
  },
  {
   "cell_type": "code",
   "execution_count": 28,
   "id": "04c006f2",
   "metadata": {},
   "outputs": [
    {
     "data": {
      "application/vnd.jupyter.widget-view+json": {
       "model_id": "4ca77917b6674611bc81541d2d8ccb53",
       "version_major": 2,
       "version_minor": 0
      },
      "text/plain": [
       "CadViewerWidget(anchor=None, cad_width=640, glass=False, height=480, pinning=False, theme='light', title=None,…"
      ]
     },
     "metadata": {},
     "output_type": "display_data"
    },
    {
     "data": {
      "text/html": [
       "<div></div>"
      ],
      "text/plain": [
       "<IPython.core.display.HTML object>"
      ]
     },
     "metadata": {},
     "output_type": "display_data"
    }
   ],
   "source": [
    "btm = case.faces('<Z[1]').clean().wires().toPending()\n",
    "\n",
    "case_without_btm=(btm.extrude(config.wallThickness, combine=\"cut\"))\n",
    "\n",
    "\n",
    "new_btm = case.faces('<Z[1]').clean().wires().toPending().extrude(-config.floorThickness, combine=False).translate([0,0,-config.wallThickness])\n",
    "\n",
    "case_without_btm.union(new_btm)\n",
    "\n"
   ]
  },
  {
   "cell_type": "code",
   "execution_count": 56,
   "id": "28b53e9d",
   "metadata": {},
   "outputs": [
    {
     "ename": "AttributeError",
     "evalue": "'Workplane' object has no attribute 'offset'",
     "output_type": "error",
     "traceback": [
      "\u001b[1;31m---------------------------------------------------------------------------\u001b[0m",
      "\u001b[1;31mAttributeError\u001b[0m                            Traceback (most recent call last)",
      "Cell \u001b[1;32mIn[56], line 1\u001b[0m\n\u001b[1;32m----> 1\u001b[0m cc\u001b[38;5;241m=\u001b[39m \u001b[43mcase\u001b[49m\u001b[38;5;241;43m.\u001b[39;49m\u001b[43mfaces\u001b[49m\u001b[43m(\u001b[49m\u001b[38;5;124;43m'\u001b[39;49m\u001b[38;5;124;43m<Z[1]\u001b[39;49m\u001b[38;5;124;43m'\u001b[39;49m\u001b[43m)\u001b[49m\u001b[38;5;241;43m.\u001b[39;49m\u001b[43mclean\u001b[49m\u001b[43m(\u001b[49m\u001b[43m)\u001b[49m\u001b[38;5;241;43m.\u001b[39;49m\u001b[43mwires\u001b[49m\u001b[43m(\u001b[49m\u001b[43m)\u001b[49m\u001b[38;5;241;43m.\u001b[39;49m\u001b[43moffset\u001b[49m(\u001b[38;5;241m0\u001b[39m)\u001b[38;5;66;03m#.extrude(10, combine=False)\u001b[39;00m\n\u001b[0;32m      3\u001b[0m cc\n\u001b[0;32m      4\u001b[0m \u001b[38;5;66;03m#cq.Workplane()#.placeSketch(cc)#.extrude(10)\u001b[39;00m\n",
      "File \u001b[1;32mc:\\Users\\Ben\\anaconda3\\envs\\jcq3\\lib\\site-packages\\jupyter_cadquery\\replay.py:250\u001b[0m, in \u001b[0;36m_add_context\u001b[1;34m(self, name)\u001b[0m\n\u001b[0;32m    246\u001b[0m         \u001b[38;5;28;01mreturn\u001b[39;00m result\n\u001b[0;32m    248\u001b[0m     \u001b[38;5;28;01mreturn\u001b[39;00m f\n\u001b[1;32m--> 250\u001b[0m attr \u001b[38;5;241m=\u001b[39m \u001b[38;5;28;43mobject\u001b[39;49m\u001b[38;5;241;43m.\u001b[39;49m\u001b[38;5;21;43m__getattribute__\u001b[39;49m\u001b[43m(\u001b[49m\u001b[38;5;28;43mself\u001b[39;49m\u001b[43m,\u001b[49m\u001b[43m \u001b[49m\u001b[43mname\u001b[49m\u001b[43m)\u001b[49m\n\u001b[0;32m    251\u001b[0m \u001b[38;5;28;01mif\u001b[39;00m \u001b[38;5;28mcallable\u001b[39m(attr):\n\u001b[0;32m    252\u001b[0m     prefix \u001b[38;5;241m=\u001b[39m \u001b[38;5;124m\"\u001b[39m\u001b[38;5;124m    \u001b[39m\u001b[38;5;124m\"\u001b[39m \u001b[38;5;241m*\u001b[39m (_CTX\u001b[38;5;241m.\u001b[39mlength \u001b[38;5;241m-\u001b[39m \u001b[38;5;241m1\u001b[39m)\n",
      "\u001b[1;31mAttributeError\u001b[0m: 'Workplane' object has no attribute 'offset'"
     ]
    }
   ],
   "source": [
    "cc= case.faces('<Z[1]').clean().wires().offset(0)#.extrude(10, combine=False)\n",
    "\n",
    "cc\n",
    "#cq.Workplane()#.placeSketch(cc)#.extrude(10)"
   ]
  },
  {
   "cell_type": "code",
   "execution_count": 55,
   "id": "010cda84",
   "metadata": {},
   "outputs": [
    {
     "name": "stdout",
     "output_type": "stream",
     "text": [
      "100% ⋮————————————————————————————————————————————————————————————⋮ (2/2)  0.01s\n"
     ]
    },
    {
     "data": {
      "application/vnd.jupyter.widget-view+json": {
       "model_id": "fce34bfdcbd54d22b2b15ed046f15d72",
       "version_major": 2,
       "version_minor": 0
      },
      "text/plain": [
       "CadViewerWidget(anchor=None, cad_width=640, glass=False, height=480, pinning=False, theme='light', title=None,…"
      ]
     },
     "metadata": {},
     "output_type": "display_data"
    },
    {
     "data": {
      "text/html": [
       "<div></div>"
      ],
      "text/plain": [
       "<IPython.core.display.HTML object>"
      ]
     },
     "metadata": {},
     "output_type": "display_data"
    }
   ],
   "source": [
    "if True:\n",
    "    base_fillet=2.5\n",
    "    foot_x, foot_y = (config.columnSpacing / 2 + config.switchHoleSize, config.rowSpacing / 2 +\n",
    "                      config.switchHoleSize) if config.shape == Shape.LEAN else (config.switchHoleSize, config.switchHoleSize)\n",
    "    base = cq.Sketch()\n",
    "   \n",
    "\n",
    "    base = base.push(kp.values())\n",
    "    if config.shape == Shape.LEAN:\n",
    "        base = base.rect(foot_x, foot_y)\\\n",
    "            .faces().clean().vertices().fillet(base_fillet).faces()\\\n",
    "            .wires().offset(0).clean()\n",
    "    elif config.shape == Shape.HULL:\n",
    "        base = base.rect(foot_x, foot_y)\\\n",
    "            .faces().hull().clean().wires().offset(12)\n",
    "        \n",
    "base"
   ]
  },
  {
   "cell_type": "code",
   "execution_count": null,
   "id": "adc849aa",
   "metadata": {},
   "outputs": [],
   "source": [
    "controllerBoxLength = 20\n",
    "controllerBoxWidth=80\n",
    "\n",
    "# find position of controller box\n",
    "# add controller box corners to kp\n",
    "if True:\n",
    "\n",
    "    #x_centre = max(config.row_key_num)* config.rowSpacing*0.5\n",
    "    x_centre = 0.5*(min([x[0] for x in list(kp.values())])+ max([x[0] for x in list(kp.values())]))\n",
    "    \n",
    "    foot_x, foot_y = (config.columnSpacing / 2 + config.switchHoleSize, config.rowSpacing / 2 +\n",
    "                          config.switchHoleSize) if config.shape == Shape.LEAN else (config.switchHoleSize, config.switchHoleSize)\n",
    "    case = cq.Sketch()\n",
    "\n",
    "    \n",
    "    kp = get_key_positions(config)\n",
    "    \n",
    "    \n",
    "    points_to_push = list(kp.values())\n",
    "    case = case.push(points_to_push)\n",
    "\n",
    "    \n",
    "    case = (case.rect(foot_x+(config.caseGap+wall_thickness)*2, foot_y+(config.caseGap+wall_thickness)*2)\n",
    "            .faces()\n",
    "            .clean()\n",
    "            .offset(config.wallThickness)\n",
    "            .clean())\n",
    "    case=cq.Workplane().placeSketch(case).extrude(config.caseHeight)\n",
    "    case = (case\n",
    "            .edges('>Y and <Z')\n",
    "            .workplane(centerOption=\"CenterOfBoundBox\")\n",
    "            .box(controllerBoxWidth,controllerBoxLength, config.caseHeight, centered=[True,False,False])\n",
    "           )\n",
    "\n",
    "    case=case.faces(\"+Z\").shell(-wall_thickness).edges(\"|Z\").fillet(3)"
   ]
  },
  {
   "cell_type": "code",
   "execution_count": null,
   "id": "788ea28a",
   "metadata": {},
   "outputs": [],
   "source": [
    "case"
   ]
  },
  {
   "cell_type": "code",
   "execution_count": null,
   "id": "0539a9e0",
   "metadata": {},
   "outputs": [],
   "source": [
    "0.5*(min([x[0] for x in list(kp.values())])+ max([x[0] for x in list(kp.values())]))"
   ]
  },
  {
   "cell_type": "code",
   "execution_count": null,
   "id": "e88fd8eb",
   "metadata": {},
   "outputs": [],
   "source": [
    "controllerBoxLength = 20\n",
    "controllerBoxWidth=80\n",
    "\n",
    "# find position of controller box\n",
    "# add controller box corners to kp\n",
    "if True:\n",
    "\n",
    "    #x_centre = max(config.row_key_num)* config.rowSpacing*0.5\n",
    "    x_centre = 0.5*(min([x[0] for x in list(kp.values())])+ max([x[0] for x in list(kp.values())]))\n",
    "    \n",
    "    foot_x, foot_y = (config.columnSpacing / 2 + config.switchHoleSize, config.rowSpacing / 2 +\n",
    "                          config.switchHoleSize) if config.shape == Shape.LEAN else (config.switchHoleSize, config.switchHoleSize)\n",
    "    case = cq.Sketch()\n",
    "\n",
    "    \n",
    "    kp = get_key_positions(config)\n",
    "    #points_to_push = [y[1] for y in list(filter( lambda x: x[0] not in idxs_to_drop, kp.items()))]\n",
    "    points_to_push=[]\n",
    "    for x in range(len(config.row_key_num)):\n",
    "            points_to_push.append((x,0))\n",
    "            points_to_push.append((x,config.row_key_num[x]-1))\n",
    "    #points_to_push.extend([(x_centre+0.5*controllerBoxWidth,80) ,(x_centre-0.5*controllerBoxWidth,80), (x_centre,80)])\n",
    "    points_to_push=[]\n",
    "    for x in range(len(config.row_key_num)):\n",
    "            points_to_push.append(kp[(x,0)])\n",
    "            points_to_push.append(kp[(x,list(reversed(config.row_key_num))[x]-1)])\n",
    "    case = case.push(points_to_push)\n",
    "    #case = case.push([(0,0) ,(10,10)])\n",
    "    \n",
    "    case = (case.rect(foot_x+(config.caseGap+wall_thickness)*2, foot_y+(config.caseGap+wall_thickness)*2)\n",
    "           .faces()\n",
    "           .clean()\n",
    "           .offset(config.wallThickness)\n",
    "           .clean())\n",
    "    case=cq.Workplane().placeSketch(case).extrude(config.caseHeight)\n",
    "\n",
    "    #case=case.faces(\"+Z\").shell(-wall_thickness).edges(\"|Z\").fillet(3)\n",
    "    \n",
    "case"
   ]
  },
  {
   "cell_type": "code",
   "execution_count": null,
   "id": "4d529454",
   "metadata": {},
   "outputs": [],
   "source": [
    "len(config.row_key_num), config.row_key_num"
   ]
  },
  {
   "cell_type": "code",
   "execution_count": null,
   "id": "bebce7e9",
   "metadata": {},
   "outputs": [],
   "source": []
  },
  {
   "cell_type": "code",
   "execution_count": null,
   "id": "2c6ce5fe",
   "metadata": {},
   "outputs": [],
   "source": [
    "kp[len(config.row_key_num)-1, 3]\n"
   ]
  },
  {
   "cell_type": "code",
   "execution_count": null,
   "id": "8aa65661",
   "metadata": {},
   "outputs": [],
   "source": [
    "[kp[len(config.row_key_num)-1, x] for x in range( 1, config.row_key_num[0])-1]"
   ]
  },
  {
   "cell_type": "code",
   "execution_count": null,
   "id": "2ffea0d0",
   "metadata": {},
   "outputs": [],
   "source": [
    "points_to_remove = [kp[len(config.row_key_num)-1, x] for x in range(  1,config.row_key_num[0]-1)]"
   ]
  },
  {
   "cell_type": "code",
   "execution_count": null,
   "id": "41a7ac4a",
   "metadata": {},
   "outputs": [],
   "source": [
    "idxs_to_drop = [(len(config.row_key_num)-1, x) for x in range(1, config.row_key_num[0]-1)]\n",
    "\n",
    "idxs_to_drop\n",
    "\n",
    "list(filter( lambda x: x[0] not in idxs_to_drop, kp.items()))"
   ]
  },
  {
   "cell_type": "code",
   "execution_count": null,
   "id": "1b71e5c3",
   "metadata": {},
   "outputs": [],
   "source": [
    "points_to_push = [y[1] for y in list(filter( lambda x: x[0] not in idxs_to_drop, kp.items()))]\n",
    "points_to_push.extend([(x_centre+0.5*controllerBoxWidth,80) ,(x_centre-0.5*controllerBoxWidth,80), (x_centre,80)])\n",
    "    "
   ]
  },
  {
   "cell_type": "code",
   "execution_count": null,
   "id": "04820436",
   "metadata": {},
   "outputs": [],
   "source": [
    "points_to_push"
   ]
  },
  {
   "cell_type": "code",
   "execution_count": null,
   "id": "e8b88b4a",
   "metadata": {},
   "outputs": [],
   "source": [
    "[ [(x,) for x in range(len(config.row_key_num))] for y in [0, config.row_key_num[x]-1]]"
   ]
  },
  {
   "cell_type": "code",
   "execution_count": null,
   "id": "5c00207a",
   "metadata": {},
   "outputs": [],
   "source": [
    "[[(j,i) for j in range(5)] for i in range(5)]"
   ]
  },
  {
   "cell_type": "code",
   "execution_count": null,
   "id": "66ea1de1",
   "metadata": {},
   "outputs": [],
   "source": [
    "[[(x,y) for y in [0, config.row_key_num[x]-1]] for x in range(len(config.row_key_num))]"
   ]
  },
  {
   "cell_type": "code",
   "execution_count": null,
   "id": "ca940965",
   "metadata": {},
   "outputs": [],
   "source": [
    "points_to_push=[]\n",
    "for x in range(len(config.row_key_num)):\n",
    "        points_to_push.append(kp[(x,0)])\n",
    "        points_to_push.append(kp[(x,list(reversed(config.row_key_num))[x]-1)])"
   ]
  },
  {
   "cell_type": "code",
   "execution_count": null,
   "id": "eb131e64",
   "metadata": {},
   "outputs": [],
   "source": [
    "points_to_push"
   ]
  },
  {
   "cell_type": "code",
   "execution_count": null,
   "id": "787e9bdf",
   "metadata": {},
   "outputs": [],
   "source": [
    "xx=(cq.Workplane('XY')\n",
    "             .box(10,20, config.caseHeight, centered=[True,False,False])\n",
    "             .pushPoints([(5,10)]).cskHole(2.4, 4.8, 82, depth=None)\n",
    ")\n",
    "\n",
    "xx"
   ]
  },
  {
   "cell_type": "code",
   "execution_count": null,
   "id": "64d29c87",
   "metadata": {},
   "outputs": [],
   "source": [
    "controllerBoxLength = config.controller.board_dimension_y -5\n",
    "controllerBoxWidth=config.controller.board_dimension_x + 5\n",
    "(cq.Workplane('XZ')\n",
    ".box(controllerBoxWidth,controllerBoxLength, config.caseHeight, centered=[True,False,False],combine=True)\n",
    " .faces(\"<Z\")\n",
    "    .workplane()\n",
    "             .rect(config.controller.screw_hole_x-5,\n",
    "                   config.controller.screw_hole_y, \n",
    "                   forConstruction=True )\n",
    "            .vertices()\n",
    "            .cskHole(2.2, 4.8, 82, depth=None)\n",
    ")"
   ]
  },
  {
   "cell_type": "code",
   "execution_count": null,
   "id": "6cc7c9c8",
   "metadata": {},
   "outputs": [],
   "source": []
  }
 ],
 "metadata": {
  "kernelspec": {
   "display_name": "Python 3 (ipykernel)",
   "language": "python",
   "name": "python3"
  },
  "language_info": {
   "codemirror_mode": {
    "name": "ipython",
    "version": 3
   },
   "file_extension": ".py",
   "mimetype": "text/x-python",
   "name": "python",
   "nbconvert_exporter": "python",
   "pygments_lexer": "ipython3",
   "version": "3.10.13"
  }
 },
 "nbformat": 4,
 "nbformat_minor": 5
}
