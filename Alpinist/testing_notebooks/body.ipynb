{
 "cells": [
  {
   "cell_type": "code",
   "execution_count": 1,
   "id": "a94dfa0a",
   "metadata": {},
   "outputs": [
    {
     "name": "stdout",
     "output_type": "stream",
     "text": [
      "Overwriting auto display for cadquery Workplane and Shape\n",
      "\n",
      "Enabling jupyter_cadquery replay\n"
     ]
    },
    {
     "name": "stderr",
     "output_type": "stream",
     "text": [
      "/home/ben/anaconda3/envs/jcq3/lib/python3.10/site-packages/quaternion/calculus.py:310: NumbaDeprecationWarning: \u001b[1mThe 'nopython' keyword argument was not supplied to the 'numba.jit' decorator. The implicit default value for this argument is currently False, but it will be changed to True in Numba 0.59.0. See https://numba.readthedocs.io/en/stable/reference/deprecation.html#deprecation-of-object-mode-fall-back-behaviour-when-using-jit for details.\u001b[0m\n",
      "  def fd_indefinite_integral(f, t):\n"
     ]
    }
   ],
   "source": [
    "import cadquery as cq\n",
    "\n",
    "from jupyter_cadquery import (\n",
    "    versions,\n",
    "    show, PartGroup, Part, \n",
    "    get_viewer, close_viewer, get_viewers, close_viewers, open_viewer, set_defaults, get_defaults, open_viewer,\n",
    "    get_pick,\n",
    ")\n",
    "\n",
    "from jupyter_cadquery.replay import replay, enable_replay, disable_replay\n",
    "''\n",
    "enable_replay(False)\n",
    "\n",
    "set_defaults(\n",
    "    cad_width=640, \n",
    "    height=480, \n",
    ")\n",
    "\n",
    "import sys\n",
    "sys.path.append('../')\n",
    "from cadquery.occ_impl.geom import Vector\n",
    "from config import Config, Shape\n",
    "from plate import get_base, get_screw_positions, get_key_positions, make_plate\n",
    "from case import get_basic_shape,  cut_aviator_connector_hole, get_distance_between_two_shapes,  add_microcontrollerbox, make_controller_box_top_plate, CustomisableSelector"
   ]
  },
  {
   "cell_type": "code",
   "execution_count": 12,
   "id": "0daf9313",
   "metadata": {},
   "outputs": [],
   "source": [
    "from controller import PiPico\n",
    "#rkn = [10,9,7,5,3,1]\n",
    "rkn = [7,10,10,10]\n",
    "config=Config(rkn, bottomFillet=2, controller=PiPico(),  edgeFillet=3)\n",
    "kp = get_key_positions(config)"
   ]
  },
  {
   "cell_type": "code",
   "execution_count": 84,
   "id": "e3583287",
   "metadata": {},
   "outputs": [],
   "source": [
    "config.to_json('../configs/original.json')"
   ]
  },
  {
   "cell_type": "code",
   "execution_count": 83,
   "id": "db440ac1",
   "metadata": {},
   "outputs": [
    {
     "name": "stdout",
     "output_type": "stream",
     "text": [
      "100% ⋮————————————————————————————————————————————————————————————⋮ (2/2)  0.77s\n"
     ]
    },
    {
     "data": {
      "application/vnd.jupyter.widget-view+json": {
       "model_id": "812ff9a3b0c44a60926ff235cca2dc37",
       "version_major": 2,
       "version_minor": 0
      },
      "text/plain": [
       "CadViewerWidget(anchor=None, cad_width=640, glass=False, height=480, pinning=False, theme='light', title=None,…"
      ]
     },
     "metadata": {},
     "output_type": "display_data"
    },
    {
     "data": {
      "text/html": [
       "<div></div>"
      ],
      "text/plain": [
       "<IPython.core.display.HTML object>"
      ]
     },
     "metadata": {},
     "output_type": "display_data"
    }
   ],
   "source": [
    "from case import make_case\n",
    "\n",
    "\n",
    "def cut_holes_in_top_plate(top):\n",
    "    top_plate_width = get_distance_between_two_shapes(top.edges('|Y and >Z'))['x']\n",
    "    led_num=3\n",
    "    led_array_start_x = -6\n",
    "    led_spacing = 7\n",
    "\n",
    "    #cut holes for LEDs\n",
    "    for i in range(0,led_num):\n",
    "        top= (top.faces('>Z').workplane(centerOption=\"CenterOfBoundBox\")\n",
    "            .moveTo(led_array_start_x - i*led_spacing,(-0.5))\n",
    "            .circle(2)\n",
    "            .cutThruAll()\n",
    "        )\n",
    "\n",
    "    # add slot for potentiometer\n",
    "    circle_dia = 9.1\n",
    "    flat_width = 8.1\n",
    "    encoder_hole_centre = (16, -1)\n",
    "    top = (top.faces('>Z').workplane(centerOption=\"CenterOfBoundBox\")\n",
    "        .center(encoder_hole_centre[0],encoder_hole_centre[1])\n",
    "        .moveTo(-0.5*flat_width, ((0.5*circle_dia)**2 - (0.5*flat_width)**2)**0.5)\n",
    "        .threePointArc((0, 0.5*circle_dia), (0.5*flat_width, ((0.5*circle_dia)**2 - (0.5*flat_width)**2)**0.5))\n",
    "        .vLine(-10)\n",
    "        .hLine(-flat_width)\n",
    "        .vLine(10)\n",
    "        .wire()\n",
    "        .cutThruAll()\n",
    "    )\n",
    "    return top\n",
    "case = make_case(config,modify_controller_box=cut_holes_in_top_plate)\n",
    "\n",
    "plate= make_plate(config)\n",
    "assy = cq.Assembly()\n",
    "assy.add(case)\n",
    "assy.add(plate,loc=cq.Location(cq.Vector(0,0,18)) )"
   ]
  },
  {
   "cell_type": "code",
   "execution_count": 82,
   "id": "59316922",
   "metadata": {},
   "outputs": [
    {
     "data": {
      "application/vnd.jupyter.widget-view+json": {
       "model_id": "0117408e27504744a0a9fd42e5cd436c",
       "version_major": 2,
       "version_minor": 0
      },
      "text/plain": [
       "CadViewerWidget(anchor=None, cad_width=640, glass=False, height=480, pinning=False, theme='light', title=None,…"
      ]
     },
     "metadata": {},
     "output_type": "display_data"
    },
    {
     "data": {
      "text/html": [
       "<div></div>"
      ],
      "text/plain": [
       "<IPython.core.display.HTML object>"
      ]
     },
     "metadata": {},
     "output_type": "display_data"
    }
   ],
   "source": [
    "\n",
    "\n"
   ]
  },
  {
   "cell_type": "code",
   "execution_count": 19,
   "id": "b6061f42",
   "metadata": {},
   "outputs": [
    {
     "data": {
      "text/plain": [
       "69.7"
      ]
     },
     "execution_count": 19,
     "metadata": {},
     "output_type": "execute_result"
    }
   ],
   "source": [
    "top.edges('<Y').val().Center().y\n"
   ]
  },
  {
   "cell_type": "code",
   "execution_count": 74,
   "id": "1c8be9d2",
   "metadata": {},
   "outputs": [
    {
     "data": {
      "text/plain": [
       "69.7"
      ]
     },
     "execution_count": 74,
     "metadata": {},
     "output_type": "execute_result"
    }
   ],
   "source": [
    "top.edges('<Y').val().Center().y\n"
   ]
  },
  {
   "cell_type": "code",
   "execution_count": 76,
   "id": "913ac5f9",
   "metadata": {},
   "outputs": [
    {
     "data": {
      "text/plain": [
       "7.0"
      ]
     },
     "execution_count": 76,
     "metadata": {},
     "output_type": "execute_result"
    }
   ],
   "source": [
    "dd = (top.faces('>Z').workplane(centerOption=\"CenterOfBoundBox\")\n",
    "            .center(encoder_hole_centre[0],encoder_hole_centre[1])\n",
    "._findFromPoint()).y\n",
    "\n",
    "dd-top.edges('<Y').val().Center().y\n",
    "\n"
   ]
  },
  {
   "cell_type": "code",
   "execution_count": 73,
   "id": "3ac9040b",
   "metadata": {},
   "outputs": [
    {
     "data": {
      "text/plain": [
       "Vector: (0.0, 0.0, 0.0)"
      ]
     },
     "execution_count": 73,
     "metadata": {},
     "output_type": "execute_result"
    }
   ],
   "source": [
    "(top.faces('>Z').workplane(centerOption=\"CenterOfBoundBox\")\n",
    "            .center(encoder_hole_centre[0],encoder_hole_centre[1])\n",
    "._findFromPoint(True))"
   ]
  },
  {
   "cell_type": "code",
   "execution_count": 88,
   "id": "1ac43a27",
   "metadata": {},
   "outputs": [],
   "source": [
    "def my_func(**kwargs):\n",
    "    if 'b' in kwargs.keys():\n",
    "        print('found b')\n",
    "    return kwargs"
   ]
  },
  {
   "cell_type": "code",
   "execution_count": 90,
   "id": "6d0c5230",
   "metadata": {},
   "outputs": [
    {
     "name": "stdout",
     "output_type": "stream",
     "text": [
      "found b\n"
     ]
    },
    {
     "data": {
      "text/plain": [
       "{'a': 'a', 'b': 1}"
      ]
     },
     "execution_count": 90,
     "metadata": {},
     "output_type": "execute_result"
    }
   ],
   "source": [
    "my_func(a='a',b=1)"
   ]
  },
  {
   "cell_type": "code",
   "execution_count": null,
   "id": "f462f741",
   "metadata": {},
   "outputs": [],
   "source": []
  }
 ],
 "metadata": {
  "kernelspec": {
   "display_name": "Python 3 (ipykernel)",
   "language": "python",
   "name": "python3"
  },
  "language_info": {
   "codemirror_mode": {
    "name": "ipython",
    "version": 3
   },
   "file_extension": ".py",
   "mimetype": "text/x-python",
   "name": "python",
   "nbconvert_exporter": "python",
   "pygments_lexer": "ipython3",
   "version": "3.10.13"
  }
 },
 "nbformat": 4,
 "nbformat_minor": 5
}
