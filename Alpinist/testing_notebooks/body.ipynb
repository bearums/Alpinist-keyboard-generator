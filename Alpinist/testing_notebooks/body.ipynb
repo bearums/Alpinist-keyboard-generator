{
 "cells": [
  {
   "cell_type": "code",
   "execution_count": 1,
   "id": "a94dfa0a",
   "metadata": {},
   "outputs": [
    {
     "name": "stdout",
     "output_type": "stream",
     "text": [
      "Overwriting auto display for cadquery Workplane and Shape\n",
      "\n",
      "Enabling jupyter_cadquery replay\n"
     ]
    },
    {
     "name": "stderr",
     "output_type": "stream",
     "text": [
      "/home/ben/anaconda3/envs/jcq3/lib/python3.10/site-packages/quaternion/calculus.py:310: NumbaDeprecationWarning: \u001b[1mThe 'nopython' keyword argument was not supplied to the 'numba.jit' decorator. The implicit default value for this argument is currently False, but it will be changed to True in Numba 0.59.0. See https://numba.readthedocs.io/en/stable/reference/deprecation.html#deprecation-of-object-mode-fall-back-behaviour-when-using-jit for details.\u001b[0m\n",
      "  def fd_indefinite_integral(f, t):\n"
     ]
    }
   ],
   "source": [
    "import cadquery as cq\n",
    "\n",
    "from jupyter_cadquery import (\n",
    "    versions,\n",
    "    show, PartGroup, Part, \n",
    "    get_viewer, close_viewer, get_viewers, close_viewers, open_viewer, set_defaults, get_defaults, open_viewer,\n",
    "    get_pick,\n",
    ")\n",
    "\n",
    "from jupyter_cadquery.replay import replay, enable_replay, disable_replay\n",
    "''\n",
    "enable_replay(False)\n",
    "\n",
    "set_defaults(\n",
    "    cad_width=640, \n",
    "    height=480, \n",
    ")\n",
    "\n",
    "import sys\n",
    "sys.path.append('../')\n",
    "from config import Config, Shape\n",
    "from plate import get_base, get_screw_positions, get_key_positions, make_plate\n",
    "from case import get_basic_shape,  cut_aviator_connector_hole, get_distance_between_two_vertices,  add_microcontrollerbox"
   ]
  },
  {
   "cell_type": "code",
   "execution_count": 14,
   "id": "988198f4",
   "metadata": {},
   "outputs": [
    {
     "name": "stdout",
     "output_type": "stream",
     "text": [
      "100% ⋮————————————————————————————————————————————————————————————⋮ (2/2)  0.00s\n"
     ]
    },
    {
     "data": {
      "application/vnd.jupyter.widget-view+json": {
       "model_id": "1cd70c91b0a34bdd9f75b07a1bcaf889",
       "version_major": 2,
       "version_minor": 0
      },
      "text/plain": [
       "CadViewerWidget(anchor=None, cad_width=640, glass=False, height=480, pinning=False, theme='light', title=None,…"
      ]
     },
     "metadata": {},
     "output_type": "display_data"
    },
    {
     "data": {
      "text/html": [
       "<div></div>"
      ],
      "text/plain": [
       "<IPython.core.display.HTML object>"
      ]
     },
     "metadata": {},
     "output_type": "display_data"
    }
   ],
   "source": []
  },
  {
   "cell_type": "code",
   "execution_count": 2,
   "id": "629202b8",
   "metadata": {},
   "outputs": [],
   "source": [
    "def make_controller_box_top_plate(case,config):\n",
    "\n",
    "    controllerBoxLength =  get_distance_between_two_vertices(case.faces(tag='controllerBoxTop').vertices('<X'))['y']\n",
    "    controllerBoxWidth = get_distance_between_two_vertices(case.faces(tag='controllerBoxTop').vertices('<Y'))['x']\n",
    "\n",
    "    controller_box_top = (case\n",
    "                        .faces(tag='controllerBoxTop')\n",
    "                        .workplane(centerOption=\"CenterOfBoundBox\", invert=True)\n",
    "                        .move(0,config.wallThickness)\n",
    "                        .box(controllerBoxWidth,controllerBoxLength, config.controllerBoxThickness, centered=[True,True,False],combine=False)\n",
    "    )\n",
    "\n",
    "\n",
    "    return controller_box_top"
   ]
  },
  {
   "cell_type": "code",
   "execution_count": 2,
   "id": "0daf9313",
   "metadata": {},
   "outputs": [],
   "source": [
    "\n",
    "rkn = [4,8,8,6]\n",
    "config=Config(rkn, shape=Shape.LEAN, floorThickness=3)\n",
    "kp = get_key_positions(config)"
   ]
  },
  {
   "cell_type": "code",
   "execution_count": 7,
   "id": "c1eba356",
   "metadata": {},
   "outputs": [],
   "source": [
    "\n",
    "\n",
    "if True:\n",
    "    controllerBoxLength =  get_distance_between_two_vertices(case.faces(tag='controllerBoxTop').vertices('<X'))['y']\n",
    "    controllerBoxWidth = get_distance_between_two_vertices(case.faces(tag='controllerBoxTop').vertices('<Y'))['x']+10\n",
    "\n",
    "    controller_box_top = (case\n",
    "                        .faces(tag='controllerBoxTop')\n",
    "                        .workplane(centerOption=\"CenterOfBoundBox\", invert=True)\n",
    "                        .move(0,config.wallThickness)\n",
    "                        .box(controllerBoxWidth,controllerBoxLength, config.controllerBoxThickness, centered=[True,True,False],combine=False)\n",
    "    )\n",
    "\n",
    "#case.intersect(controller_box_top)\n",
    "    \n"
   ]
  },
  {
   "cell_type": "code",
   "execution_count": 9,
   "id": "f0e95b63",
   "metadata": {},
   "outputs": [
    {
     "data": {
      "application/vnd.jupyter.widget-view+json": {
       "model_id": "d0549075a9404ffab63d93c8659333aa",
       "version_major": 2,
       "version_minor": 0
      },
      "text/plain": [
       "CadViewerWidget(anchor=None, cad_width=640, glass=False, height=480, pinning=False, theme='light', title=None,…"
      ]
     },
     "metadata": {},
     "output_type": "display_data"
    },
    {
     "data": {
      "text/html": [
       "<div></div>"
      ],
      "text/plain": [
       "<IPython.core.display.HTML object>"
      ]
     },
     "metadata": {},
     "output_type": "display_data"
    }
   ],
   "source": [
    "case.faces('+Y',tag='outface').faces('>>Y[-2]').tag('xxxx')\n",
    "\n",
    "\n",
    "case.faces(tag='xxxx').workplane(centerOption=\"CenterOfBoundBox\").box(60,20,25, centered=[True,True,False])"
   ]
  },
  {
   "cell_type": "code",
   "execution_count": 3,
   "id": "1463849c",
   "metadata": {},
   "outputs": [],
   "source": [
    "\n",
    "\n",
    "def make_case(config:Config) -> cq.Sketch:\n",
    "    \"\"\"TODO: add screw holes for microcontroller (check they are in right position!!)\n",
    "            change fillet parameters\n",
    "            add module for leds, encoder and aviator\n",
    "            \"\"\"\n",
    "    \n",
    "    \n",
    "    case= get_basic_shape(config)\n",
    "    case.faces('<Z or >Z').tag('bottomface')\n",
    "\n",
    "\n",
    "    # add box for microcontroller\n",
    "    if config.controller is not None:\n",
    "        case = add_microcontrollerbox(case, config)\n",
    "\n",
    "\n",
    "    #fillet edges\n",
    "    case = case.edges('|Z').fillet(config.edgeFillet)\n",
    "    #case.edges('>Z').tag('outerTopEdge')\n",
    "    case.faces('(not <Z) and (not >Z)').tag('outface')\n",
    "    case.wires('>Z').all()[0].tag('topwire')\n",
    "\n",
    "    # scoop out interior\n",
    "    case= (case.faces(\">Z or <Z\").shell(-config.wallThickness, kind='intersection'))\n",
    "    \n",
    "    # set floor thickness \n",
    "    case = case.faces('<Z').wires('>X and >Y').toPending().extrude(config.floorThickness)\n",
    "    \n",
    "    return case\n",
    "    \n",
    "    #fillet bottom edge\n",
    "    case = case.edges('<Z').fillet(3)\n",
    "\n",
    "\n",
    "\n",
    "    # add plate screw holes \n",
    "    scr_hls = get_screw_positions(config)\n",
    "    case=(case.faces('<Z').workplane(origin=(0,0))\n",
    "          .pushPoints([(x,-y) for x,y in scr_hls])\n",
    "          .cskHole(2.4, 4.8, 82, depth=None)    \n",
    "          )\n",
    "\n",
    "    # add controllerbox holes.\n",
    "    # TODO - remove hardcoding on screw hole size\n",
    "    if config.controller is not None:\n",
    "        case = (case.workplaneFromTagged(\"controllerBox\")\n",
    "                .rect(config.controller.screw_hole_x,\n",
    "                        config.controller.screw_hole_y- config.wallThickness - config.controllerYOffset - (config.controller.board_dimension_y -config.controller.screw_hole_y)*0.5, \n",
    "                        forConstruction=True ,centered=[True,True,True])\n",
    "                .vertices()\n",
    "                .cskHole(2.4, 4.8, 82, depth=None))\n",
    "    \n",
    "    #cut hole for aviator connector \n",
    "    case = cut_aviator_connector_hole(case, config)\n",
    "\n",
    "    return case\n"
   ]
  },
  {
   "cell_type": "code",
   "execution_count": 4,
   "id": "b6d587ee",
   "metadata": {},
   "outputs": [],
   "source": [
    "case = make_case(config)"
   ]
  },
  {
   "cell_type": "code",
   "execution_count": 13,
   "id": "ab6a2e22",
   "metadata": {},
   "outputs": [],
   "source": []
  },
  {
   "cell_type": "code",
   "execution_count": 113,
   "id": "a5b3b94a",
   "metadata": {},
   "outputs": [
    {
     "ename": "NameError",
     "evalue": "name 'debug' is not defined",
     "output_type": "error",
     "traceback": [
      "\u001b[0;31m---------------------------------------------------------------------------\u001b[0m",
      "\u001b[0;31mNameError\u001b[0m                                 Traceback (most recent call last)",
      "Cell \u001b[0;32mIn[113], line 4\u001b[0m\n\u001b[1;32m      1\u001b[0m points \u001b[38;5;241m=\u001b[39m case\u001b[38;5;241m.\u001b[39medges(cq\u001b[38;5;241m.\u001b[39mNearestToPointSelector(pp[\u001b[38;5;241m0\u001b[39m]\u001b[38;5;241m.\u001b[39mtoTuple()))\u001b[38;5;241m.\u001b[39mvertices()\u001b[38;5;241m.\u001b[39mvals()\n\u001b[0;32m----> 4\u001b[0m \u001b[43mdebug\u001b[49m(case\u001b[38;5;241m.\u001b[39mpoints[\u001b[38;5;241m0\u001b[39m])\n",
      "\u001b[0;31mNameError\u001b[0m: name 'debug' is not defined"
     ]
    }
   ],
   "source": [
    "points = case.edges(cq.NearestToPointSelector(pp[0].toTuple())).vertices().vals()\n",
    "\n",
    "\n",
    "debug(case.points[0])"
   ]
  },
  {
   "cell_type": "code",
   "execution_count": 119,
   "id": "91bf7f90",
   "metadata": {},
   "outputs": [
    {
     "data": {
      "application/vnd.jupyter.widget-view+json": {
       "model_id": "1b74f8b3b1d2469fadc3aa31d91edce3",
       "version_major": 2,
       "version_minor": 0
      },
      "text/plain": [
       "CadViewerWidget(anchor=None, cad_width=640, glass=False, height=480, pinning=False, theme='light', title=None,…"
      ]
     },
     "metadata": {},
     "output_type": "display_data"
    },
    {
     "data": {
      "text/html": [
       "<div></div>"
      ],
      "text/plain": [
       "<IPython.core.display.HTML object>"
      ]
     },
     "metadata": {},
     "output_type": "display_data"
    }
   ],
   "source": [
    "vvv= list(filter(lambda x: points[0] in x.Vertices(), case.wires('>Z').vals()[0].Edges()))\n",
    "\n",
    "#case.wires('>Z').vals()[0].Vertices()[0]\n",
    "\n",
    "\n",
    "case\n",
    "\n",
    "vvv[0]"
   ]
  },
  {
   "cell_type": "code",
   "execution_count": 158,
   "id": "f8296c89",
   "metadata": {},
   "outputs": [
    {
     "data": {
      "text/plain": [
       "[<cadquery.occ_impl.shapes.Edge at 0x7f152a27b160>,\n",
       " <cadquery.occ_impl.shapes.Edge at 0x7f152a1949a0>,\n",
       " <cadquery.occ_impl.shapes.Edge at 0x7f152a194a60>]"
      ]
     },
     "execution_count": 158,
     "metadata": {},
     "output_type": "execute_result"
    }
   ],
   "source": [
    "case.faces('-Y').faces('>>Y').edges('>Z').tag('topPoints')\n",
    "\n",
    "top_edge_of_box = case.edges(tag='topPoints').val()\n",
    "vertices_of_box = [v.toTuple() for v in top_edge_of_box.Vertices()]\n",
    "\n",
    "# find wire with edge in \n",
    "\n",
    "wires_to_search = case.wires('>Z').vals()\n",
    "\n",
    "\n",
    "wire = list(filter(lambda x: top_edge_of_box in x.Edges(), wires_to_search))[0]\n",
    "\n",
    "\n",
    "#filter wires connected to top edge of box\n",
    "\n",
    "wanted_edges=[]\n",
    "for e in wire.Edges():\n",
    "    start_end_points = [v.toTuple() for v in e.Vertices()]\n",
    "    if vertices_of_box[0] in start_end_points or  vertices_of_box[1] in start_end_points:\n",
    "        wanted_edges.append(e)\n",
    "\n",
    "    "
   ]
  },
  {
   "cell_type": "code",
   "execution_count": 159,
   "id": "92757a47",
   "metadata": {},
   "outputs": [
    {
     "name": "stdout",
     "output_type": "stream",
     "text": [
      "100% ⋮————————————————————————————————————————————————————————————⋮ (2/2)  0.00s\n"
     ]
    },
    {
     "data": {
      "application/vnd.jupyter.widget-view+json": {
       "model_id": "68ecbb75ea324b6890750aa82b2a7121",
       "version_major": 2,
       "version_minor": 0
      },
      "text/plain": [
       "CadViewerWidget(anchor=None, cad_width=640, glass=False, height=480, pinning=False, theme='light', title=None,…"
      ]
     },
     "metadata": {},
     "output_type": "display_data"
    },
    {
     "data": {
      "text/html": [
       "<div></div>"
      ],
      "text/plain": [
       "<IPython.core.display.HTML object>"
      ]
     },
     "metadata": {},
     "output_type": "display_data"
    }
   ],
   "source": [
    "case.newObject(wanted_edges)"
   ]
  },
  {
   "cell_type": "code",
   "execution_count": null,
   "id": "6fd7ea79",
   "metadata": {},
   "outputs": [],
   "source": []
  }
 ],
 "metadata": {
  "kernelspec": {
   "display_name": "Python 3 (ipykernel)",
   "language": "python",
   "name": "python3"
  },
  "language_info": {
   "codemirror_mode": {
    "name": "ipython",
    "version": 3
   },
   "file_extension": ".py",
   "mimetype": "text/x-python",
   "name": "python",
   "nbconvert_exporter": "python",
   "pygments_lexer": "ipython3",
   "version": "3.10.13"
  }
 },
 "nbformat": 4,
 "nbformat_minor": 5
}
