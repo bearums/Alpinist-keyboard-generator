{
 "cells": [
  {
   "cell_type": "code",
   "execution_count": 2,
   "id": "a94dfa0a",
   "metadata": {},
   "outputs": [
    {
     "name": "stdout",
     "output_type": "stream",
     "text": [
      "\n",
      "Enabling jupyter_cadquery replay\n"
     ]
    }
   ],
   "source": [
    "import cadquery as cq\n",
    "\n",
    "from jupyter_cadquery import (\n",
    "    versions,\n",
    "    show, PartGroup, Part, \n",
    "    get_viewer, close_viewer, get_viewers, close_viewers, open_viewer, set_defaults, get_defaults, open_viewer,\n",
    "    get_pick,\n",
    ")\n",
    "\n",
    "from jupyter_cadquery.replay import replay, enable_replay, disable_replay\n",
    "''\n",
    "enable_replay(False)\n",
    "\n",
    "set_defaults(\n",
    "    cad_width=640, \n",
    "    height=480, \n",
    ")\n",
    "\n",
    "from plate import Config, Shape, get_base, get_screw_positions, get_key_positions, make_plate\n"
   ]
  },
  {
   "cell_type": "code",
   "execution_count": 177,
   "id": "0daf9313",
   "metadata": {},
   "outputs": [],
   "source": [
    "rkn = [6,6,6,5,1]\n",
    "\n",
    "config=Config(rkn, shape=Shape.LEAN)\n",
    "kp = get_key_positions(config)"
   ]
  },
  {
   "cell_type": "code",
   "execution_count": 178,
   "id": "43922f03",
   "metadata": {},
   "outputs": [],
   "source": [
    "\n",
    "def make_case(config:Config) -> cq.Sketch:\n",
    "    \"\"\"TODO: make separate floor thickness\n",
    "            change fillet parameters\n",
    "            add module for leds, encoder and aviator\n",
    "            add screw holes\"\"\"\n",
    "    case_height = config.caseHeight\n",
    "    case_gap = config.caseGap\n",
    "    wall_thickness=config.wallThickness\n",
    "    \n",
    "    \n",
    "    foot_x, foot_y = (config.columnSpacing / 2 + config.switchHoleSize, config.rowSpacing / 2 +\n",
    "                          config.switchHoleSize) if config.shape == Shape.LEAN else (config.switchHoleSize, config.switchHoleSize)\n",
    "    case = cq.Sketch()\n",
    "\n",
    "    \n",
    "    kp = get_key_positions(config)\n",
    "    \n",
    "    case = case.push(kp.values())\n",
    "    case = case.rect(foot_x+(case_gap+wall_thickness)*2, foot_y+(case_gap+wall_thickness)*2).faces().clean().offset(wall_thickness).clean()#.vertices().fillet(3)\n",
    "    case=cq.Workplane().placeSketch(case).extrude(case_height)\n",
    "\n",
    "    case=case.faces(\"+Z\").shell(-wall_thickness).edges(\"|Z\").fillet(3)\n",
    "\n",
    "    return case"
   ]
  },
  {
   "cell_type": "code",
   "execution_count": 179,
   "id": "5a862487",
   "metadata": {},
   "outputs": [],
   "source": [
    "case = make_case(config)"
   ]
  },
  {
   "cell_type": "code",
   "execution_count": 180,
   "id": "28b53e9d",
   "metadata": {},
   "outputs": [
    {
     "data": {
      "application/vnd.jupyter.widget-view+json": {
       "model_id": "e3698168dda54f7fb2117c750aa1880a",
       "version_major": 2,
       "version_minor": 0
      },
      "text/plain": [
       "CadViewerWidget(anchor=None, cad_width=640, glass=False, height=480, pinning=False, theme='light', title=None,…"
      ]
     },
     "metadata": {},
     "output_type": "display_data"
    },
    {
     "data": {
      "text/html": [
       "<div></div>"
      ],
      "text/plain": [
       "<IPython.core.display.HTML object>"
      ]
     },
     "metadata": {},
     "output_type": "display_data"
    }
   ],
   "source": [
    "case"
   ]
  },
  {
   "cell_type": "code",
   "execution_count": 181,
   "id": "adc849aa",
   "metadata": {},
   "outputs": [],
   "source": [
    "controllerBoxLength = 20\n",
    "controllerBoxWidth=80\n",
    "\n",
    "# find position of controller box\n",
    "# add controller box corners to kp\n",
    "if True:\n",
    "\n",
    "    #x_centre = max(config.row_key_num)* config.rowSpacing*0.5\n",
    "    x_centre = 0.5*(min([x[0] for x in list(kp.values())])+ max([x[0] for x in list(kp.values())]))\n",
    "    \n",
    "    foot_x, foot_y = (config.columnSpacing / 2 + config.switchHoleSize, config.rowSpacing / 2 +\n",
    "                          config.switchHoleSize) if config.shape == Shape.LEAN else (config.switchHoleSize, config.switchHoleSize)\n",
    "    case = cq.Sketch()\n",
    "\n",
    "    \n",
    "    kp = get_key_positions(config)\n",
    "    \n",
    "    \n",
    "    points_to_push = list(kp.values())\n",
    "    case = case.push(points_to_push)\n",
    "\n",
    "    \n",
    "    case = (case.rect(foot_x+(config.caseGap+wall_thickness)*2, foot_y+(config.caseGap+wall_thickness)*2)\n",
    "            .faces()\n",
    "            .clean()\n",
    "            .offset(config.wallThickness)\n",
    "            .clean())\n",
    "    case=cq.Workplane().placeSketch(case).extrude(config.caseHeight)\n",
    "    case = (case\n",
    "            .edges('>Y and <Z')\n",
    "            .workplane(centerOption=\"CenterOfBoundBox\")\n",
    "            .box(controllerBoxWidth,controllerBoxLength, config.caseHeight, centered=[True,False,False])\n",
    "           )\n",
    "\n",
    "    case=case.faces(\"+Z\").shell(-wall_thickness).edges(\"|Z\").fillet(3)"
   ]
  },
  {
   "cell_type": "code",
   "execution_count": 182,
   "id": "788ea28a",
   "metadata": {},
   "outputs": [
    {
     "data": {
      "application/vnd.jupyter.widget-view+json": {
       "model_id": "48d0c4792027400cae3a2e4c2aa4b0ed",
       "version_major": 2,
       "version_minor": 0
      },
      "text/plain": [
       "CadViewerWidget(anchor=None, cad_width=640, glass=False, height=480, pinning=False, theme='light', title=None,…"
      ]
     },
     "metadata": {},
     "output_type": "display_data"
    },
    {
     "data": {
      "text/html": [
       "<div></div>"
      ],
      "text/plain": [
       "<IPython.core.display.HTML object>"
      ]
     },
     "metadata": {},
     "output_type": "display_data"
    }
   ],
   "source": [
    "case"
   ]
  },
  {
   "cell_type": "code",
   "execution_count": 52,
   "id": "0539a9e0",
   "metadata": {},
   "outputs": [
    {
     "data": {
      "text/plain": [
       "47.5"
      ]
     },
     "execution_count": 52,
     "metadata": {},
     "output_type": "execute_result"
    }
   ],
   "source": [
    "0.5*(min([x[0] for x in list(kp.values())])+ max([x[0] for x in list(kp.values())]))"
   ]
  },
  {
   "cell_type": "code",
   "execution_count": 145,
   "id": "e88fd8eb",
   "metadata": {},
   "outputs": [
    {
     "data": {
      "application/vnd.jupyter.widget-view+json": {
       "model_id": "e6422fb9e60a4511b97e37f83e3ca2b6",
       "version_major": 2,
       "version_minor": 0
      },
      "text/plain": [
       "CadViewerWidget(anchor=None, cad_width=640, glass=False, height=480, pinning=False, theme='light', title=None,…"
      ]
     },
     "metadata": {},
     "output_type": "display_data"
    },
    {
     "data": {
      "text/html": [
       "<div></div>"
      ],
      "text/plain": [
       "<IPython.core.display.HTML object>"
      ]
     },
     "metadata": {},
     "output_type": "display_data"
    }
   ],
   "source": [
    "controllerBoxLength = 20\n",
    "controllerBoxWidth=80\n",
    "\n",
    "# find position of controller box\n",
    "# add controller box corners to kp\n",
    "if True:\n",
    "\n",
    "    #x_centre = max(config.row_key_num)* config.rowSpacing*0.5\n",
    "    x_centre = 0.5*(min([x[0] for x in list(kp.values())])+ max([x[0] for x in list(kp.values())]))\n",
    "    \n",
    "    foot_x, foot_y = (config.columnSpacing / 2 + config.switchHoleSize, config.rowSpacing / 2 +\n",
    "                          config.switchHoleSize) if config.shape == Shape.LEAN else (config.switchHoleSize, config.switchHoleSize)\n",
    "    case = cq.Sketch()\n",
    "\n",
    "    \n",
    "    kp = get_key_positions(config)\n",
    "    #points_to_push = [y[1] for y in list(filter( lambda x: x[0] not in idxs_to_drop, kp.items()))]\n",
    "    points_to_push=[]\n",
    "    for x in range(len(config.row_key_num)):\n",
    "            points_to_push.append((x,0))\n",
    "            points_to_push.append((x,config.row_key_num[x]-1))\n",
    "    #points_to_push.extend([(x_centre+0.5*controllerBoxWidth,80) ,(x_centre-0.5*controllerBoxWidth,80), (x_centre,80)])\n",
    "    points_to_push=[]\n",
    "    for x in range(len(config.row_key_num)):\n",
    "            points_to_push.append(kp[(x,0)])\n",
    "            points_to_push.append(kp[(x,list(reversed(config.row_key_num))[x]-1)])\n",
    "    case = case.push(points_to_push)\n",
    "    #case = case.push([(0,0) ,(10,10)])\n",
    "    \n",
    "    case = (case.rect(foot_x+(config.caseGap+wall_thickness)*2, foot_y+(config.caseGap+wall_thickness)*2)\n",
    "           .faces()\n",
    "           .clean()\n",
    "           .offset(config.wallThickness)\n",
    "           .clean())\n",
    "    case=cq.Workplane().placeSketch(case).extrude(config.caseHeight)\n",
    "\n",
    "    #case=case.faces(\"+Z\").shell(-wall_thickness).edges(\"|Z\").fillet(3)\n",
    "    \n",
    "case"
   ]
  },
  {
   "cell_type": "code",
   "execution_count": 68,
   "id": "4d529454",
   "metadata": {},
   "outputs": [
    {
     "data": {
      "text/plain": [
       "(4, [6, 6, 6, 5])"
      ]
     },
     "execution_count": 68,
     "metadata": {},
     "output_type": "execute_result"
    }
   ],
   "source": [
    "len(config.row_key_num), config.row_key_num"
   ]
  },
  {
   "cell_type": "code",
   "execution_count": 91,
   "id": "bebce7e9",
   "metadata": {},
   "outputs": [
    {
     "data": {
      "text/plain": [
       "[((0, 0), (9.5, 0))]"
      ]
     },
     "execution_count": 91,
     "metadata": {},
     "output_type": "execute_result"
    }
   ],
   "source": []
  },
  {
   "cell_type": "code",
   "execution_count": 77,
   "id": "2c6ce5fe",
   "metadata": {},
   "outputs": [
    {
     "data": {
      "text/plain": [
       "(57, 57)"
      ]
     },
     "execution_count": 77,
     "metadata": {},
     "output_type": "execute_result"
    }
   ],
   "source": [
    "kp[len(config.row_key_num)-1, 3]\n"
   ]
  },
  {
   "cell_type": "code",
   "execution_count": 79,
   "id": "8aa65661",
   "metadata": {},
   "outputs": [
    {
     "data": {
      "text/plain": [
       "[(0, 57), (19, 57), (38, 57), (57, 57), (76, 57), (95, 57)]"
      ]
     },
     "execution_count": 79,
     "metadata": {},
     "output_type": "execute_result"
    }
   ],
   "source": [
    "[kp[len(config.row_key_num)-1, x] for x in range( 1, config.row_key_num[0])-1]"
   ]
  },
  {
   "cell_type": "code",
   "execution_count": 85,
   "id": "2ffea0d0",
   "metadata": {},
   "outputs": [],
   "source": [
    "points_to_remove = [kp[len(config.row_key_num)-1, x] for x in range(  1,config.row_key_num[0]-1)]"
   ]
  },
  {
   "cell_type": "code",
   "execution_count": 95,
   "id": "41a7ac4a",
   "metadata": {},
   "outputs": [
    {
     "data": {
      "text/plain": [
       "[((0, 0), (9.5, 0)),\n",
       " ((0, 1), (28.5, 0)),\n",
       " ((0, 2), (47.5, 0)),\n",
       " ((0, 3), (66.5, 0)),\n",
       " ((0, 4), (85.5, 0)),\n",
       " ((1, 0), (0, 19)),\n",
       " ((1, 1), (19, 19)),\n",
       " ((1, 2), (38, 19)),\n",
       " ((1, 3), (57, 19)),\n",
       " ((1, 4), (76, 19)),\n",
       " ((1, 5), (95, 19)),\n",
       " ((2, 0), (0, 38)),\n",
       " ((2, 1), (19, 38)),\n",
       " ((2, 2), (38, 38)),\n",
       " ((2, 3), (57, 38)),\n",
       " ((2, 4), (76, 38)),\n",
       " ((2, 5), (95, 38)),\n",
       " ((3, 0), (0, 57)),\n",
       " ((3, 5), (95, 57))]"
      ]
     },
     "execution_count": 95,
     "metadata": {},
     "output_type": "execute_result"
    }
   ],
   "source": [
    "idxs_to_drop = [(len(config.row_key_num)-1, x) for x in range(1, config.row_key_num[0]-1)]\n",
    "\n",
    "idxs_to_drop\n",
    "\n",
    "list(filter( lambda x: x[0] not in idxs_to_drop, kp.items()))"
   ]
  },
  {
   "cell_type": "code",
   "execution_count": 101,
   "id": "1b71e5c3",
   "metadata": {},
   "outputs": [],
   "source": [
    "points_to_push = [y[1] for y in list(filter( lambda x: x[0] not in idxs_to_drop, kp.items()))]\n",
    "points_to_push.extend([(x_centre+0.5*controllerBoxWidth,80) ,(x_centre-0.5*controllerBoxWidth,80), (x_centre,80)])\n",
    "    "
   ]
  },
  {
   "cell_type": "code",
   "execution_count": 102,
   "id": "04820436",
   "metadata": {},
   "outputs": [
    {
     "data": {
      "text/plain": [
       "[(9.5, 0),\n",
       " (28.5, 0),\n",
       " (47.5, 0),\n",
       " (66.5, 0),\n",
       " (85.5, 0),\n",
       " (0, 19),\n",
       " (19, 19),\n",
       " (38, 19),\n",
       " (57, 19),\n",
       " (76, 19),\n",
       " (95, 19),\n",
       " (0, 38),\n",
       " (19, 38),\n",
       " (38, 38),\n",
       " (57, 38),\n",
       " (76, 38),\n",
       " (95, 38),\n",
       " (0, 57),\n",
       " (95, 57),\n",
       " (87.5, 80),\n",
       " (7.5, 80),\n",
       " (47.5, 80)]"
      ]
     },
     "execution_count": 102,
     "metadata": {},
     "output_type": "execute_result"
    }
   ],
   "source": [
    "points_to_push"
   ]
  },
  {
   "cell_type": "code",
   "execution_count": 111,
   "id": "e8b88b4a",
   "metadata": {},
   "outputs": [
    {
     "ename": "NameError",
     "evalue": "name 'x' is not defined",
     "output_type": "error",
     "traceback": [
      "\u001b[0;31m---------------------------------------------------------------------------\u001b[0m",
      "\u001b[0;31mNameError\u001b[0m                                 Traceback (most recent call last)",
      "Cell \u001b[0;32mIn[111], line 1\u001b[0m\n\u001b[0;32m----> 1\u001b[0m [ [(x,) \u001b[38;5;28;01mfor\u001b[39;00m x \u001b[38;5;129;01min\u001b[39;00m \u001b[38;5;28mrange\u001b[39m(\u001b[38;5;28mlen\u001b[39m(config\u001b[38;5;241m.\u001b[39mrow_key_num))] \u001b[38;5;28;01mfor\u001b[39;00m y \u001b[38;5;129;01min\u001b[39;00m [\u001b[38;5;241m0\u001b[39m, config\u001b[38;5;241m.\u001b[39mrow_key_num[\u001b[43mx\u001b[49m]\u001b[38;5;241m-\u001b[39m\u001b[38;5;241m1\u001b[39m]]\n",
      "\u001b[0;31mNameError\u001b[0m: name 'x' is not defined"
     ]
    }
   ],
   "source": [
    "[ [(x,) for x in range(len(config.row_key_num))] for y in [0, config.row_key_num[x]-1]]"
   ]
  },
  {
   "cell_type": "code",
   "execution_count": 112,
   "id": "5c00207a",
   "metadata": {},
   "outputs": [
    {
     "data": {
      "text/plain": [
       "[[(0, 0), (1, 0), (2, 0), (3, 0), (4, 0)],\n",
       " [(0, 1), (1, 1), (2, 1), (3, 1), (4, 1)],\n",
       " [(0, 2), (1, 2), (2, 2), (3, 2), (4, 2)],\n",
       " [(0, 3), (1, 3), (2, 3), (3, 3), (4, 3)],\n",
       " [(0, 4), (1, 4), (2, 4), (3, 4), (4, 4)]]"
      ]
     },
     "execution_count": 112,
     "metadata": {},
     "output_type": "execute_result"
    }
   ],
   "source": [
    "[[(j,i) for j in range(5)] for i in range(5)]"
   ]
  },
  {
   "cell_type": "code",
   "execution_count": 116,
   "id": "66ea1de1",
   "metadata": {},
   "outputs": [
    {
     "data": {
      "text/plain": [
       "[[(0, 0), (0, 5)], [(1, 0), (1, 5)], [(2, 0), (2, 5)], [(3, 0), (3, 4)]]"
      ]
     },
     "execution_count": 116,
     "metadata": {},
     "output_type": "execute_result"
    }
   ],
   "source": [
    "[[(x,y) for y in [0, config.row_key_num[x]-1]] for x in range(len(config.row_key_num))]"
   ]
  },
  {
   "cell_type": "code",
   "execution_count": 142,
   "id": "ca940965",
   "metadata": {},
   "outputs": [],
   "source": [
    "points_to_push=[]\n",
    "for x in range(len(config.row_key_num)):\n",
    "        points_to_push.append(kp[(x,0)])\n",
    "        points_to_push.append(kp[(x,list(reversed(config.row_key_num))[x]-1)])"
   ]
  },
  {
   "cell_type": "code",
   "execution_count": 143,
   "id": "eb131e64",
   "metadata": {},
   "outputs": [
    {
     "data": {
      "text/plain": [
       "[(9.5, 0), (85.5, 0), (0, 19), (95, 19), (0, 38), (95, 38), (0, 57), (95, 57)]"
      ]
     },
     "execution_count": 143,
     "metadata": {},
     "output_type": "execute_result"
    }
   ],
   "source": [
    "points_to_push"
   ]
  },
  {
   "cell_type": "code",
   "execution_count": 140,
   "id": "787e9bdf",
   "metadata": {},
   "outputs": [
    {
     "data": {
      "text/plain": [
       "{(0, 0): (9.5, 0),\n",
       " (0, 1): (28.5, 0),\n",
       " (0, 2): (47.5, 0),\n",
       " (0, 3): (66.5, 0),\n",
       " (0, 4): (85.5, 0),\n",
       " (1, 0): (0, 19),\n",
       " (1, 1): (19, 19),\n",
       " (1, 2): (38, 19),\n",
       " (1, 3): (57, 19),\n",
       " (1, 4): (76, 19),\n",
       " (1, 5): (95, 19),\n",
       " (2, 0): (0, 38),\n",
       " (2, 1): (19, 38),\n",
       " (2, 2): (38, 38),\n",
       " (2, 3): (57, 38),\n",
       " (2, 4): (76, 38),\n",
       " (2, 5): (95, 38),\n",
       " (3, 0): (0, 57),\n",
       " (3, 1): (19, 57),\n",
       " (3, 2): (38, 57),\n",
       " (3, 3): (57, 57),\n",
       " (3, 4): (76, 57),\n",
       " (3, 5): (95, 57)}"
      ]
     },
     "execution_count": 140,
     "metadata": {},
     "output_type": "execute_result"
    }
   ],
   "source": [
    "kp"
   ]
  },
  {
   "cell_type": "code",
   "execution_count": null,
   "id": "64d29c87",
   "metadata": {},
   "outputs": [],
   "source": []
  }
 ],
 "metadata": {
  "kernelspec": {
   "display_name": "Python 3 (ipykernel)",
   "language": "python",
   "name": "python3"
  },
  "language_info": {
   "codemirror_mode": {
    "name": "ipython",
    "version": 3
   },
   "file_extension": ".py",
   "mimetype": "text/x-python",
   "name": "python",
   "nbconvert_exporter": "python",
   "pygments_lexer": "ipython3",
   "version": "3.10.13"
  }
 },
 "nbformat": 4,
 "nbformat_minor": 5
}
