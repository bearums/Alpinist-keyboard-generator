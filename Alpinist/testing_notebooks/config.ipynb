{
 "cells": [
  {
   "cell_type": "code",
   "execution_count": 1,
   "metadata": {},
   "outputs": [],
   "source": [
    "import sys\n",
    "sys.path.append('../')\n",
    "from config import Config, Shape, read_json\n",
    "from controller import *"
   ]
  },
  {
   "cell_type": "code",
   "execution_count": 24,
   "metadata": {},
   "outputs": [],
   "source": [
    "from abc import ABC, abstractmethod\n",
    "\n",
    "class Controller(ABC):\n",
    "    \n",
    "    @property\n",
    "    #@abstractmethod\n",
    "    def screw_hole_x(self):\n",
    "        #return self.screw_hole_x\n",
    "        pass\n",
    "    @screw_hole_x.setter\n",
    "    def screw_hole_x(self, value):\n",
    "        self.screw_hole_x = value\n",
    "\n",
    "    @property\n",
    "    #@abstractmethod\n",
    "    def screw_hole_y(self):\n",
    "        pass\n",
    "    \n",
    "    @property\n",
    "    @abstractmethod\n",
    "    def board_dimension_x(self):\n",
    "        pass\n",
    "    \n",
    "    @property\n",
    "    #@abstractmethod\n",
    "    def board_dimension_y(self):\n",
    "        pass\n",
    "\n",
    "    \n",
    "    \n",
    "    def as_dict(self):\n",
    "        info_dict = {\"name\": self.name,\n",
    "                     \"board_dimension_x\": self.board_dimension_x,\n",
    "                     \"board_dimension_y\": self.board_dimension_y,\n",
    "                     \"screw_hole_x\": self.screw_hole_x,\n",
    "                     \"screw_hole_y\": self.screw_hole_y}\n",
    "        return info_dict\n",
    "\n",
    "\n",
    "    \n",
    "    def __repr__(self):\n",
    "        info_dict = self.as_dict()\n",
    "        return str(info_dict)"
   ]
  },
  {
   "cell_type": "code",
   "execution_count": 2,
   "metadata": {},
   "outputs": [],
   "source": [
    "rkn = [7,10,10,10]\n",
    "config=Config(rkn,  )\n",
    "\n",
    "config.to_json('a.json')"
   ]
  },
  {
   "cell_type": "code",
   "execution_count": 3,
   "metadata": {},
   "outputs": [
    {
     "data": {
      "text/plain": [
       "47.0"
      ]
     },
     "execution_count": 3,
     "metadata": {},
     "output_type": "execute_result"
    }
   ],
   "source": [
    "cc = PiPico()\n",
    "\n",
    "cc.screw_hole_x"
   ]
  },
  {
   "cell_type": "code",
   "execution_count": 5,
   "metadata": {},
   "outputs": [],
   "source": [
    "dd=cc.as_dict()"
   ]
  },
  {
   "cell_type": "code",
   "execution_count": 88,
   "metadata": {},
   "outputs": [],
   "source": [
    "\n",
    "from dataclasses import dataclass, field\n",
    "@dataclass\n",
    "class ControllerFromDict(Controller):\n",
    "    board_dimension_x: float = field(init=False)\n",
    "    def __init__(self, dict):\n",
    "        self.dict = dict\n",
    "        self.board_dimension_x: float = self.dict['board_dimension_x']\n",
    "        self.board_dimension_y: float = self.dict['board_dimension_y']\n",
    "        self.screw_hole_x: float = self.dict['screw_hole_x']\n",
    "        self.screw_hole_y: float = self.dict['screw_hole_y']\n",
    "        self.name : str =  self.dict['name']\n",
    "\n",
    "    \n",
    "    \n",
    "   \n",
    "\n"
   ]
  },
  {
   "cell_type": "code",
   "execution_count": 89,
   "metadata": {},
   "outputs": [
    {
     "ename": "TypeError",
     "evalue": "Can't instantiate abstract class ControllerFromDict with abstract method board_dimension_x",
     "output_type": "error",
     "traceback": [
      "\u001b[0;31m---------------------------------------------------------------------------\u001b[0m",
      "\u001b[0;31mTypeError\u001b[0m                                 Traceback (most recent call last)",
      "Cell \u001b[0;32mIn[89], line 1\u001b[0m\n\u001b[0;32m----> 1\u001b[0m a\u001b[38;5;241m=\u001b[39m\u001b[43mControllerFromDict\u001b[49m\u001b[43m(\u001b[49m\u001b[43mdd\u001b[49m\u001b[43m)\u001b[49m\n\u001b[1;32m      3\u001b[0m a\u001b[38;5;241m.\u001b[39mas_dict()\n",
      "\u001b[0;31mTypeError\u001b[0m: Can't instantiate abstract class ControllerFromDict with abstract method board_dimension_x"
     ]
    }
   ],
   "source": [
    "a=ControllerFromDict(dd)\n",
    "\n",
    "a.as_dict()"
   ]
  },
  {
   "cell_type": "code",
   "execution_count": 7,
   "metadata": {},
   "outputs": [],
   "source": [
    "dd={'name': 'AdafruitFeathernRF52840Express',\n",
    " 'board_dimension_x': 51.0,\n",
    " 'board_dimension_y': 23.0,\n",
    " 'screw_hole_x': 45.72,\n",
    " 'screw_hole_y': 17.78}"
   ]
  },
  {
   "cell_type": "code",
   "execution_count": 90,
   "metadata": {},
   "outputs": [],
   "source": [
    "from dataclasses import dataclass, field\n",
    "@dataclass\n",
    "class ControllerFromDict(Controller):\n",
    "    \n",
    "    dict : dict \n",
    "\n",
    "    board_dimension_x: float = None\n",
    "    board_dimension_y : float = None\n",
    "    screw_hole_x : float = None\n",
    "    screw_hole_y : float = None\n",
    "    \n",
    "    \n",
    "    def __post_init__(self):\n",
    "        self.name : str =  self.dict['name']\n",
    "        self.board_dimension_x: float = self.dict['board_dimension_x']\n",
    "        self.board_dimension_y: float = self.dict['board_dimension_y']\n",
    "        self.screw_hole_x: float = self.dict['screw_hole_x']\n",
    "        self.screw_hole_y: float = self.dict['screw_hole_y']\n",
    "\n"
   ]
  },
  {
   "cell_type": "code",
   "execution_count": 3,
   "metadata": {},
   "outputs": [],
   "source": [
    "from controller import ControllerFromDict"
   ]
  },
  {
   "cell_type": "code",
   "execution_count": 98,
   "metadata": {},
   "outputs": [
    {
     "data": {
      "text/plain": [
       "45.72"
      ]
     },
     "execution_count": 98,
     "metadata": {},
     "output_type": "execute_result"
    }
   ],
   "source": [
    "a=ControllerFromDict(dd)\n",
    "\n",
    "a.screw_hole_x"
   ]
  },
  {
   "cell_type": "code",
   "execution_count": 97,
   "metadata": {},
   "outputs": [],
   "source": [
    "from abc import ABC, abstractmethod\n",
    "\n",
    "class Controller(ABC):\n",
    "    \n",
    "    @property\n",
    "    @abstractmethod\n",
    "    def screw_hole_x(self):\n",
    "        pass\n",
    "    \n",
    "    @property\n",
    "    @abstractmethod\n",
    "    def screw_hole_y(self):\n",
    "        pass\n",
    "    \n",
    "    @property\n",
    "    @abstractmethod\n",
    "    def board_dimension_x(self):\n",
    "        pass\n",
    "    \n",
    "    @property\n",
    "    @abstractmethod\n",
    "    def board_dimension_y(self):\n",
    "        pass\n",
    "\n",
    "    \n",
    "    \n",
    "    def as_dict(self):\n",
    "        info_dict = {\"name\": self.name,\n",
    "                     \"board_dimension_x\": self.board_dimension_x,\n",
    "                     \"board_dimension_y\": self.board_dimension_y,\n",
    "                     \"screw_hole_x\": self.screw_hole_x,\n",
    "                     \"screw_hole_y\": self.screw_hole_y}\n",
    "        return info_dict\n",
    "\n",
    "\n",
    "    \n",
    "    def __repr__(self):\n",
    "        info_dict = self.as_dict()\n",
    "        return str(info_dict)\n",
    "    \n",
    "def load_controller_from_dict( dict):\n",
    "        name = dict['name']\n",
    "        screw_hole_x = dict['screw_hole_x']\n",
    "        screw_hole_y = dict['screw_hole_y']\n",
    "        \n",
    "        return Controller(**dict)\n",
    "\n",
    "\n",
    "from dataclasses import dataclass\n",
    "@dataclass\n",
    "class ControllerFromDict(Controller):\n",
    "    \n",
    "    dict : dict \n",
    "\n",
    "    board_dimension_x: float = None\n",
    "    board_dimension_y : float = None\n",
    "    screw_hole_x : float = None\n",
    "    screw_hole_y : float = None\n",
    "    \n",
    "    def __post_init__(self):\n",
    "        self.name : str =  self.dict['name']\n",
    "        self.board_dimension_x: float = self.dict['board_dimension_x']\n",
    "        self.board_dimension_y: float = self.dict['board_dimension_y']\n",
    "        self.screw_hole_x: float = self.dict['screw_hole_x']\n",
    "        self.screw_hole_y: float = self.dict['screw_hole_y']\n",
    "\n",
    "class PiPico(Controller):\n",
    "    name = \"Pi Pico\"\n",
    "\n",
    "    screw_hole_x = 47.0\n",
    "    screw_hole_y = 11.1\n",
    "    \n",
    "    board_dimension_x = 51.0\n",
    "    board_dimension_y = 21.0\n",
    "    \n",
    "    \n",
    "class AdafruitFeathernRF52840Express(Controller):\n",
    "    name = \"AdafruitFeathernRF52840Express\"\n",
    "\n",
    "    screw_hole_x = 45.72\n",
    "    screw_hole_y = 17.78\n",
    "    \n",
    "    board_dimension_x = 51.0\n",
    "    board_dimension_y = 23.0\n"
   ]
  },
  {
   "cell_type": "code",
   "execution_count": null,
   "metadata": {},
   "outputs": [],
   "source": []
  }
 ],
 "metadata": {
  "kernelspec": {
   "display_name": "jcq3",
   "language": "python",
   "name": "python3"
  },
  "language_info": {
   "codemirror_mode": {
    "name": "ipython",
    "version": 3
   },
   "file_extension": ".py",
   "mimetype": "text/x-python",
   "name": "python",
   "nbconvert_exporter": "python",
   "pygments_lexer": "ipython3",
   "version": "3.10.13"
  }
 },
 "nbformat": 4,
 "nbformat_minor": 2
}
