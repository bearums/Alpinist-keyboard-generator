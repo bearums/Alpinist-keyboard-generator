{
 "cells": [
  {
   "cell_type": "markdown",
   "id": "547cb125",
   "metadata": {},
   "source": [
    "## TODO\n",
    "\n",
    "- add screwholes to plate"
   ]
  },
  {
   "cell_type": "code",
   "execution_count": 1,
   "id": "f3bc9e0f",
   "metadata": {},
   "outputs": [
    {
     "name": "stdout",
     "output_type": "stream",
     "text": [
      "Overwriting auto display for cadquery Workplane and Shape\n",
      "\n",
      "Enabling jupyter_cadquery replay\n"
     ]
    },
    {
     "name": "stderr",
     "output_type": "stream",
     "text": [
      "/home/ben/anaconda3/envs/jcq3/lib/python3.10/site-packages/quaternion/calculus.py:310: NumbaDeprecationWarning: \u001b[1mThe 'nopython' keyword argument was not supplied to the 'numba.jit' decorator. The implicit default value for this argument is currently False, but it will be changed to True in Numba 0.59.0. See https://numba.readthedocs.io/en/stable/reference/deprecation.html#deprecation-of-object-mode-fall-back-behaviour-when-using-jit for details.\u001b[0m\n",
      "  def fd_indefinite_integral(f, t):\n"
     ]
    }
   ],
   "source": [
    "import cadquery as cq\n",
    "\n",
    "from jupyter_cadquery import (\n",
    "    versions,\n",
    "    show, PartGroup, Part, \n",
    "    get_viewer, close_viewer, get_viewers, close_viewers, open_viewer, set_defaults, get_defaults, open_viewer,\n",
    "    get_pick,\n",
    ")\n",
    "\n",
    "from jupyter_cadquery.replay import replay, enable_replay, disable_replay\n",
    "''\n",
    "enable_replay(False)\n",
    "\n",
    "set_defaults(\n",
    "    cad_width=640, \n",
    "    height=480, \n",
    ")\n",
    "\n",
    "from plate import Config, Shape, get_key_positions, get_key_hole_shape, get_keys\n",
    "\n",
    "from functools import partial\n",
    "import math"
   ]
  },
  {
   "cell_type": "code",
   "execution_count": null,
   "id": "0820a6d5",
   "metadata": {},
   "outputs": [],
   "source": []
  },
  {
   "cell_type": "code",
   "execution_count": 67,
   "id": "e1990813",
   "metadata": {},
   "outputs": [
    {
     "data": {
      "application/vnd.jupyter.widget-view+json": {
       "model_id": "30f42e41aaad4c86a9e19ad3c9fee9f6",
       "version_major": 2,
       "version_minor": 0
      },
      "text/plain": [
       "CadViewerWidget(anchor=None, cad_width=640, glass=False, height=480, pinning=False, theme='light', title=None,…"
      ]
     },
     "metadata": {},
     "output_type": "display_data"
    },
    {
     "data": {
      "text/html": [
       "<div></div>"
      ],
      "text/plain": [
       "<IPython.core.display.HTML object>"
      ]
     },
     "metadata": {},
     "output_type": "display_data"
    }
   ],
   "source": [
    "\n",
    "\n",
    "nrows = 4\n",
    "rkn = [7,7,7,6]\n",
    "switchholesize=13.9\n",
    "cc=Config(nrows, rkn, shape=Shape.LEAN, cs=switchholesize+ 3.4505, rs= switchholesize+5.508, switchHoleSize=switchholesize)\n",
    "key_hole_shape = get_key_hole_shape(cc)\n",
    "\n",
    "kp = get_key_positions(cc)\n",
    "get_keys(kp, key_hole_shape, cc)"
   ]
  },
  {
   "cell_type": "code",
   "execution_count": 3,
   "id": "075db033",
   "metadata": {},
   "outputs": [],
   "source": [
    "def get_base(config: Config, kp, thickness, window=False):\n",
    "\n",
    "    foot_x, foot_y = (config.columnSpacing / 2 + config.switchHoleSize, config.rowSpacing / 2 +\n",
    "                      config.switchHoleSize) if config.shape == Shape.LEAN else (config.switchHoleSize, config.switchHoleSize)\n",
    "    base = cq.Sketch()\n",
    "   \n",
    "\n",
    "    base = base.push(kp.values())\n",
    "    if config.shape == Shape.LEAN:\n",
    "        base = base.rect(foot_x, foot_y)\\\n",
    "            .faces().clean().vertices().fillet(2.5).faces()\\\n",
    "            .wires().offset(0).clean()\n",
    "    elif config.shape == Shape.HULL:\n",
    "        base = base.rect(foot_x, foot_y)\\\n",
    "            .faces().hull().clean().wires().offset(12)\n",
    "\n",
    "    base = cq.Workplane().placeSketch(base).extrude(thickness)\n",
    "\n",
    "\n",
    "    if window:\n",
    "        win = cq.Sketch().push(kp.values()).rect(config.columnSpacing / 2 +\n",
    "                                                 config.switchHoleSize, config.rowSpacing / 2 + config.switchHoleSize)\n",
    "        win = win.clean().faces().vertices().fillet(1)\n",
    "        win = cq.Workplane().placeSketch(win).extrude(thickness).rotate((0, 0, 0), (0, 0, 1), config.angle).translate(\n",
    "            (config.hOffset, 0))\n",
    "        #if not config.split:\n",
    "        win = win.mirror('YZ', union=True)\n",
    "        base = base.cut(win)\n",
    "\n",
    "    return base\n",
    "\n",
    "\n",
    "\n"
   ]
  },
  {
   "cell_type": "code",
   "execution_count": 101,
   "id": "3fbd3f58",
   "metadata": {},
   "outputs": [
    {
     "data": {
      "application/vnd.jupyter.widget-view+json": {
       "model_id": "2c99797e13a34f649d41c1b596f028b0",
       "version_major": 2,
       "version_minor": 0
      },
      "text/plain": [
       "CadViewerWidget(anchor=None, cad_width=640, glass=False, height=480, pinning=False, theme='light', title=None,…"
      ]
     },
     "metadata": {},
     "output_type": "display_data"
    },
    {
     "data": {
      "text/html": [
       "<div></div>"
      ],
      "text/plain": [
       "<IPython.core.display.HTML object>"
      ]
     },
     "metadata": {},
     "output_type": "display_data"
    }
   ],
   "source": [
    "nrows = 5\n",
    "rkn = [1,3,5,2,3]\n",
    "\n",
    "cc=Config(nrows, rkn, shape=Shape.LEAN)\n",
    "kp = get_key_positions(cc)\n",
    "plate = get_base(cc, kp, thickness=2, window=False).cut(get_keys(kp, key_hole_shape, cc))\n",
    "plate"
   ]
  },
  {
   "cell_type": "code",
   "execution_count": 95,
   "id": "53d7106d",
   "metadata": {},
   "outputs": [],
   "source": [
    "\n",
    "def rotate(config: Config, pt):\n",
    "    ang = math.radians(config.angle)\n",
    "    x, y = pt\n",
    "    return (x * math.cos(ang) - y * math.sin(ang) + config.hOffset,\n",
    "            x * math.sin(ang) + y * math.cos(ang))\n",
    "\n",
    "\n"
   ]
  },
  {
   "cell_type": "code",
   "execution_count": null,
   "id": "0bcb19a7",
   "metadata": {},
   "outputs": [],
   "source": []
  },
  {
   "cell_type": "code",
   "execution_count": null,
   "id": "cd61358e",
   "metadata": {},
   "outputs": [],
   "source": []
  },
  {
   "cell_type": "code",
   "execution_count": null,
   "id": "43d38532",
   "metadata": {},
   "outputs": [],
   "source": []
  },
  {
   "cell_type": "code",
   "execution_count": null,
   "id": "febf57e1",
   "metadata": {},
   "outputs": [],
   "source": []
  },
  {
   "cell_type": "code",
   "execution_count": null,
   "id": "3b365ed5",
   "metadata": {},
   "outputs": [],
   "source": []
  },
  {
   "cell_type": "code",
   "execution_count": null,
   "id": "09c234d2",
   "metadata": {},
   "outputs": [],
   "source": []
  },
  {
   "cell_type": "code",
   "execution_count": null,
   "id": "4ad66bf1",
   "metadata": {},
   "outputs": [],
   "source": []
  },
  {
   "cell_type": "code",
   "execution_count": 100,
   "id": "3c5045e1",
   "metadata": {},
   "outputs": [
    {
     "data": {
      "application/vnd.jupyter.widget-view+json": {
       "model_id": "126960136dba44e384f121dcdceb7d9f",
       "version_major": 2,
       "version_minor": 0
      },
      "text/plain": [
       "CadViewerWidget(anchor=None, cad_width=640, glass=False, height=480, pinning=False, theme='light', title=None,…"
      ]
     },
     "metadata": {},
     "output_type": "display_data"
    },
    {
     "data": {
      "text/html": [
       "<div></div>"
      ],
      "text/plain": [
       "<IPython.core.display.HTML object>"
      ]
     },
     "metadata": {},
     "output_type": "display_data"
    }
   ],
   "source": [
    "def get_screw_positions(config: Config) -> [(float, float)]:\n",
    "    sp=[]\n",
    "    x_centre = max(config.row_key_num)* config.rowSpacing*0.5\n",
    "    row_holes = list(reversed( [config.row_key_num[0]]+ config.row_key_num)) \n",
    "    for col_num in range(0, cc.nrows+1,2):    \n",
    "        row_size = row_holes[col_num]\n",
    "        centre = row_size* config.rowSpacing*0.5\n",
    "\n",
    "        if centre != x_centre:\n",
    "            x_trans = x_centre - centre\n",
    "        else:\n",
    "            x_trans = 0\n",
    "            \n",
    "        if row_size%2 ==0: #for rows with even key numbers\n",
    "            for row_num in range(1,row_size+1, 2):\n",
    "                sp.append((config.rowSpacing*row_num+x_trans-0.5*cc.rowSpacing,\n",
    "                       config.columnSpacing*col_num-0.5*cc.columnSpacing))\n",
    "\n",
    "        else: # for rows with odd key numbers\n",
    "            for row_num in range(0,row_size, 2):\n",
    "                sp.append((config.rowSpacing*row_num+x_trans-0.0*cc.rowSpacing,\n",
    "                       config.columnSpacing*col_num-0.5*cc.columnSpacing))\n",
    "        \n",
    "        \n",
    "    return sp\n",
    "\n",
    "hole_psns= get_screw_positions(cc)\n",
    "plate.faces(\">Z\").workplane().pushPoints(hole_psns).hole(cc.screwHoleDiamater)"
   ]
  },
  {
   "cell_type": "code",
   "execution_count": 43,
   "id": "10ceca6b",
   "metadata": {},
   "outputs": [
    {
     "data": {
      "text/plain": [
       "dict_values([(28.5, 0), (47.5, 0), (66.5, 0), (85.5, 0), (104.5, 0), (123.5, 0), (142.5, 0), (161.5, 0), (0, 19), (19, 19), (38, 19), (57, 19), (76, 19), (95, 19), (114, 19), (133, 19), (152, 19), (171, 19), (190, 19), (0, 38), (19, 38), (38, 38), (57, 38), (76, 38), (95, 38), (114, 38), (133, 38), (152, 38), (171, 38), (190, 38), (0, 57), (19, 57), (38, 57), (57, 57), (76, 57), (95, 57), (114, 57), (133, 57), (152, 57), (171, 57), (190, 57)])"
      ]
     },
     "execution_count": 43,
     "metadata": {},
     "output_type": "execute_result"
    }
   ],
   "source": [
    "hole_psns.values()"
   ]
  },
  {
   "cell_type": "code",
   "execution_count": 59,
   "id": "06dc5a57",
   "metadata": {},
   "outputs": [
    {
     "data": {
      "text/plain": [
       "[10, 10, 10, 7, 10]"
      ]
     },
     "execution_count": 59,
     "metadata": {},
     "output_type": "execute_result"
    }
   ],
   "source": [
    "cc.row_key_num"
   ]
  },
  {
   "cell_type": "code",
   "execution_count": 50,
   "id": "363c81fd",
   "metadata": {},
   "outputs": [],
   "source": [
    "xx=[1,2,3]"
   ]
  },
  {
   "cell_type": "code",
   "execution_count": 65,
   "id": "6bbee59b",
   "metadata": {},
   "outputs": [],
   "source": [
    "list(reversed(cc.row_key_num)).append(cc.row_key_num[0])"
   ]
  },
  {
   "cell_type": "code",
   "execution_count": 69,
   "id": "bf1586d4",
   "metadata": {},
   "outputs": [
    {
     "data": {
      "text/plain": [
       "[6, 7, 7, 7, 7]"
      ]
     },
     "execution_count": 69,
     "metadata": {},
     "output_type": "execute_result"
    }
   ],
   "source": [
    "list(reversed( [cc.row_key_num[0]]+ cc.row_key_num)) "
   ]
  },
  {
   "cell_type": "code",
   "execution_count": 70,
   "id": "7ce35c5b",
   "metadata": {},
   "outputs": [
    {
     "data": {
      "text/plain": [
       "[7, 7, 7, 6]"
      ]
     },
     "execution_count": 70,
     "metadata": {},
     "output_type": "execute_result"
    }
   ],
   "source": [
    "cc.row_key_num"
   ]
  },
  {
   "cell_type": "code",
   "execution_count": 87,
   "id": "d3c84f2c",
   "metadata": {},
   "outputs": [
    {
     "data": {
      "text/plain": [
       "1"
      ]
     },
     "execution_count": 87,
     "metadata": {},
     "output_type": "execute_result"
    }
   ],
   "source": [
    "5 %2"
   ]
  },
  {
   "cell_type": "code",
   "execution_count": null,
   "id": "571ba438",
   "metadata": {},
   "outputs": [],
   "source": []
  }
 ],
 "metadata": {
  "kernelspec": {
   "display_name": "Python 3 (ipykernel)",
   "language": "python",
   "name": "python3"
  },
  "language_info": {
   "codemirror_mode": {
    "name": "ipython",
    "version": 3
   },
   "file_extension": ".py",
   "mimetype": "text/x-python",
   "name": "python",
   "nbconvert_exporter": "python",
   "pygments_lexer": "ipython3",
   "version": "3.10.13"
  }
 },
 "nbformat": 4,
 "nbformat_minor": 5
}
