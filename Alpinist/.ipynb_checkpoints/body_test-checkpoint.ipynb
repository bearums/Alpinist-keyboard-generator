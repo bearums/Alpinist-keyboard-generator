{
 "cells": [
  {
   "cell_type": "code",
   "execution_count": 1,
   "id": "6445a200",
   "metadata": {},
   "outputs": [],
   "source": [
    "def get_vertices_positions(vertices):\n",
    "    vals = [x.Center().toTuple() for x in vertices.vals()]\n",
    "    return {'x':[x[0] for x in vals], \n",
    "            'y':[x[1] for x in vals], \n",
    "            'z':[x[2] for x in vals]}"
   ]
  },
  {
   "cell_type": "code",
   "execution_count": 3,
   "id": "a09b80d8",
   "metadata": {},
   "outputs": [
    {
     "name": "stdout",
     "output_type": "stream",
     "text": [
      "\n",
      "Enabling jupyter_cadquery replay\n"
     ]
    }
   ],
   "source": [
    "import cadquery as cq\n",
    "\n",
    "from jupyter_cadquery import (\n",
    "    versions,\n",
    "    show, PartGroup, Part, \n",
    "    get_viewer, close_viewer, get_viewers, close_viewers, open_viewer, set_defaults, get_defaults, open_viewer,\n",
    "    get_pick,\n",
    ")\n",
    "\n",
    "from jupyter_cadquery.replay import replay, enable_replay, disable_replay\n",
    "''\n",
    "enable_replay(False)\n",
    "\n",
    "set_defaults(\n",
    "    cad_width=640, \n",
    "    height=480, \n",
    ")\n",
    "\n",
    "from plate import Config, Shape, get_base, get_screw_positions, get_key_positions, make_plate\n",
    "\n",
    "import matplotlib.pyplot as plt"
   ]
  },
  {
   "cell_type": "code",
   "execution_count": 43,
   "id": "4aeef000",
   "metadata": {},
   "outputs": [],
   "source": [
    "nrows = 1\n",
    "rkn = [1]\n",
    "switchholesize=10\n",
    "\n",
    "\n",
    "config=Config(nrows, rkn, shape=Shape.LEAN, \n",
    "          cs=2, \n",
    "          rs=10, \n",
    "          switchHoleSize=switchholesize,\n",
    "           notched_keyhole=False)\n",
    "\n",
    "kp = get_key_positions(config)"
   ]
  },
  {
   "cell_type": "code",
   "execution_count": 44,
   "id": "6cc923d5",
   "metadata": {},
   "outputs": [
    {
     "data": {
      "application/vnd.jupyter.widget-view+json": {
       "model_id": "2be822092d384497b8634263a9f9b7dc",
       "version_major": 2,
       "version_minor": 0
      },
      "text/plain": [
       "CadViewerWidget(anchor=None, cad_width=640, glass=False, height=480, pinning=False, theme='light', title=None,…"
      ]
     },
     "metadata": {},
     "output_type": "display_data"
    },
    {
     "data": {
      "text/html": [
       "<div></div>"
      ],
      "text/plain": [
       "<IPython.core.display.HTML object>"
      ]
     },
     "metadata": {},
     "output_type": "display_data"
    }
   ],
   "source": [
    "\n",
    "plate_bare= get_base(config, kp, thickness=2, window=False)\n",
    "\n",
    "plate=make_plate(config, holes=False)\n",
    "plate"
   ]
  },
  {
   "cell_type": "code",
   "execution_count": 55,
   "id": "6458b2db",
   "metadata": {},
   "outputs": [
    {
     "data": {
      "application/vnd.jupyter.widget-view+json": {
       "model_id": "0c58a4fe0bcb42cf9b4684de66b216c0",
       "version_major": 2,
       "version_minor": 0
      },
      "text/plain": [
       "CadViewerWidget(anchor=None, cad_width=640, glass=False, height=480, pinning=False, theme='light', title=None,…"
      ]
     },
     "metadata": {},
     "output_type": "display_data"
    },
    {
     "data": {
      "text/html": [
       "<div></div>"
      ],
      "text/plain": [
       "<IPython.core.display.HTML object>"
      ]
     },
     "metadata": {},
     "output_type": "display_data"
    }
   ],
   "source": [
    "wall_thickness=1.6\n",
    "case_gap = 1\n",
    "case_height = 20\n",
    "\n",
    "\n",
    "def make_case(config:Config) -> cq.Sketch:\n",
    "    \"\"\"TODO: make separate floor thickness\"\"\"\n",
    "    case_height = config.case_height\n",
    "    case_gap = config.case_gap\n",
    "    wall_thickness=config.wall_thickness\n",
    "    \n",
    "    foot_x, foot_y = (config.columnSpacing / 2 + config.switchHoleSize, config.rowSpacing / 2 +\n",
    "                          config.switchHoleSize) if config.shape == Shape.LEAN else (config.switchHoleSize, config.switchHoleSize)\n",
    "    case = cq.Sketch()\n",
    "\n",
    "\n",
    "    case = case.push(kp.values())\n",
    "    case = case.rect(foot_x+(case_gap+wall_thickness)*2, foot_y+(case_gap+wall_thickness)*2).faces().clean().offset(wall_thickness).clean()#.vertices().fillet(3)\n",
    "    case=cq.Workplane().placeSketch(case).extrude(case_height)\n",
    "\n",
    "    case=case.faces(\"+Z\").shell(-wall_thickness).edges(\"|Z\").fillet(3)\n",
    "\n",
    "    return case"
   ]
  },
  {
   "cell_type": "code",
   "execution_count": 51,
   "id": "45032edc",
   "metadata": {},
   "outputs": [
    {
     "name": "stdout",
     "output_type": "stream",
     "text": [
      "\r",
      "  0% ⋮                                                            ⋮ (0/2)  0.00s\r",
      " 50% ⋮——————————————————————————————                              ⋮ (1/2)  0.00s\r",
      "100% ⋮————————————————————————————————————————————————————————————⋮ (2/2)  0.00s\r",
      "100% ⋮————————————————————————————————————————————————————————————⋮ (2/2)  0.00s\n"
     ]
    },
    {
     "data": {
      "application/vnd.jupyter.widget-view+json": {
       "model_id": "66e7fd3002184052a4e7d42ac06df2e2",
       "version_major": 2,
       "version_minor": 0
      },
      "text/plain": [
       "CadViewerWidget(anchor=None, cad_width=640, glass=False, height=480, pinning=False, theme='light', title=None,…"
      ]
     },
     "metadata": {},
     "output_type": "display_data"
    },
    {
     "data": {
      "text/html": [
       "<div></div>"
      ],
      "text/plain": [
       "<IPython.core.display.HTML object>"
      ]
     },
     "metadata": {},
     "output_type": "display_data"
    }
   ],
   "source": [
    "assy = cq.Assembly()\n",
    "assy.add(case)\n",
    "assy.add(plate,loc=cq.Location(cq.Vector(0,0,16)) )"
   ]
  },
  {
   "cell_type": "code",
   "execution_count": 52,
   "id": "48974534",
   "metadata": {},
   "outputs": [],
   "source": [
    "plate_vertices = plate_bare.edges('>Z').vertices()\n",
    "case_vertices = case.edges('>>Z[1]').vertices()\n",
    "\n",
    "plate_dims = get_vertices_positions( plate_vertices)\n",
    "case_dims = get_vertices_positions(case_vertices)\n",
    "\n"
   ]
  },
  {
   "cell_type": "code",
   "execution_count": 56,
   "id": "de31f5ee",
   "metadata": {},
   "outputs": [
    {
     "data": {
      "text/plain": [
       "(11.0, 15.0)"
      ]
     },
     "execution_count": 56,
     "metadata": {},
     "output_type": "execute_result"
    }
   ],
   "source": [
    "plate_x = max(plate_dims['x']) - min(plate_dims['x'])\n",
    "plate_y = max(plate_dims['y']) - min(plate_dims['y'])\n",
    "\n",
    "plate_x, plate_y\n",
    "\n",
    "\n",
    "\n"
   ]
  },
  {
   "cell_type": "code",
   "execution_count": 54,
   "id": "e27eb1b6",
   "metadata": {},
   "outputs": [
    {
     "data": {
      "text/plain": [
       "(15.000000000000002, 19.0)"
      ]
     },
     "execution_count": 54,
     "metadata": {},
     "output_type": "execute_result"
    }
   ],
   "source": [
    "case_inner_x = max(case_dims['x']) - min(case_dims['x'])\n",
    "case_inner_y =  max(case_dims['y']) - min(case_dims['y'])\n",
    "\n",
    "case_inner_x, case_inner_y"
   ]
  },
  {
   "cell_type": "code",
   "execution_count": 57,
   "id": "c613d80d",
   "metadata": {},
   "outputs": [
    {
     "data": {
      "text/plain": [
       "[<matplotlib.lines.Line2D at 0x7fc3f20c10c0>]"
      ]
     },
     "execution_count": 57,
     "metadata": {},
     "output_type": "execute_result"
    },
    {
     "data": {
      "image/png": "[encoded data removed]",
      "text/plain": [
       "<Figure size 640x480 with 1 Axes>"
      ]
     },
     "metadata": {},
     "output_type": "display_data"
    }
   ],
   "source": [
    "\n",
    "\n",
    "plt.plot(plate_dims['x'], plate_dims['y'], 'x')\n",
    "plt.plot(case_dims['x'], case_dims['y'], 'x')\n"
   ]
  },
  {
   "cell_type": "code",
   "execution_count": 69,
   "id": "2b45a058",
   "metadata": {},
   "outputs": [
    {
     "data": {
      "text/plain": [
       "(42.4, 23.4)"
      ]
     },
     "execution_count": 69,
     "metadata": {},
     "output_type": "execute_result"
    }
   ],
   "source": [
    "max(xx)- min(xx) , max(yy)- min(yy)"
   ]
  },
  {
   "cell_type": "code",
   "execution_count": 94,
   "id": "e6ba085f",
   "metadata": {},
   "outputs": [
    {
     "data": {
      "text/plain": [
       "[<matplotlib.lines.Line2D at 0x7fcb69e98b20>]"
      ]
     },
     "execution_count": 94,
     "metadata": {},
     "output_type": "execute_result"
    },
    {
     "data": {
      "image/png": "[encoded data removed]",
      "text/plain": [
       "<Figure size 640x480 with 1 Axes>"
      ]
     },
     "metadata": {},
     "output_type": "display_data"
    }
   ],
   "source": [
    "bb= get_vertices_positions(base.edges('>>Z[1]').vertices())\n",
    "xx_b = [x[0] for x in bb]\n",
    "yy_b =[x[1] for x in bb]\n",
    "\n",
    "plt.plot(xx, yy, 'x')\n",
    "plt.plot(xx_b, yy_b, 'o')"
   ]
  },
  {
   "cell_type": "code",
   "execution_count": 95,
   "id": "ac406885",
   "metadata": {},
   "outputs": [
    {
     "data": {
      "text/plain": [
       "(43.2, 24.199999999999996)"
      ]
     },
     "execution_count": 95,
     "metadata": {},
     "output_type": "execute_result"
    }
   ],
   "source": [
    "max(xx_b)- min(xx_b) , max(yy_b)- min(yy_b)"
   ]
  },
  {
   "cell_type": "code",
   "execution_count": null,
   "id": "d51ac22e",
   "metadata": {},
   "outputs": [],
   "source": []
  }
 ],
 "metadata": {
  "kernelspec": {
   "display_name": "Python 3 (ipykernel)",
   "language": "python",
   "name": "python3"
  },
  "language_info": {
   "codemirror_mode": {
    "name": "ipython",
    "version": 3
   },
   "file_extension": ".py",
   "mimetype": "text/x-python",
   "name": "python",
   "nbconvert_exporter": "python",
   "pygments_lexer": "ipython3",
   "version": "3.10.13"
  }
 },
 "nbformat": 4,
 "nbformat_minor": 5
}
