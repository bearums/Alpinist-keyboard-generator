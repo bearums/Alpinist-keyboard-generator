{
 "cells": [
  {
   "cell_type": "code",
   "execution_count": 7,
   "id": "675f3977",
   "metadata": {},
   "outputs": [
    {
     "ename": "NameError",
     "evalue": "name 'kp' is not defined",
     "output_type": "error",
     "traceback": [
      "\u001b[0;31m---------------------------------------------------------------------------\u001b[0m",
      "\u001b[0;31mNameError\u001b[0m                                 Traceback (most recent call last)",
      "Cell \u001b[0;32mIn[7], line 11\u001b[0m\n\u001b[1;32m      7\u001b[0m config\u001b[38;5;241m=\u001b[39mConfig(nrows, rkn, shape\u001b[38;5;241m=\u001b[39mShape\u001b[38;5;241m.\u001b[39mLEAN, caseHeight\u001b[38;5;241m=\u001b[39m\u001b[38;5;241m4\u001b[39m, plateThickness\u001b[38;5;241m=\u001b[39m\u001b[38;5;241m1\u001b[39m,  \n\u001b[1;32m      8\u001b[0m           cs\u001b[38;5;241m=\u001b[39m \u001b[38;5;241m3.4505\u001b[39m, rs\u001b[38;5;241m=\u001b[39m \u001b[38;5;241m5.508\u001b[39m,\n\u001b[1;32m      9\u001b[0m          switchHoleSize\u001b[38;5;241m=\u001b[39m \u001b[38;5;241m13.9\u001b[39m)\n\u001b[1;32m     10\u001b[0m pl \u001b[38;5;241m=\u001b[39m make_plate(config)\n\u001b[0;32m---> 11\u001b[0m case \u001b[38;5;241m=\u001b[39m \u001b[43mmake_case\u001b[49m\u001b[43m(\u001b[49m\u001b[43mconfig\u001b[49m\u001b[43m)\u001b[49m\n\u001b[1;32m     13\u001b[0m exporters\u001b[38;5;241m.\u001b[39mexport(pl, \u001b[38;5;124m'\u001b[39m\u001b[38;5;124mplate.stl\u001b[39m\u001b[38;5;124m'\u001b[39m, tolerance\u001b[38;5;241m=\u001b[39m\u001b[38;5;241m0.001\u001b[39m, angularTolerance\u001b[38;5;241m=\u001b[39m\u001b[38;5;241m0.05\u001b[39m)\n\u001b[1;32m     14\u001b[0m exporters\u001b[38;5;241m.\u001b[39mexport(case, \u001b[38;5;124m'\u001b[39m\u001b[38;5;124mcase.stl\u001b[39m\u001b[38;5;124m'\u001b[39m, tolerance\u001b[38;5;241m=\u001b[39m\u001b[38;5;241m0.001\u001b[39m, angularTolerance\u001b[38;5;241m=\u001b[39m\u001b[38;5;241m0.05\u001b[39m)\n",
      "Cell \u001b[0;32mIn[6], line 17\u001b[0m, in \u001b[0;36mmake_case\u001b[0;34m(config)\u001b[0m\n\u001b[1;32m     12\u001b[0m foot_x, foot_y \u001b[38;5;241m=\u001b[39m (config\u001b[38;5;241m.\u001b[39mcolumnSpacing \u001b[38;5;241m/\u001b[39m \u001b[38;5;241m2\u001b[39m \u001b[38;5;241m+\u001b[39m config\u001b[38;5;241m.\u001b[39mswitchHoleSize, config\u001b[38;5;241m.\u001b[39mrowSpacing \u001b[38;5;241m/\u001b[39m \u001b[38;5;241m2\u001b[39m \u001b[38;5;241m+\u001b[39m\n\u001b[1;32m     13\u001b[0m                       config\u001b[38;5;241m.\u001b[39mswitchHoleSize) \u001b[38;5;28;01mif\u001b[39;00m config\u001b[38;5;241m.\u001b[39mshape \u001b[38;5;241m==\u001b[39m Shape\u001b[38;5;241m.\u001b[39mLEAN \u001b[38;5;28;01melse\u001b[39;00m (config\u001b[38;5;241m.\u001b[39mswitchHoleSize, config\u001b[38;5;241m.\u001b[39mswitchHoleSize)\n\u001b[1;32m     14\u001b[0m case \u001b[38;5;241m=\u001b[39m cq\u001b[38;5;241m.\u001b[39mSketch()\n\u001b[0;32m---> 17\u001b[0m case \u001b[38;5;241m=\u001b[39m case\u001b[38;5;241m.\u001b[39mpush(\u001b[43mkp\u001b[49m\u001b[38;5;241m.\u001b[39mvalues())\n\u001b[1;32m     18\u001b[0m case \u001b[38;5;241m=\u001b[39m case\u001b[38;5;241m.\u001b[39mrect(foot_x\u001b[38;5;241m+\u001b[39m(case_gap\u001b[38;5;241m+\u001b[39mwall_thickness)\u001b[38;5;241m*\u001b[39m\u001b[38;5;241m2\u001b[39m, foot_y\u001b[38;5;241m+\u001b[39m(case_gap\u001b[38;5;241m+\u001b[39mwall_thickness)\u001b[38;5;241m*\u001b[39m\u001b[38;5;241m2\u001b[39m)\u001b[38;5;241m.\u001b[39mfaces()\u001b[38;5;241m.\u001b[39mclean()\u001b[38;5;241m.\u001b[39moffset(wall_thickness)\u001b[38;5;241m.\u001b[39mclean()\u001b[38;5;66;03m#.vertices().fillet(3)\u001b[39;00m\n\u001b[1;32m     19\u001b[0m case\u001b[38;5;241m=\u001b[39mcq\u001b[38;5;241m.\u001b[39mWorkplane()\u001b[38;5;241m.\u001b[39mplaceSketch(case)\u001b[38;5;241m.\u001b[39mextrude(case_height)\n",
      "\u001b[0;31mNameError\u001b[0m: name 'kp' is not defined"
     ]
    }
   ],
   "source": [
    "if True:\n",
    "    from cadquery import exporters\n",
    "    \n",
    "    nrows = 2\n",
    "    rkn = [3,2]\n",
    "\n",
    "    config=Config(nrows, rkn, shape=Shape.LEAN, caseHeight=4, plateThickness=1,  \n",
    "              cs= 3.4505, rs= 5.508,\n",
    "             switchHoleSize= 13.9)\n",
    "    pl = make_plate(config)\n",
    "    case = make_case(config)\n",
    "    \n",
    "    exporters.export(pl, 'plate.stl', tolerance=0.001, angularTolerance=0.05)\n",
    "    exporters.export(case, 'case.stl', tolerance=0.001, angularTolerance=0.05)"
   ]
  },
  {
   "cell_type": "code",
   "execution_count": 6,
   "id": "2344b6f9",
   "metadata": {},
   "outputs": [],
   "source": [
    "import cadquery as cq\n",
    "from enum import IntEnum\n",
    "\n",
    "from plate import Config, Shape\n",
    "from plate import make_plate\n",
    "def make_case(config:Config) -> cq.Sketch:\n",
    "    \"\"\"TODO: make separate floor thickness\"\"\"\n",
    "    case_height = config.caseHeight\n",
    "    case_gap = config.caseGap\n",
    "    wall_thickness=config.wallThickness\n",
    "    \n",
    "    foot_x, foot_y = (config.columnSpacing / 2 + config.switchHoleSize, config.rowSpacing / 2 +\n",
    "                          config.switchHoleSize) if config.shape == Shape.LEAN else (config.switchHoleSize, config.switchHoleSize)\n",
    "    case = cq.Sketch()\n",
    "\n",
    "    \n",
    "    kp = get_key_positions(config)\n",
    "    \n",
    "    case = case.push(kp.values())\n",
    "    case = case.rect(foot_x+(case_gap+wall_thickness)*2, foot_y+(case_gap+wall_thickness)*2).faces().clean().offset(wall_thickness).clean()#.vertices().fillet(3)\n",
    "    case=cq.Workplane().placeSketch(case).extrude(case_height)\n",
    "\n",
    "    case=case.faces(\"+Z\").shell(-wall_thickness).edges(\"|Z\").fillet(3)\n",
    "\n",
    "    return case\n"
   ]
  },
  {
   "cell_type": "code",
   "execution_count": null,
   "id": "1d7222f6",
   "metadata": {},
   "outputs": [],
   "source": []
  }
 ],
 "metadata": {
  "kernelspec": {
   "display_name": "Python 3 (ipykernel)",
   "language": "python",
   "name": "python3"
  },
  "language_info": {
   "codemirror_mode": {
    "name": "ipython",
    "version": 3
   },
   "file_extension": ".py",
   "mimetype": "text/x-python",
   "name": "python",
   "nbconvert_exporter": "python",
   "pygments_lexer": "ipython3",
   "version": "3.10.13"
  }
 },
 "nbformat": 4,
 "nbformat_minor": 5
}
