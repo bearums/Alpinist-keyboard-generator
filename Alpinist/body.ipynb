{
 "cells": [
  {
   "cell_type": "code",
   "execution_count": 1,
   "id": "a94dfa0a",
   "metadata": {},
   "outputs": [
    {
     "name": "stdout",
     "output_type": "stream",
     "text": [
      "Overwriting auto display for cadquery Workplane and Shape\n",
      "\n",
      "Enabling jupyter_cadquery replay\n"
     ]
    },
    {
     "name": "stderr",
     "output_type": "stream",
     "text": [
      "/home/ben/anaconda3/envs/jcq3/lib/python3.10/site-packages/quaternion/calculus.py:310: NumbaDeprecationWarning: \u001b[1mThe 'nopython' keyword argument was not supplied to the 'numba.jit' decorator. The implicit default value for this argument is currently False, but it will be changed to True in Numba 0.59.0. See https://numba.readthedocs.io/en/stable/reference/deprecation.html#deprecation-of-object-mode-fall-back-behaviour-when-using-jit for details.\u001b[0m\n",
      "  def fd_indefinite_integral(f, t):\n"
     ]
    }
   ],
   "source": [
    "import cadquery as cq\n",
    "\n",
    "from jupyter_cadquery import (\n",
    "    versions,\n",
    "    show, PartGroup, Part, \n",
    "    get_viewer, close_viewer, get_viewers, close_viewers, open_viewer, set_defaults, get_defaults, open_viewer,\n",
    "    get_pick,\n",
    ")\n",
    "\n",
    "from jupyter_cadquery.replay import replay, enable_replay, disable_replay\n",
    "''\n",
    "enable_replay(False)\n",
    "\n",
    "set_defaults(\n",
    "    cad_width=640, \n",
    "    height=480, \n",
    ")\n",
    "\n",
    "from plate import Config, Shape, get_base, get_screw_positions, get_key_positions, make_plate\n"
   ]
  },
  {
   "cell_type": "code",
   "execution_count": 78,
   "id": "0daf9313",
   "metadata": {},
   "outputs": [],
   "source": [
    "nrows = 2\n",
    "rkn = [2,1]\n",
    "\n",
    "config=Config(nrows, rkn, shape=Shape.LEAN)\n",
    "kp = get_key_positions(config)"
   ]
  },
  {
   "cell_type": "code",
   "execution_count": 79,
   "id": "43922f03",
   "metadata": {},
   "outputs": [
    {
     "data": {
      "application/vnd.jupyter.widget-view+json": {
       "model_id": "be5736a90f1449ceab7c7c6fa2ed0bb8",
       "version_major": 2,
       "version_minor": 0
      },
      "text/plain": [
       "CadViewerWidget(anchor=None, cad_width=640, glass=False, height=480, pinning=False, theme='light', title=None,…"
      ]
     },
     "metadata": {},
     "output_type": "display_data"
    },
    {
     "data": {
      "text/html": [
       "<div></div>"
      ],
      "text/plain": [
       "<IPython.core.display.HTML object>"
      ]
     },
     "metadata": {},
     "output_type": "display_data"
    }
   ],
   "source": [
    "\n",
    "base = get_base(config, kp, thickness=2, window=False)\n",
    "\n",
    "plate=make_plate(config)\n",
    "plate"
   ]
  },
  {
   "cell_type": "code",
   "execution_count": 57,
   "id": "5a862487",
   "metadata": {},
   "outputs": [
    {
     "data": {
      "application/vnd.jupyter.widget-view+json": {
       "model_id": "3a7ca7576be44c78aaaa73225a54f340",
       "version_major": 2,
       "version_minor": 0
      },
      "text/plain": [
       "CadViewerWidget(anchor=None, cad_width=640, glass=False, height=480, pinning=False, theme='light', title=None,…"
      ]
     },
     "metadata": {},
     "output_type": "display_data"
    },
    {
     "data": {
      "text/html": [
       "<div></div>"
      ],
      "text/plain": [
       "<IPython.core.display.HTML object>"
      ]
     },
     "metadata": {},
     "output_type": "display_data"
    }
   ],
   "source": [
    "base.faces(\">Z\").wires().toPending().workplane().offset2D(2,'tangent',).extrude(5)"
   ]
  },
  {
   "cell_type": "code",
   "execution_count": null,
   "id": "28b53e9d",
   "metadata": {},
   "outputs": [],
   "source": [
    "base.faces(\">Z\").wires().toPending().workplane().offset2D(2,'arc',).extrude(5)"
   ]
  },
  {
   "cell_type": "code",
   "execution_count": null,
   "id": "adc849aa",
   "metadata": {},
   "outputs": [],
   "source": [
    "type(base.edges(\">Z\"))#.offset(1)#.wires().toPending().workplane().offset(10)#.extrude(10)"
   ]
  },
  {
   "cell_type": "code",
   "execution_count": null,
   "id": "49125087",
   "metadata": {},
   "outputs": [],
   "source": [
    "base = get_base(config, kp, thickness=2, window=False)\n",
    "#base\n",
    "#base.edges(\">Z\").wires().toPending().offset2D(2).extrude(2)\n",
    "bb=base.faces(\">Z\").wires().toPending().workplane(offset=100).offset2D(5).extrude(3)\n",
    "bb"
   ]
  },
  {
   "cell_type": "code",
   "execution_count": null,
   "id": "b0e18e3e",
   "metadata": {},
   "outputs": [],
   "source": []
  },
  {
   "cell_type": "code",
   "execution_count": null,
   "id": "4cd76ab1",
   "metadata": {},
   "outputs": [],
   "source": [
    "base.faces(\"+Z\").shell(-1.6).translate([0,0,-3]).union(base)"
   ]
  },
  {
   "cell_type": "code",
   "execution_count": 11,
   "id": "6a9a5376",
   "metadata": {},
   "outputs": [
    {
     "data": {
      "application/vnd.jupyter.widget-view+json": {
       "model_id": "03f8b45e27af4290b50ac122e0417aaa",
       "version_major": 2,
       "version_minor": 0
      },
      "text/plain": [
       "CadViewerWidget(anchor=None, cad_width=640, glass=False, height=480, pinning=False, theme='light', title=None,…"
      ]
     },
     "metadata": {},
     "output_type": "display_data"
    },
    {
     "data": {
      "text/html": [
       "<div></div>"
      ],
      "text/plain": [
       "<IPython.core.display.HTML object>"
      ]
     },
     "metadata": {},
     "output_type": "display_data"
    }
   ],
   "source": [
    "wall_thickness=1.6\n",
    "\n",
    "foot_x, foot_y = (config.columnSpacing / 2 + config.switchHoleSize, config.rowSpacing / 2 +\n",
    "                      config.switchHoleSize) if config.shape == Shape.LEAN else (config.switchHoleSize, config.switchHoleSize)\n",
    "base = cq.Sketch()\n",
    "   \n",
    "\n",
    "base = base.push(kp.values())\n",
    "base = base.rect(foot_x, foot_y).faces().clean().vertices().fillet(2.5).faces().wires().offset(wall_thickness).clean()\n",
    "base=cq.Workplane().placeSketch(base).extrude(20)\n",
    "\n",
    "base"
   ]
  },
  {
   "cell_type": "code",
   "execution_count": 80,
   "id": "a3e02ea0",
   "metadata": {},
   "outputs": [
    {
     "data": {
      "application/vnd.jupyter.widget-view+json": {
       "model_id": "3f4a8794415e4b398d7198ab1cd4dc74",
       "version_major": 2,
       "version_minor": 0
      },
      "text/plain": [
       "CadViewerWidget(anchor=None, cad_width=640, glass=False, height=480, pinning=False, theme='light', title=None,…"
      ]
     },
     "metadata": {},
     "output_type": "display_data"
    },
    {
     "data": {
      "text/html": [
       "<div></div>"
      ],
      "text/plain": [
       "<IPython.core.display.HTML object>"
      ]
     },
     "metadata": {},
     "output_type": "display_data"
    }
   ],
   "source": [
    "wall_thickness=1.6\n",
    "case_gap = 2\n",
    "case_height = 20\n",
    "foot_x, foot_y = (config.columnSpacing / 2 + config.switchHoleSize, config.rowSpacing / 2 +\n",
    "                      config.switchHoleSize) if config.shape == Shape.LEAN else (config.switchHoleSize, config.switchHoleSize)\n",
    "base = cq.Sketch()\n",
    "   \n",
    "\n",
    "base = base.push(kp.values())\n",
    "base = base.rect(foot_x+case_gap*2, foot_y+case_gap*2).faces().clean().offset(wall_thickness).clean()#.vertices().fillet(3)\n",
    "base=cq.Workplane().placeSketch(base).extrude(case_height)\n",
    "\n",
    "base=base.faces(\"+Z\").shell(-wall_thickness).edges(\"|Z\").fillet(3)\n",
    "\n",
    "\n",
    "base.union(plate.translate([0,0,16]))"
   ]
  },
  {
   "cell_type": "code",
   "execution_count": null,
   "id": "92ed1452",
   "metadata": {},
   "outputs": [],
   "source": []
  },
  {
   "cell_type": "code",
   "execution_count": 81,
   "id": "03cde91d",
   "metadata": {},
   "outputs": [
    {
     "name": "stdout",
     "output_type": "stream",
     "text": [
      "\r",
      "  0% ⋮                                                            ⋮ (0/2)  0.00s\r",
      " 50% ⋮——————————————————————————————                              ⋮ (1/2)  0.04s\r",
      "100% ⋮————————————————————————————————————————————————————————————⋮ (2/2)  0.04s\r",
      "100% ⋮————————————————————————————————————————————————————————————⋮ (2/2)  0.04s\n"
     ]
    },
    {
     "data": {
      "application/vnd.jupyter.widget-view+json": {
       "model_id": "3ecc4b6e28a14a67978d9e9217e0b5e0",
       "version_major": 2,
       "version_minor": 0
      },
      "text/plain": [
       "CadViewerWidget(anchor=None, cad_width=640, glass=False, height=480, pinning=False, theme='light', title=None,…"
      ]
     },
     "metadata": {},
     "output_type": "display_data"
    },
    {
     "data": {
      "text/html": [
       "<div></div>"
      ],
      "text/plain": [
       "<IPython.core.display.HTML object>"
      ]
     },
     "metadata": {},
     "output_type": "display_data"
    }
   ],
   "source": [
    "assy = cq.Assembly()\n",
    "assy.add(base)\n",
    "assy.add(plate,loc=cq.Location(cq.Vector(0,0,16)) )"
   ]
  },
  {
   "cell_type": "code",
   "execution_count": 84,
   "id": "b10fa1bc",
   "metadata": {},
   "outputs": [
    {
     "name": "stdout",
     "output_type": "stream",
     "text": [
      "\r",
      "  0% ⋮                                                            ⋮ (0/2)  0.00s\r",
      " 50% ⋮——————————————————————————————                              ⋮ (1/2)  0.01s\r",
      "100% ⋮————————————————————————————————————————————————————————————⋮ (2/2)  0.01s\r",
      "100% ⋮————————————————————————————————————————————————————————————⋮ (2/2)  0.01s\n"
     ]
    },
    {
     "data": {
      "application/vnd.jupyter.widget-view+json": {
       "model_id": "8549c5d25ded42fbbabf6e107bc2fcb5",
       "version_major": 2,
       "version_minor": 0
      },
      "text/plain": [
       "CadViewerWidget(anchor=None, cad_width=640, glass=False, height=480, pinning=False, theme='light', title=None,…"
      ]
     },
     "metadata": {},
     "output_type": "display_data"
    },
    {
     "data": {
      "text/html": [
       "<div></div>"
      ],
      "text/plain": [
       "<IPython.core.display.HTML object>"
      ]
     },
     "metadata": {},
     "output_type": "display_data"
    }
   ],
   "source": [
    "plate.edges('>Z').vertices()"
   ]
  },
  {
   "cell_type": "code",
   "execution_count": 85,
   "id": "e32e1a48",
   "metadata": {},
   "outputs": [
    {
     "data": {
      "application/vnd.jupyter.widget-view+json": {
       "model_id": "c4945b41da3044f7881691ec58610c77",
       "version_major": 2,
       "version_minor": 0
      },
      "text/plain": [
       "CadViewerWidget(anchor=None, cad_width=640, glass=False, height=480, pinning=False, theme='light', title=None,…"
      ]
     },
     "metadata": {},
     "output_type": "display_data"
    },
    {
     "data": {
      "text/html": [
       "<div></div>"
      ],
      "text/plain": [
       "<IPython.core.display.HTML object>"
      ]
     },
     "metadata": {},
     "output_type": "display_data"
    }
   ],
   "source": [
    "base"
   ]
  },
  {
   "cell_type": "code",
   "execution_count": null,
   "id": "812a8f2c",
   "metadata": {},
   "outputs": [],
   "source": []
  }
 ],
 "metadata": {
  "kernelspec": {
   "display_name": "Python 3 (ipykernel)",
   "language": "python",
   "name": "python3"
  },
  "language_info": {
   "codemirror_mode": {
    "name": "ipython",
    "version": 3
   },
   "file_extension": ".py",
   "mimetype": "text/x-python",
   "name": "python",
   "nbconvert_exporter": "python",
   "pygments_lexer": "ipython3",
   "version": "3.10.13"
  }
 },
 "nbformat": 4,
 "nbformat_minor": 5
}
