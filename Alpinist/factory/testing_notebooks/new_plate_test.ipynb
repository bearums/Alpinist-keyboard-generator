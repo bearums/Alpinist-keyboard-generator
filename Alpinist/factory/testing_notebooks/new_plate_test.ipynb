{
 "cells": [
  {
   "cell_type": "code",
   "execution_count": 1,
   "metadata": {},
   "outputs": [
    {
     "name": "stdout",
     "output_type": "stream",
     "text": [
      "Overwriting auto display for cadquery Workplane and Shape\n",
      "\n",
      "Enabling jupyter_cadquery replay\n"
     ]
    },
    {
     "name": "stderr",
     "output_type": "stream",
     "text": [
      "/home/ben/anaconda3/envs/jcq3/lib/python3.10/site-packages/quaternion/calculus.py:310: NumbaDeprecationWarning: \u001b[1mThe 'nopython' keyword argument was not supplied to the 'numba.jit' decorator. The implicit default value for this argument is currently False, but it will be changed to True in Numba 0.59.0. See https://numba.readthedocs.io/en/stable/reference/deprecation.html#deprecation-of-object-mode-fall-back-behaviour-when-using-jit for details.\u001b[0m\n",
      "  def fd_indefinite_integral(f, t):\n"
     ]
    }
   ],
   "source": [
    "import cadquery as cq\n",
    "\n",
    "from jupyter_cadquery import (\n",
    "    versions,\n",
    "    show, PartGroup, Part, \n",
    "    get_viewer, close_viewer, get_viewers, close_viewers, open_viewer, set_defaults, get_defaults, open_viewer,\n",
    "    get_pick,\n",
    ")\n",
    "\n",
    "from jupyter_cadquery.replay import replay, enable_replay, disable_replay\n",
    "''\n",
    "enable_replay(False)\n",
    "\n",
    "\n",
    "import sys\n",
    "sys.path.append('../')"
   ]
  },
  {
   "cell_type": "code",
   "execution_count": 20,
   "metadata": {},
   "outputs": [],
   "source": [
    "from plate import get_plate_shape, get_key_positions, get_key_hole_shape, get_screw_positions, get_keys\n",
    "from case import add_microcontrollerbox\n",
    "from config import Config, Shape\n",
    "\n",
    "from config import read_config_from_json\n",
    "\n",
    "config_dict = \"\"\"{\n",
    "    \"name\": \"Tbaum\",\n",
    "    \"row_key_numbers\": [\n",
    "    2,\n",
    "    8,\n",
    "    6,\n",
    "    3,\n",
    "    1\n",
    "    ],\n",
    "    \"columnSpacing\": 19,\n",
    "    \"rowSpacing\": 19,\n",
    "    \"plateThickness\": 2,\n",
    "    \"screwHoleDiamater\": 2.4,\n",
    "    \"switchHoleSize\": 13.9,\n",
    "    \"shape\": 0,\n",
    "    \"notched_keyhole\": true,\n",
    "    \"caseHeight\": 20,\n",
    "    \"caseGap\": 0.6,\n",
    "    \"wallThickness\": 1.6,\n",
    "    \"floorThickness\": 3.0,\n",
    "    \"edgeFillet\": 2,\n",
    "    \"bottomFillet\": 0,\n",
    "    \"controller\": \"None\",\n",
    "    \"controllerYOffset\": 5,\n",
    "    \"controllerBoxThickness\": 2\n",
    "}\"\"\"\n",
    "\n",
    "config_dict = \"\"\"{\n",
    "    \"name\": \"square\",\n",
    "    \"row_key_numbers\": [\n",
    "        4,\n",
    "        4,\n",
    "        4,\n",
    "        4\n",
    "    ],\n",
    "    \"columnSpacing\": 19,\n",
    "    \"rowSpacing\": 19,\n",
    "    \"plateThickness\": 2,\n",
    "    \"screwHoleDiamater\": 2.4,\n",
    "    \"switchHoleSize\": 13.9,\n",
    "    \"shape\": 0,\n",
    "    \"notched_keyhole\": true,\n",
    "    \"caseHeight\": 20,\n",
    "    \"caseGap\": 0.6,\n",
    "    \"wallThickness\": 2.0,\n",
    "    \"floorThickness\": 3.0,\n",
    "    \"edgeFillet\": 6,\n",
    "    \"bottomFillet\": 2,\n",
    "    \"plateEdgeOffset\":-1,\n",
    "    \"controller\": {\n",
    "        \"name\": \"Pi Pico\",\n",
    "        \"board_dimension_x\": 51.0,\n",
    "        \"board_dimension_y\": 21.0,\n",
    "        \"screw_hole_x\": 47.0,\n",
    "        \"screw_hole_y\": 11.4\n",
    "    },\n",
    "    \"controllerYOffset\": 5,\n",
    "    \"controllerBoxThickness\": 2\n",
    "}\"\"\"\n",
    "\n",
    "config = read_config_from_json(string=config_dict)"
   ]
  },
  {
   "cell_type": "code",
   "execution_count": 21,
   "metadata": {},
   "outputs": [
    {
     "data": {
      "application/vnd.jupyter.widget-view+json": {
       "model_id": "e29e5794a4a2453682aab388b5a29ee2",
       "version_major": 2,
       "version_minor": 0
      },
      "text/plain": [
       "CadViewerWidget(anchor=None, cad_width=800, glass=False, height=600, pinning=False, theme='light', title=None,…"
      ]
     },
     "metadata": {},
     "output_type": "display_data"
    },
    {
     "data": {
      "text/html": [
       "<div></div>"
      ],
      "text/plain": [
       "<IPython.core.display.HTML object>"
      ]
     },
     "metadata": {},
     "output_type": "display_data"
    }
   ],
   "source": [
    "def make_plate(config:Config, \n",
    "               get_screw_hole_positions:callable=get_screw_positions) -> cq.Sketch:\n",
    "    \n",
    "    key_hole_shape = get_key_hole_shape(config)\n",
    "    kp = get_key_positions(config)\n",
    "    plate_shape = get_plate_shape(config, kp, config.plateEdgeOffset)\n",
    "    \n",
    "    plate = cq.Workplane()\n",
    "    plate = plate.add(plate_shape).wires().toPending().extrude(config.plateThickness).edges('|Z').fillet(config.edgeFillet)\n",
    "    plate = plate.cut(get_keys(kp, key_hole_shape, config))\n",
    "\n",
    "    hole_psns= get_screw_hole_positions(config)\n",
    "    plate= plate.faces(\">Z\").workplane().pushPoints(hole_psns).hole(config.screwHoleDiamater)\n",
    "    return plate\n",
    "\n",
    "\n",
    "#make_plate(config)\n",
    "\n",
    "def get_basic_shape(config:Config) -> cq.Sketch:\n",
    "\n",
    "    kp = get_key_positions(config)\n",
    "    plate_shape = get_plate_shape(config, kp, config.plateEdgeOffset)\n",
    "    \n",
    "    basic_shape_wire= plate_shape.offset2D(config.caseGap, 'intersection')\n",
    "    \n",
    "    basic_shape = cq.Workplane().add(basic_shape_wire).wires().toPending().extrude(config.caseHeight)\n",
    "\n",
    "    basic_shape.edges('>Y').tag('topEdge')\n",
    "    if config.controller is not None:\n",
    "        basic_shape = add_microcontrollerbox(basic_shape, config)\n",
    "\n",
    "    #fillet edges\n",
    "    basic_shape = basic_shape.edges('|Z').fillet(config.edgeFillet)\n",
    "    basic_shape.edges('>Z').tag('outerTopEdge') # for making controller box top plate\n",
    "\n",
    "    return basic_shape\n",
    "\n",
    "\n",
    "\n",
    "bs = get_basic_shape(config)\n",
    "\n",
    "bs"
   ]
  },
  {
   "cell_type": "code",
   "execution_count": 12,
   "metadata": {},
   "outputs": [
    {
     "data": {
      "application/vnd.jupyter.widget-view+json": {
       "model_id": "b008effff90e4565beee04f098f96996",
       "version_major": 2,
       "version_minor": 0
      },
      "text/plain": [
       "CadViewerWidget(anchor=None, cad_width=800, glass=False, height=600, pinning=False, theme='light', title=None,…"
      ]
     },
     "metadata": {},
     "output_type": "display_data"
    },
    {
     "data": {
      "text/html": [
       "<div></div>"
      ],
      "text/plain": [
       "<IPython.core.display.HTML object>"
      ]
     },
     "metadata": {},
     "output_type": "display_data"
    }
   ],
   "source": [
    "thickness =2 \n",
    "base_fillet = 2\n",
    "kp = get_key_positions(config)\n",
    "\n",
    "\n",
    "ps = get_plate_shape(config, kp, -2)\n",
    "\n",
    "wp = cq.Workplane()\n",
    "wp=wp.add(ps)\n",
    "base = wp.wires().toPending().extrude(thickness).edges('|Z').fillet(base_fillet)\n",
    "\n",
    "base= base.translate((0, 0, 21))\n",
    "base"
   ]
  },
  {
   "cell_type": "code",
   "execution_count": 49,
   "metadata": {},
   "outputs": [
    {
     "name": "stdout",
     "output_type": "stream",
     "text": [
      "100% ⋮————————————————————————————————————————————————————————————⋮ (2/2)  0.08s\n"
     ]
    },
    {
     "data": {
      "application/vnd.jupyter.widget-view+json": {
       "model_id": "c709a5f619c7478d8a1c8783a8902055",
       "version_major": 2,
       "version_minor": 0
      },
      "text/plain": [
       "CadViewerWidget(anchor=None, cad_width=800, glass=False, height=600, pinning=False, theme='light', title=None,…"
      ]
     },
     "metadata": {},
     "output_type": "display_data"
    },
    {
     "data": {
      "text/html": [
       "<div></div>"
      ],
      "text/plain": [
       "<IPython.core.display.HTML object>"
      ]
     },
     "metadata": {},
     "output_type": "display_data"
    }
   ],
   "source": [
    "cs = get_plate_shape(config, kp, -2).offset2D(config.caseGap, 'intersection')\n",
    "\n",
    "wp = cq.Workplane()\n",
    "wp=wp.add(cs)\n",
    "case = wp.wires().toPending().extrude(20).edges('|Z').fillet(base_fillet)\n",
    "\n",
    "case= (case.faces(\">Z or <Z\").shell(config.wallThickness, kind='intersection'))\n",
    "\n",
    "\n",
    "case.add(base)"
   ]
  },
  {
   "cell_type": "code",
   "execution_count": 47,
   "metadata": {},
   "outputs": [
    {
     "data": {
      "application/vnd.jupyter.widget-view+json": {
       "model_id": "ef9e1379707c4ab485f25c34feab3e1b",
       "version_major": 2,
       "version_minor": 0
      },
      "text/plain": [
       "CadViewerWidget(anchor=None, cad_width=800, glass=False, height=600, pinning=False, theme='light', title=None,…"
      ]
     },
     "metadata": {},
     "output_type": "display_data"
    },
    {
     "data": {
      "text/html": [
       "<div></div>"
      ],
      "text/plain": [
       "<IPython.core.display.HTML object>"
      ]
     },
     "metadata": {},
     "output_type": "display_data"
    }
   ],
   "source": [
    "case"
   ]
  },
  {
   "cell_type": "code",
   "execution_count": null,
   "metadata": {},
   "outputs": [],
   "source": []
  }
 ],
 "metadata": {
  "kernelspec": {
   "display_name": "jcq3",
   "language": "python",
   "name": "python3"
  },
  "language_info": {
   "codemirror_mode": {
    "name": "ipython",
    "version": 3
   },
   "file_extension": ".py",
   "mimetype": "text/x-python",
   "name": "python",
   "nbconvert_exporter": "python",
   "pygments_lexer": "ipython3",
   "version": "3.10.13"
  }
 },
 "nbformat": 4,
 "nbformat_minor": 2
}
