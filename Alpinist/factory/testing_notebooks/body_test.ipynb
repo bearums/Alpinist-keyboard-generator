{
 "cells": [
  {
   "cell_type": "code",
   "execution_count": 1,
   "id": "e1819973",
   "metadata": {},
   "outputs": [
    {
     "name": "stderr",
     "output_type": "stream",
     "text": [
      "/home/ben/anaconda3/envs/jcq3/lib/python3.10/site-packages/quaternion/calculus.py:310: NumbaDeprecationWarning: \u001b[1mThe 'nopython' keyword argument was not supplied to the 'numba.jit' decorator. The implicit default value for this argument is currently False, but it will be changed to True in Numba 0.59.0. See https://numba.readthedocs.io/en/stable/reference/deprecation.html#deprecation-of-object-mode-fall-back-behaviour-when-using-jit for details.\u001b[0m\n",
      "  def fd_indefinite_integral(f, t):\n"
     ]
    },
    {
     "name": "stdout",
     "output_type": "stream",
     "text": [
      "Overwriting auto display for cadquery Workplane and Shape\n",
      "\n",
      "Enabling jupyter_cadquery replay\n"
     ]
    }
   ],
   "source": [
    "import cadquery as cq\n",
    "\n",
    "from jupyter_cadquery import (\n",
    "    versions,\n",
    "    show, PartGroup, Part, \n",
    "    get_viewer, close_viewer, get_viewers, close_viewers, open_viewer, set_defaults, get_defaults, open_viewer,\n",
    "    get_pick,\n",
    ")\n",
    "\n",
    "from jupyter_cadquery.replay import replay, enable_replay, disable_replay\n",
    "''\n",
    "enable_replay(False)\n",
    "\n",
    "\n",
    "import sys\n",
    "sys.path.append('../')\n",
    "from cadquery.occ_impl.geom import Vector\n",
    "sys.path.append('../examples/Bens_alp')\n",
    "from config import Config, Shape\n",
    "from config import read_config_from_json\n",
    "\n",
    "from plate import get_base, get_screw_positions, get_key_positions, make_plate\n",
    "from case import get_basic_shape,  get_distance_between_two_shapes,  add_microcontrollerbox, make_controller_box_top_plate, CustomisableSelector"
   ]
  },
  {
   "cell_type": "code",
   "execution_count": 2,
   "id": "367f07a1",
   "metadata": {},
   "outputs": [
    {
     "data": {
      "text/plain": [
       "ControllerFromDict(dict={'name': 'Pi Pico', 'board_dimension_x': 51.0, 'board_dimension_y': 21.0, 'screw_hole_x': 47.0, 'screw_hole_y': 11.4}, board_dimension_x=51.0, board_dimension_y=21.0, screw_hole_x=47.0, screw_hole_y=11.4)"
      ]
     },
     "execution_count": 2,
     "metadata": {},
     "output_type": "execute_result"
    }
   ],
   "source": [
    "config_dict = \"\"\"{\n",
    "    \"row_key_numbers\": [\n",
    "        7,\n",
    "        10,\n",
    "        10,\n",
    "        10\n",
    "    ],\n",
    "    \"columnSpacing\": 19,\n",
    "    \"rowSpacing\": 19,\n",
    "    \"plateThickness\": 2,\n",
    "    \"screwHoleDiamater\": 2.4,\n",
    "    \"switchHoleSize\": 13.9,\n",
    "    \"shape\": 0,\n",
    "    \"notched_keyhole\": true,\n",
    "    \"caseHeight\": 22,\n",
    "    \"caseGap\": 1.0,\n",
    "    \"wallThickness\": 1.6,\n",
    "    \"floorThickness\": 3.0,\n",
    "    \"edgeFillet\": 3,\n",
    "    \"bottomFillet\": 2,\n",
    "    \"controller\": {\n",
    "        \"name\": \"Pi Pico\",\n",
    "        \"board_dimension_x\": 51.0,\n",
    "        \"board_dimension_y\": 21.0,\n",
    "        \"screw_hole_x\": 47.0,\n",
    "        \"screw_hole_y\": 11.4\n",
    "    },\n",
    "    \"controllerYOffset\": 6,\n",
    "    \"controllerBoxThickness\": 2\n",
    "}\"\"\"\n",
    "\n",
    "config = read_config_from_json(string=config_dict)\n",
    "\n",
    "config.controller"
   ]
  },
  {
   "cell_type": "code",
   "execution_count": 6,
   "id": "fd493a84",
   "metadata": {},
   "outputs": [],
   "source": [
    "def make_case(config:Config, \n",
    "              modify_controller_box:callable = None,\n",
    "              get_screw_positions:callable = get_screw_positions,\n",
    "              cut_hole_for_connector:callable = None,\n",
    "              ) -> cq.Sketch:\n",
    "   \n",
    "    \n",
    "    case= get_basic_shape(config)\n",
    "    case.edges('>Z').tag('outerTopEdge') # for making controller box top plate\n",
    "\n",
    "    # scoop out interior\n",
    "    case= (case.faces(\">Z or <Z\").shell(config.wallThickness, kind='intersection'))\n",
    "    \n",
    "    # set floor thickness \n",
    "    case = case.faces('<Z').wires('>X and >Y').toPending().extrude(config.floorThickness)\n",
    "    \n",
    "    #fillet bottom edge\n",
    "    if config.bottomFillet != 0:\n",
    "        case = case.edges('<Z').fillet(config.bottomFillet)\n",
    "\n",
    "\n",
    "    \n",
    "\n",
    "    # add controllerbox holes.\n",
    "    if config.controller is not None:\n",
    "        hole_x_pos = config.controller.screw_hole_x\n",
    "        hole_y_pos = config.controller.screw_hole_y- config.wallThickness - config.controllerYOffset - (config.controller.board_dimension_y -config.controller.screw_hole_y)*0.5\n",
    "        case = (case.workplaneFromTagged(\"controllerBox\")\n",
    "                .rect(hole_x_pos, hole_y_pos, forConstruction=True, centered=[True,True,True])\n",
    "                .vertices()\n",
    "                .cskHole(config.screwHoleDiamater, 2*config.screwHoleDiamater, 82, depth=None)\n",
    "        )\n",
    "    \n",
    "  \n",
    "\n",
    "    return case\n",
    "\n",
    "\n",
    "\n",
    "case = make_case(config,)\n",
    "\n",
    "case = (case.faces(tag='controllerBox').workplane(centerOption=\"CenterOfBoundBox\", invert=False)\n",
    "                .center(0, config.controllerYOffset )\n",
    "                .rect(config.controller.screw_hole_x, config.controller.screw_hole_y, forConstruction=True, centered=[True,True,True])\n",
    "                #.extrude(20, combine=True)\n",
    "                 .vertices()\n",
    "                # ''.box(5,5,5)\n",
    "                .cskHole(config.screwHoleDiamater, 2*config.screwHoleDiamater, 82, depth=None)\n",
    "        )\n"
   ]
  },
  {
   "cell_type": "code",
   "execution_count": 7,
   "id": "3bd97368",
   "metadata": {},
   "outputs": [
    {
     "data": {
      "application/vnd.jupyter.widget-view+json": {
       "model_id": "3c96e0a1128749b88572e125666350d5",
       "version_major": 2,
       "version_minor": 0
      },
      "text/plain": [
       "CadViewerWidget(anchor=None, cad_width=800, glass=False, height=600, pinning=False, theme='light', title=None,…"
      ]
     },
     "metadata": {},
     "output_type": "display_data"
    },
    {
     "data": {
      "text/html": [
       "<div></div>"
      ],
      "text/plain": [
       "<IPython.core.display.HTML object>"
      ]
     },
     "metadata": {},
     "output_type": "display_data"
    }
   ],
   "source": [
    "get_base"
   ]
  },
  {
   "cell_type": "code",
   "execution_count": 41,
   "id": "4a6436e9",
   "metadata": {},
   "outputs": [],
   "source": [
    "cq.exporters.export(case, 'pico_test.stl')"
   ]
  },
  {
   "cell_type": "code",
   "execution_count": null,
   "id": "48080127",
   "metadata": {},
   "outputs": [],
   "source": []
  }
 ],
 "metadata": {
  "kernelspec": {
   "display_name": "Python 3 (ipykernel)",
   "language": "python",
   "name": "python3"
  },
  "language_info": {
   "codemirror_mode": {
    "name": "ipython",
    "version": 3
   },
   "file_extension": ".py",
   "mimetype": "text/x-python",
   "name": "python",
   "nbconvert_exporter": "python",
   "pygments_lexer": "ipython3",
   "version": "3.10.13"
  }
 },
 "nbformat": 4,
 "nbformat_minor": 5
}
