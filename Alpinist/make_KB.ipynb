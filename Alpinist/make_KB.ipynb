{
 "cells": [
  {
   "cell_type": "code",
   "execution_count": 6,
   "id": "f56ac357",
   "metadata": {},
   "outputs": [
    {
     "name": "stdout",
     "output_type": "stream",
     "text": [
      "\n",
      "Enabling jupyter_cadquery replay\n"
     ]
    }
   ],
   "source": [
    "from case import make_case\n",
    "from plate import make_plate\n",
    "from plate import Config, Shape\n",
    "import cadquery as cq\n",
    "\n",
    "from jupyter_cadquery import (\n",
    "    versions,\n",
    "    show, PartGroup, Part, \n",
    "    get_viewer, close_viewer, get_viewers, close_viewers, open_viewer, set_defaults, get_defaults, open_viewer,\n",
    "    get_pick,\n",
    ")\n",
    "\n",
    "from jupyter_cadquery.replay import replay, enable_replay, disable_replay\n",
    "''\n",
    "enable_replay(False)\n",
    "\n",
    "set_defaults(\n",
    "    cad_width=640, \n",
    "    height=480, \n",
    ")\n"
   ]
  },
  {
   "cell_type": "code",
   "execution_count": 22,
   "id": "a50d5333",
   "metadata": {},
   "outputs": [],
   "source": [
    "rkn = [3,5,8,5, 2]\n",
    "switchHoleSize= 13.9\n",
    "config=Config( rkn, \n",
    "              shape=Shape.LEAN, \n",
    "                  caseHeight=20, \n",
    "              plateThickness=1,  \n",
    "              cs= switchHoleSize+3.4505, \n",
    "              rs= switchHoleSize+5.508,\n",
    "             switchHoleSize= switchHoleSize,\n",
    "                 caseGap=1.0,\n",
    "                 wallThickness=1.2,)\n",
    "pl = make_plate(config, holes=True)\n",
    "case = make_case(config)"
   ]
  },
  {
   "cell_type": "code",
   "execution_count": 23,
   "id": "c3ddae58",
   "metadata": {},
   "outputs": [
    {
     "name": "stdout",
     "output_type": "stream",
     "text": [
      "100% ⋮————————————————————————————————————————————————————————————⋮ (2/2)  0.28s\n"
     ]
    },
    {
     "data": {
      "application/vnd.jupyter.widget-view+json": {
       "model_id": "ecf42122ba39497c8da9ed05819392ad",
       "version_major": 2,
       "version_minor": 0
      },
      "text/plain": [
       "CadViewerWidget(anchor=None, cad_width=640, glass=False, height=480, pinning=False, theme='light', title=None,…"
      ]
     },
     "metadata": {},
     "output_type": "display_data"
    },
    {
     "data": {
      "text/html": [
       "<div></div>"
      ],
      "text/plain": [
       "<IPython.core.display.HTML object>"
      ]
     },
     "metadata": {},
     "output_type": "display_data"
    }
   ],
   "source": [
    "assy = cq.Assembly()\n",
    "assy.add(case)\n",
    "assy.add(pl,loc=cq.Location(cq.Vector(0,0,18)) )"
   ]
  },
  {
   "cell_type": "code",
   "execution_count": null,
   "id": "7663ca63",
   "metadata": {},
   "outputs": [],
   "source": []
  }
 ],
 "metadata": {
  "kernelspec": {
   "display_name": "Python 3 (ipykernel)",
   "language": "python",
   "name": "python3"
  },
  "language_info": {
   "codemirror_mode": {
    "name": "ipython",
    "version": 3
   },
   "file_extension": ".py",
   "mimetype": "text/x-python",
   "name": "python",
   "nbconvert_exporter": "python",
   "pygments_lexer": "ipython3",
   "version": "3.10.13"
  }
 },
 "nbformat": 4,
 "nbformat_minor": 5
}
