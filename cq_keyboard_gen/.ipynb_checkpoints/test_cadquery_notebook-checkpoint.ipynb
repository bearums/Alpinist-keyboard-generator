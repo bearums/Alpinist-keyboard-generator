{
 "cells": [
  {
   "cell_type": "code",
   "execution_count": 1,
   "id": "fc1de94a",
   "metadata": {},
   "outputs": [
    {
     "name": "stdout",
     "output_type": "stream",
     "text": [
      "Requirement already satisfied: cadquery in /home/ben/anaconda3/envs/cad_query/lib/python3.10/site-packages (2.3.1)\n",
      "Requirement already satisfied: cadquery-ocp<7.8,>=7.7.0a0 in /home/ben/anaconda3/envs/cad_query/lib/python3.10/site-packages (from cadquery) (7.7.1)\n",
      "Requirement already satisfied: ezdxf in /home/ben/anaconda3/envs/cad_query/lib/python3.10/site-packages (from cadquery) (1.1.1)\n",
      "Requirement already satisfied: multimethod<2.0,>=1.7 in /home/ben/anaconda3/envs/cad_query/lib/python3.10/site-packages (from cadquery) (1.10)\n",
      "Requirement already satisfied: nlopt in /home/ben/anaconda3/envs/cad_query/lib/python3.10/site-packages (from cadquery) (2.7.1)\n",
      "Requirement already satisfied: nptyping==2.0.1 in /home/ben/anaconda3/envs/cad_query/lib/python3.10/site-packages (from cadquery) (2.0.1)\n",
      "Requirement already satisfied: typish in /home/ben/anaconda3/envs/cad_query/lib/python3.10/site-packages (from cadquery) (1.9.3)\n",
      "Requirement already satisfied: casadi in /home/ben/anaconda3/envs/cad_query/lib/python3.10/site-packages (from cadquery) (3.6.3)\n",
      "Requirement already satisfied: path in /home/ben/anaconda3/envs/cad_query/lib/python3.10/site-packages (from cadquery) (16.7.1)\n",
      "Requirement already satisfied: numpy>=1.20.0 in /home/ben/anaconda3/envs/cad_query/lib/python3.10/site-packages (from nptyping==2.0.1->cadquery) (1.26.1)\n",
      "Requirement already satisfied: pyparsing>=2.0.1 in /home/ben/anaconda3/envs/cad_query/lib/python3.10/site-packages (from ezdxf->cadquery) (3.1.1)\n",
      "Requirement already satisfied: typing-extensions>=4.6.0 in /home/ben/anaconda3/envs/cad_query/lib/python3.10/site-packages (from ezdxf->cadquery) (4.8.0)\n",
      "Requirement already satisfied: fonttools in /home/ben/anaconda3/envs/cad_query/lib/python3.10/site-packages (from ezdxf->cadquery) (4.43.1)\n"
     ]
    }
   ],
   "source": []
  },
  {
   "cell_type": "code",
   "execution_count": 1,
   "id": "00e12161",
   "metadata": {},
   "outputs": [
    {
     "name": "stdout",
     "output_type": "stream",
     "text": [
      "Overwriting auto display for cadquery Workplane and Shape\n",
      "\n",
      "Enabling jupyter_cadquery replay\n",
      "\n",
      "Versions:\n",
      "- jupyter_cadquery  3.5.2\n",
      "- cad_viewer_widget 1.4.1\n",
      "- open cascade      (cannot retrieve Open CASCADE version)\n",
      "\n",
      "Plugins loaded:\n",
      "- cadquery-massembly\n"
     ]
    },
    {
     "name": "stderr",
     "output_type": "stream",
     "text": [
      "/home/ben/anaconda3/envs/jcq3/lib/python3.10/site-packages/quaternion/calculus.py:310: NumbaDeprecationWarning: \u001b[1mThe 'nopython' keyword argument was not supplied to the 'numba.jit' decorator. The implicit default value for this argument is currently False, but it will be changed to True in Numba 0.59.0. See https://numba.readthedocs.io/en/stable/reference/deprecation.html#deprecation-of-object-mode-fall-back-behaviour-when-using-jit for details.\u001b[0m\n",
      "  def fd_indefinite_integral(f, t):\n"
     ]
    }
   ],
   "source": [
    "\n",
    "\n",
    "import cadquery as cq\n",
    "\n",
    "from jupyter_cadquery import (\n",
    "    versions,\n",
    "    show, PartGroup, Part, \n",
    "    get_viewer, close_viewer, get_viewers, close_viewers, open_viewer, set_defaults, get_defaults, open_viewer,\n",
    "    get_pick,\n",
    ")\n",
    "\n",
    "from jupyter_cadquery.replay import replay, enable_replay, disable_replay\n",
    "''\n",
    "enable_replay(False)\n",
    "\n",
    "set_defaults(\n",
    "    cad_width=640, \n",
    "    height=480, \n",
    ")\n",
    "\n",
    "versions()\n",
    "\n",
    "\n"
   ]
  },
  {
   "cell_type": "code",
   "execution_count": 2,
   "id": "c821d4b3",
   "metadata": {},
   "outputs": [
    {
     "data": {
      "application/vnd.jupyter.widget-view+json": {
       "model_id": "5ffb0bfd4aef4150a979c058cad1ea44",
       "version_major": 2,
       "version_minor": 0
      },
      "text/plain": [
       "CadViewerWidget(anchor=None, cad_width=640, glass=False, height=480, pinning=False, theme='light', title=None,…"
      ]
     },
     "metadata": {},
     "output_type": "display_data"
    },
    {
     "data": {
      "text/html": [
       "<div></div>"
      ],
      "text/plain": [
       "<IPython.core.display.HTML object>"
      ]
     },
     "metadata": {},
     "output_type": "display_data"
    }
   ],
   "source": [
    "box = cq.Workplane('XY').box(1, 2, 3).edges().fillet(0.1)\n",
    "box\n"
   ]
  },
  {
   "cell_type": "code",
   "execution_count": 3,
   "id": "3e4f6aa2",
   "metadata": {},
   "outputs": [
    {
     "data": {
      "application/vnd.jupyter.widget-view+json": {
       "model_id": "ee08c3acf2244d8b91e6c3b1d9a2d61e",
       "version_major": 2,
       "version_minor": 0
      },
      "text/plain": [
       "CadViewerWidget(anchor=None, cad_width=640, glass=False, height=480, pinning=False, theme='light', title=None,…"
      ]
     },
     "metadata": {},
     "output_type": "display_data"
    },
    {
     "data": {
      "text/html": [
       "<div></div>"
      ],
      "text/plain": [
       "<IPython.core.display.HTML object>"
      ]
     },
     "metadata": {},
     "output_type": "display_data"
    },
    {
     "data": {
      "text/plain": [
       "<cad_viewer_widget.widget.CadViewer at 0x7f79df2f6d40>"
      ]
     },
     "execution_count": 3,
     "metadata": {},
     "output_type": "execute_result"
    }
   ],
   "source": [
    "\n",
    "show(box)"
   ]
  },
  {
   "cell_type": "code",
   "execution_count": null,
   "id": "1e822f1a",
   "metadata": {},
   "outputs": [],
   "source": []
  }
 ],
 "metadata": {
  "kernelspec": {
   "display_name": "Python 3 (ipykernel)",
   "language": "python",
   "name": "python3"
  },
  "language_info": {
   "codemirror_mode": {
    "name": "ipython",
    "version": 3
   },
   "file_extension": ".py",
   "mimetype": "text/x-python",
   "name": "python",
   "nbconvert_exporter": "python",
   "pygments_lexer": "ipython3",
   "version": "3.10.13"
  }
 },
 "nbformat": 4,
 "nbformat_minor": 5
}
