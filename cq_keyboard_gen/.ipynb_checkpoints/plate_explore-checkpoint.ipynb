{
 "cells": [
  {
   "cell_type": "code",
   "execution_count": 28,
   "id": "4461d48a",
   "metadata": {},
   "outputs": [],
   "source": [
    "from gen_configs import Config, Shape\n",
    "\n",
    "config = Config(6,4, staggering=False, angle=0, split=True)"
   ]
  },
  {
   "cell_type": "code",
   "execution_count": 20,
   "id": "25b844a3",
   "metadata": {},
   "outputs": [
    {
     "name": "stdout",
     "output_type": "stream",
     "text": [
      "\n",
      "Enabling jupyter_cadquery replay\n"
     ]
    }
   ],
   "source": [
    "\n",
    "import cadquery as cq\n",
    "\n",
    "from jupyter_cadquery import (\n",
    "    versions,\n",
    "    show, PartGroup, Part, \n",
    "    get_viewer, close_viewer, get_viewers, close_viewers, open_viewer, set_defaults, get_defaults, open_viewer,\n",
    "    get_pick,\n",
    ")\n",
    "\n",
    "from jupyter_cadquery.replay import replay, enable_replay, disable_replay\n",
    "''\n",
    "enable_replay(False)\n",
    "\n",
    "set_defaults(\n",
    "    cad_width=640, \n",
    "    height=480, \n",
    ")\n",
    "\n",
    "\n"
   ]
  },
  {
   "cell_type": "code",
   "execution_count": 21,
   "id": "45135d86",
   "metadata": {},
   "outputs": [
    {
     "name": "stdout",
     "output_type": "stream",
     "text": [
      "\r",
      "  0% ⋮                                                            ⋮ (0/2)  0.00s\r",
      " 50% ⋮——————————————————————————————                              ⋮ (1/2)  0.00s\r",
      "100% ⋮————————————————————————————————————————————————————————————⋮ (2/2)  0.00s\r",
      "100% ⋮————————————————————————————————————————————————————————————⋮ (2/2)  0.00s\n"
     ]
    },
    {
     "data": {
      "application/vnd.jupyter.widget-view+json": {
       "model_id": "1a315ace3b0f4df9b39eccd8a8b33090",
       "version_major": 2,
       "version_minor": 0
      },
      "text/plain": [
       "CadViewerWidget(anchor=None, cad_width=640, glass=False, height=480, pinning=False, theme='light', title=None,…"
      ]
     },
     "metadata": {},
     "output_type": "display_data"
    },
    {
     "data": {
      "text/html": [
       "<div></div>"
      ],
      "text/plain": [
       "<IPython.core.display.HTML object>"
      ]
     },
     "metadata": {},
     "output_type": "display_data"
    }
   ],
   "source": [
    "switchHoleSize=13.97\n",
    "\n",
    "def get_key_hole_shape(switchHoleSize, notched) -> cq.Sketch:\n",
    "    if notched:\n",
    "        return cq.Sketch().rect(switchHoleSize, switchHoleSize)\\\n",
    "            .push([(0, 4.2545), (0, -4.2545)]).rect(switchHoleSize + 2 * 0.8128, 3.5001).clean()\n",
    "    else:\n",
    "        return cq.Sketch().rect(switchHoleSize, switchHoleSize)\n",
    "\n",
    "    \n",
    "key_hole_shape = get_key_hole_shape(switchHoleSize, True)\n",
    "\n",
    "key_hole_shape"
   ]
  },
  {
   "cell_type": "code",
   "execution_count": 22,
   "id": "f5a1ae98",
   "metadata": {},
   "outputs": [],
   "source": [
    "def get_key_positions(config: Config) -> [(float, float)]:\n",
    "    kc = []\n",
    "    for x in range(config.nCols):\n",
    "        for y in range(config.nRows):\n",
    "            kc.append((x, y))\n",
    "\n",
    "    if config.thumbKeys:\n",
    "        for (x, y) in config.thumbKeys:\n",
    "            kc.append((x, y))\n",
    "\n",
    "    min_x = min(kc, key=lambda xy: xy[0])[0]\n",
    "    n_cols = config.nCols - min_x\n",
    "\n",
    "    if config.staggering:\n",
    "        if len(config.staggering) <= n_cols:\n",
    "            st = config.staggering + [0] * \\\n",
    "                (n_cols - len(config.staggering))\n",
    "        else:\n",
    "            st = config.staggering\n",
    "    else:\n",
    "        st = [0] * n_cols\n",
    "\n",
    "    kp = {}\n",
    "    for x, y in kc:\n",
    "        kp[(x, y)] = (config.columnSpacing * x,\n",
    "                      st[x - min_x] + config.rowSpacing * y)\n",
    "\n",
    "    return kp    \n",
    "\n",
    "kp=get_key_positions(config)"
   ]
  },
  {
   "cell_type": "code",
   "execution_count": 23,
   "id": "a37b3a73",
   "metadata": {},
   "outputs": [
    {
     "data": {
      "application/vnd.jupyter.widget-view+json": {
       "model_id": "669bf2598acc4944bc28b29909f6aa5d",
       "version_major": 2,
       "version_minor": 0
      },
      "text/plain": [
       "CadViewerWidget(anchor=None, cad_width=640, glass=False, height=480, pinning=False, theme='light', title=None,…"
      ]
     },
     "metadata": {},
     "output_type": "display_data"
    },
    {
     "data": {
      "text/html": [
       "<div></div>"
      ],
      "text/plain": [
       "<IPython.core.display.HTML object>"
      ]
     },
     "metadata": {},
     "output_type": "display_data"
    }
   ],
   "source": [
    "def get_keys(kp, key_shape):\n",
    "    return cq.Workplane().pushPoints(kp.values()).placeSketch(key_shape).extrude(config.plateThickness)\\\n",
    "        .rotate((0, 0, 0), (0, 0, 1), config.angle).translate(\n",
    "        (config.hOffset, 0))\n",
    "\n",
    "keys= get_keys(kp, key_hole_shape)\n",
    "\n",
    "keys"
   ]
  },
  {
   "cell_type": "code",
   "execution_count": 29,
   "id": "fdaf267c",
   "metadata": {},
   "outputs": [
    {
     "data": {
      "application/vnd.jupyter.widget-view+json": {
       "model_id": "1bc99358a4a0471c8edebefd3dcd1072",
       "version_major": 2,
       "version_minor": 0
      },
      "text/plain": [
       "CadViewerWidget(anchor=None, cad_width=640, glass=False, height=480, pinning=False, theme='light', title=None,…"
      ]
     },
     "metadata": {},
     "output_type": "display_data"
    },
    {
     "data": {
      "text/html": [
       "<div></div>"
      ],
      "text/plain": [
       "<IPython.core.display.HTML object>"
      ]
     },
     "metadata": {},
     "output_type": "display_data"
    }
   ],
   "source": [
    "from functools import partial \n",
    "import math\n",
    "def get_base(config: Config, kp, thickness, window=False):\n",
    "\n",
    "    foot_x, foot_y = (config.columnSpacing / 2 + config.switchHoleSize, config.rowSpacing / 2 +\n",
    "                      config.switchHoleSize) if config.shape == Shape.LEAN else (config.switchHoleSize, config.switchHoleSize)\n",
    "    base = cq.Sketch()\n",
    "    if config.split and config.mcu_footprint:\n",
    "        x_offs = (\n",
    "            config.mcu_footprint[0] + foot_x) / 2\n",
    "        y_offs = max([v[1] for (k, v) in kp.items() if k[0] == 0]\n",
    "                     ) + (foot_y - config.mcu_footprint[1]) / 2\n",
    "        base = base.push(\n",
    "            [(-x_offs, y_offs)]).rect(*config.mcu_footprint).reset()\n",
    "\n",
    "    base = base.push(kp.values())\n",
    "    if config.shape == Shape.LEAN:\n",
    "        base = base.rect(foot_x, foot_y)\\\n",
    "            .faces().clean().vertices().fillet(2.5).faces()\\\n",
    "            .wires().offset(5).clean()\n",
    "    elif config.shape == Shape.HULL:\n",
    "        base = base.rect(foot_x, foot_y)\\\n",
    "            .faces().hull().clean().wires().offset(12)\n",
    "\n",
    "    base = cq.Workplane().placeSketch(base).extrude(thickness)\n",
    "\n",
    "    base = base.rotate((0, 0, 0), (0, 0, 1), config.angle).translate(\n",
    "        (config.hOffset, 0))\n",
    "\n",
    "    if not config.split:\n",
    "        base = base.mirror('YZ', union=True).faces(\">Z\").workplane().placeSketch(\n",
    "            get_center(config, kp)).extrude(-thickness)\n",
    "\n",
    "    if window:\n",
    "        win = cq.Sketch().push(kp.values()).rect(config.columnSpacing / 2 +\n",
    "                                                 config.switchHoleSize, config.rowSpacing / 2 + config.switchHoleSize)\n",
    "        win = win.clean().faces().vertices().fillet(1)\n",
    "        win = cq.Workplane().placeSketch(win).extrude(thickness).rotate((0, 0, 0), (0, 0, 1), config.angle).translate(\n",
    "            (config.hOffset, 0))\n",
    "        if not config.split:\n",
    "            win = win.mirror('YZ', union=True)\n",
    "        base = base.cut(win)\n",
    "\n",
    "    return base\n",
    "def get_center(config: Config, kp):\n",
    "    fc = list(filter(lambda xy: xy[0] == 0, kp.keys()))\n",
    "    a = max(fc)\n",
    "    b = min(fc)\n",
    "\n",
    "    pts = [(kp[a][0] - config.columnSpacing / 2,\n",
    "            kp[a][1] + config.rowSpacing / 2), kp[b]]\n",
    "    pts = list(map(partial(rotate, config), pts))\n",
    "    pts = pts + list(map(lambda xy: (-xy[0], xy[1]), pts))\n",
    "    pts.sort()\n",
    "    pts.append(pts[0])\n",
    "    return cq.Sketch().polygon(pts)\n",
    "\n",
    "def rotate(config: Config, pt):\n",
    "    ang = math.radians(config.angle)\n",
    "    x, y = pt\n",
    "    return (x * math.cos(ang) - y * math.sin(ang) + config.hOffset,\n",
    "            x * math.sin(ang) + y * math.cos(ang))\n",
    "\n",
    "\n",
    "\n",
    "base=get_base(config, kp, 1, False)\n",
    "base"
   ]
  },
  {
   "cell_type": "code",
   "execution_count": 30,
   "id": "9097d9d2",
   "metadata": {},
   "outputs": [
    {
     "data": {
      "application/vnd.jupyter.widget-view+json": {
       "model_id": "8a0dcaa18aa445b189994751ff16b28a",
       "version_major": 2,
       "version_minor": 0
      },
      "text/plain": [
       "CadViewerWidget(anchor=None, cad_width=640, glass=False, height=480, pinning=False, theme='light', title=None,…"
      ]
     },
     "metadata": {},
     "output_type": "display_data"
    },
    {
     "data": {
      "text/html": [
       "<div></div>"
      ],
      "text/plain": [
       "<IPython.core.display.HTML object>"
      ]
     },
     "metadata": {},
     "output_type": "display_data"
    }
   ],
   "source": [
    "switchPlate = base.cut(keys)\n",
    "\n",
    "switchPlate"
   ]
  },
  {
   "cell_type": "code",
   "execution_count": null,
   "id": "9298efd8",
   "metadata": {},
   "outputs": [],
   "source": []
  },
  {
   "cell_type": "code",
   "execution_count": null,
   "id": "981be504",
   "metadata": {},
   "outputs": [],
   "source": []
  },
  {
   "cell_type": "code",
   "execution_count": null,
   "id": "5d23ef62",
   "metadata": {},
   "outputs": [],
   "source": []
  }
 ],
 "metadata": {
  "kernelspec": {
   "display_name": "Python 3 (ipykernel)",
   "language": "python",
   "name": "python3"
  },
  "language_info": {
   "codemirror_mode": {
    "name": "ipython",
    "version": 3
   },
   "file_extension": ".py",
   "mimetype": "text/x-python",
   "name": "python",
   "nbconvert_exporter": "python",
   "pygments_lexer": "ipython3",
   "version": "3.10.13"
  }
 },
 "nbformat": 4,
 "nbformat_minor": 5
}
