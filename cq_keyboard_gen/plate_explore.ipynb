{
 "cells": [
  {
   "cell_type": "code",
   "execution_count": 1,
   "id": "4461d48a",
   "metadata": {},
   "outputs": [],
   "source": [
    "from gen_configs import Config, Shape\n",
    "\n",
    "config = Config(6,4, staggering=False, angle=0, split=True)"
   ]
  },
  {
   "cell_type": "code",
   "execution_count": 13,
   "id": "25b844a3",
   "metadata": {},
   "outputs": [
    {
     "name": "stderr",
     "output_type": "stream",
     "text": [
      "/home/ben/anaconda3/envs/jcq3/lib/python3.10/site-packages/quaternion/calculus.py:310: NumbaDeprecationWarning: \u001b[1mThe 'nopython' keyword argument was not supplied to the 'numba.jit' decorator. The implicit default value for this argument is currently False, but it will be changed to True in Numba 0.59.0. See https://numba.readthedocs.io/en/stable/reference/deprecation.html#deprecation-of-object-mode-fall-back-behaviour-when-using-jit for details.\u001b[0m\n",
      "  def fd_indefinite_integral(f, t):\n"
     ]
    },
    {
     "name": "stdout",
     "output_type": "stream",
     "text": [
      "Overwriting auto display for cadquery Workplane and Shape\n",
      "\n",
      "Enabling jupyter_cadquery replay\n"
     ]
    }
   ],
   "source": [
    "\n",
    "import cadquery as cq\n",
    "\n",
    "from jupyter_cadquery import (\n",
    "    versions,\n",
    "    show, PartGroup, Part, \n",
    "    get_viewer, close_viewer, get_viewers, close_viewers, open_viewer, set_defaults, get_defaults, open_viewer,\n",
    "    get_pick,\n",
    ")\n",
    "\n",
    "from jupyter_cadquery.replay import replay, enable_replay, disable_replay\n",
    "''\n",
    "enable_replay(False)\n",
    "\n",
    "set_defaults(\n",
    "    cad_width=640, \n",
    "    height=480, \n",
    ")\n",
    "\n",
    "\n"
   ]
  },
  {
   "cell_type": "code",
   "execution_count": 3,
   "id": "45135d86",
   "metadata": {},
   "outputs": [
    {
     "name": "stdout",
     "output_type": "stream",
     "text": [
      "\r",
      "  0% ⋮                                                            ⋮ (0/2)  0.00s\r",
      " 50% ⋮——————————————————————————————                              ⋮ (1/2)  0.01s\r",
      "100% ⋮————————————————————————————————————————————————————————————⋮ (2/2)  0.01s\r",
      "100% ⋮————————————————————————————————————————————————————————————⋮ (2/2)  0.01s\n"
     ]
    },
    {
     "data": {
      "application/vnd.jupyter.widget-view+json": {
       "model_id": "2a50eed30805493880beb5ba4067a678",
       "version_major": 2,
       "version_minor": 0
      },
      "text/plain": [
       "CadViewerWidget(anchor=None, cad_width=640, glass=False, height=480, pinning=False, theme='light', title=None,…"
      ]
     },
     "metadata": {},
     "output_type": "display_data"
    },
    {
     "data": {
      "text/html": [
       "<div></div>"
      ],
      "text/plain": [
       "<IPython.core.display.HTML object>"
      ]
     },
     "metadata": {},
     "output_type": "display_data"
    }
   ],
   "source": [
    "switchHoleSize=13.97\n",
    "\n",
    "def get_key_hole_shape(switchHoleSize, notched) -> cq.Sketch:\n",
    "    if notched:\n",
    "        return cq.Sketch().rect(switchHoleSize, switchHoleSize)\\\n",
    "            .push([(0, 4.2545), (0, -4.2545)]).rect(switchHoleSize + 2 * 0.8128, 3.5001).clean()\n",
    "    else:\n",
    "        return cq.Sketch().rect(switchHoleSize, switchHoleSize)\n",
    "\n",
    "    \n",
    "key_hole_shape = get_key_hole_shape(switchHoleSize, True)\n",
    "\n",
    "key_hole_shape"
   ]
  },
  {
   "cell_type": "code",
   "execution_count": 8,
   "id": "f5a1ae98",
   "metadata": {},
   "outputs": [
    {
     "data": {
      "text/plain": [
       "{(0, 0): (0, 0),\n",
       " (0, 1): (0, 19),\n",
       " (0, 2): (0, 38),\n",
       " (0, 3): (0, 57),\n",
       " (1, 0): (19, 0),\n",
       " (1, 1): (19, 19),\n",
       " (1, 2): (19, 38),\n",
       " (1, 3): (19, 57),\n",
       " (2, 0): (38, 0),\n",
       " (2, 1): (38, 19),\n",
       " (2, 2): (38, 38),\n",
       " (2, 3): (38, 57),\n",
       " (3, 0): (57, 0),\n",
       " (3, 1): (57, 19),\n",
       " (3, 2): (57, 38),\n",
       " (3, 3): (57, 57),\n",
       " (4, 0): (76, 0),\n",
       " (4, 1): (76, 19),\n",
       " (4, 2): (76, 38),\n",
       " (4, 3): (76, 57),\n",
       " (5, 0): (95, 0),\n",
       " (5, 1): (95, 19),\n",
       " (5, 2): (95, 38),\n",
       " (5, 3): (95, 57)}"
      ]
     },
     "execution_count": 8,
     "metadata": {},
     "output_type": "execute_result"
    }
   ],
   "source": [
    "def get_key_positions(config: Config) -> [(float, float)]:\n",
    "    kc = []\n",
    "    for x in range(config.nCols):\n",
    "        for y in range(config.nRows):\n",
    "            kc.append((x, y))\n",
    "\n",
    "    if config.thumbKeys:\n",
    "        for (x, y) in config.thumbKeys:\n",
    "            kc.append((x, y))\n",
    "\n",
    "    min_x = min(kc, key=lambda xy: xy[0])[0]\n",
    "    n_cols = config.nCols - min_x\n",
    "\n",
    "    if config.staggering:\n",
    "        if len(config.staggering) <= n_cols:\n",
    "            st = config.staggering + [0] * \\\n",
    "                (n_cols - len(config.staggering))\n",
    "        else:\n",
    "            st = config.staggering\n",
    "    else:\n",
    "        st = [0] * n_cols\n",
    "\n",
    "    kp = {}\n",
    "    for x, y in kc:\n",
    "        kp[(x, y)] = (config.columnSpacing * x,\n",
    "                      st[x - min_x] + config.rowSpacing * y)\n",
    "\n",
    "    return kp    \n",
    "\n",
    "kp=get_key_positions(config)\n",
    "\n",
    "kp.values"
   ]
  },
  {
   "cell_type": "code",
   "execution_count": 5,
   "id": "a37b3a73",
   "metadata": {},
   "outputs": [
    {
     "data": {
      "application/vnd.jupyter.widget-view+json": {
       "model_id": "e61edcdf6ae2471e960fcfccb7816106",
       "version_major": 2,
       "version_minor": 0
      },
      "text/plain": [
       "CadViewerWidget(anchor=None, cad_width=640, glass=False, height=480, pinning=False, theme='light', title=None,…"
      ]
     },
     "metadata": {},
     "output_type": "display_data"
    },
    {
     "data": {
      "text/html": [
       "<div></div>"
      ],
      "text/plain": [
       "<IPython.core.display.HTML object>"
      ]
     },
     "metadata": {},
     "output_type": "display_data"
    }
   ],
   "source": [
    "def get_keys(kp, key_shape):\n",
    "    return cq.Workplane().pushPoints(kp.values()).placeSketch(key_shape).extrude(config.plateThickness)\\\n",
    "        .rotate((0, 0, 0), (0, 0, 1), config.angle).translate(\n",
    "        (config.hOffset, 0))\n",
    "\n",
    "keys= get_keys(kp, key_hole_shape)\n",
    "\n",
    "keys"
   ]
  },
  {
   "cell_type": "code",
   "execution_count": 106,
   "id": "fdaf267c",
   "metadata": {},
   "outputs": [],
   "source": [
    "from functools import partial \n",
    "import math\n",
    "def get_base(config: Config, kp, thickness, window=False):\n",
    "\n",
    "    foot_x, foot_y = (config.columnSpacing / 2 + config.switchHoleSize, config.rowSpacing / 2 +\n",
    "                      config.switchHoleSize) if config.shape == Shape.LEAN else (config.switchHoleSize, config.switchHoleSize)\n",
    "    base = cq.Sketch()\n",
    "    if config.split and config.mcu_footprint:\n",
    "        x_offs = (\n",
    "            config.mcu_footprint[0] + foot_x) / 2\n",
    "        y_offs = max([v[1] for (k, v) in kp.items() if k[0] == 0]\n",
    "                     ) + (foot_y - config.mcu_footprint[1]) / 2\n",
    "        base = base.push(\n",
    "            [(-x_offs, y_offs)]).rect(*config.mcu_footprint).reset()\n",
    "\n",
    "    base = base.push(kp.values())\n",
    "    if config.shape == Shape.LEAN:\n",
    "        base = base.rect(foot_x, foot_y)\\\n",
    "            .faces().clean().vertices().fillet(2.5).faces()\\\n",
    "            .wires().offset(5).clean()\n",
    "    elif config.shape == Shape.HULL:\n",
    "        base = base.rect(foot_x, foot_y)\\\n",
    "            .faces().hull().clean().wires().offset(12)\n",
    "\n",
    "    base = cq.Workplane().placeSketch(base).extrude(thickness)\n",
    "\n",
    "    base = base.rotate((0, 0, 0), (0, 0, 1), config.angle).translate(\n",
    "        (config.hOffset, 0))\n",
    "\n",
    "    if not config.split:\n",
    "        base = base.mirror('YZ', union=True).faces(\">Z\").workplane().placeSketch(\n",
    "            get_center(config, kp)).extrude(-thickness)\n",
    "\n",
    "    if window:\n",
    "        win = cq.Sketch().push(kp.values()).rect(config.columnSpacing / 2 +\n",
    "                                                 config.switchHoleSize, config.rowSpacing / 2 + config.switchHoleSize)\n",
    "        win = win.clean().faces().vertices().fillet(1)\n",
    "        win = cq.Workplane().placeSketch(win).extrude(thickness).rotate((0, 0, 0), (0, 0, 1), config.angle).translate(\n",
    "            (config.hOffset, 0))\n",
    "        if not config.split:\n",
    "            win = win.mirror('YZ', union=True)\n",
    "        base = base.cut(win)\n",
    "\n",
    "    return base\n",
    "def get_center(config: Config, kp):\n",
    "    fc = list(filter(lambda xy: xy[0] == 0, kp.keys()))\n",
    "    a = max(fc)\n",
    "    b = min(fc)\n",
    "\n",
    "    pts = [(kp[a][0] - config.columnSpacing / 2,\n",
    "            kp[a][1] + config.rowSpacing / 2), kp[b]]\n",
    "    pts = list(map(partial(rotate, config), pts))\n",
    "    pts = pts + list(map(lambda xy: (-xy[0], xy[1]), pts))\n",
    "    pts.sort()\n",
    "    pts.append(pts[0])\n",
    "    return cq.Sketch().polygon(pts)\n",
    "def rotate(config: Config, pt):\n",
    "    ang = math.radians(config.angle)\n",
    "    x, y = pt\n",
    "    return (x * math.cos(ang) - y * math.sin(ang) + config.hOffset,\n",
    "            x * math.sin(ang) + y * math.cos(ang))\n",
    "\n",
    "\n",
    "\n",
    "#base=get_base(config, kp, 1, False)\n",
    "#base"
   ]
  },
  {
   "cell_type": "code",
   "execution_count": 7,
   "id": "9097d9d2",
   "metadata": {},
   "outputs": [
    {
     "data": {
      "application/vnd.jupyter.widget-view+json": {
       "model_id": "8b1c946f690e4244950eff0ff4431f60",
       "version_major": 2,
       "version_minor": 0
      },
      "text/plain": [
       "CadViewerWidget(anchor=None, cad_width=640, glass=False, height=480, pinning=False, theme='light', title=None,…"
      ]
     },
     "metadata": {},
     "output_type": "display_data"
    },
    {
     "data": {
      "text/html": [
       "<div></div>"
      ],
      "text/plain": [
       "<IPython.core.display.HTML object>"
      ]
     },
     "metadata": {},
     "output_type": "display_data"
    }
   ],
   "source": [
    "switchPlate = base.cut(keys)\n",
    "\n",
    "switchPlate"
   ]
  },
  {
   "cell_type": "code",
   "execution_count": null,
   "id": "9298efd8",
   "metadata": {},
   "outputs": [],
   "source": []
  },
  {
   "cell_type": "code",
   "execution_count": null,
   "id": "981be504",
   "metadata": {},
   "outputs": [],
   "source": []
  },
  {
   "cell_type": "code",
   "execution_count": 98,
   "id": "5d23ef62",
   "metadata": {},
   "outputs": [],
   "source": [
    "from enum import IntEnum\n",
    "\n",
    "class Shape(IntEnum):\n",
    "    LEAN = 0\n",
    "    HULL = 1\n",
    "class Config:\n",
    "    ncols : int\n",
    "    row_key_num: list\n",
    "    columnSpacing: float\n",
    "    rowSpacing: float\n",
    "    switchHoleSize: float\n",
    "    plateThickness: float\n",
    "    screwHoleDiameter: float\n",
    "        \n",
    "    def __init__(self, nc, row_key_num, \n",
    "                 cs=19, rs=19, \n",
    "                 switchHoleSize=13.97,\n",
    "                 plateThickness = 2,\n",
    "                 shape=Shape.LEAN,\n",
    "                 \n",
    "                ):\n",
    "        self.nCols = nc\n",
    "        self.row_key_num = row_key_num\n",
    "        self.columnSpacing = cs\n",
    "        self.rowSpacing = rs\n",
    "        self.switchHoleSize = switchHoleSize\n",
    "        self.plateThickness = plateThickness\n",
    "        self.angle = 0\n",
    "        self.hOffset=0\n",
    "        self.shape = shape\n",
    "        if len(row_key_num) != nc:\n",
    "            raise ValueError('Number of columns must match the row-key description!')\n",
    "            \n",
    "            \n",
    "\n",
    "\n",
    "def get_keys(kp, key_shape, config):\n",
    "    return cq.Workplane().pushPoints(kp.values()).placeSketch(key_shape).extrude(config.plateThickness)\\\n",
    "        .rotate((0, 0, 0), (0, 0, 1), config.angle).translate(\n",
    "        (config.hOffset, 0))\n",
    "\n",
    "switchHoleSize=13.97\n",
    "\n",
    "def get_key_hole_shape(switchHoleSize, notched) -> cq.Sketch:\n",
    "    if notched:\n",
    "        return cq.Sketch().rect(switchHoleSize, switchHoleSize)\\\n",
    "            .push([(0, 4.2545), (0, -4.2545)]).rect(switchHoleSize + 2 * 0.8128, 3.5001).clean()\n",
    "    else:\n",
    "        return cq.Sketch().rect(switchHoleSize, switchHoleSize)\n",
    "\n",
    "    \n",
    "key_hole_shape = get_key_hole_shape(switchHoleSize, True)\n",
    "\n",
    "\n",
    "ncols = 4\n",
    "rkn = [8,8,8,6]\n",
    "\n",
    "cc=Config(ncols, rkn)"
   ]
  },
  {
   "cell_type": "code",
   "execution_count": null,
   "id": "b5a68b09",
   "metadata": {},
   "outputs": [],
   "source": [
    "def get_key_positions(config: Config) -> [(float, float)]:\n",
    "    kc = []\n",
    "    for x in range(config.nCols):\n",
    "        for y in range(config.row_key_num[x]):\n",
    "            kc.append((x, y))\n",
    "\n",
    "  \n",
    "    min_x = min(kc, key=lambda xy: xy[0])[0]\n",
    "    n_cols = config.nCols - min_x\n",
    "\n",
    "#     if config.staggering:\n",
    "#         if len(config.staggering) <= n_cols:\n",
    "#             st = config.staggering + [0] * \\\n",
    "#                 (n_cols - len(config.staggering))\n",
    "#         else:\n",
    "#             st = config.staggering\n",
    "#     else:\n",
    "#         st = [0] * n_cols\n",
    "    st = [0] * n_cols\n",
    "    kp = {}\n",
    "    for x, y in kc:\n",
    "        kp[(x, y)] = (config.columnSpacing * x,\n",
    "                      st[x - min_x] + config.rowSpacing * y)\n",
    "\n",
    "    return kp    "
   ]
  },
  {
   "cell_type": "code",
   "execution_count": 78,
   "id": "57070346",
   "metadata": {},
   "outputs": [
    {
     "name": "stdout",
     "output_type": "stream",
     "text": [
      "\r",
      "  0% ⋮                                                            ⋮ (0/2)  0.00s\r",
      " 50% ⋮——————————————————————————————                              ⋮ (1/2)  0.00s\r",
      "100% ⋮————————————————————————————————————————————————————————————⋮ (2/2)  0.00s\r",
      "100% ⋮————————————————————————————————————————————————————————————⋮ (2/2)  0.00s\n"
     ]
    },
    {
     "data": {
      "application/vnd.jupyter.widget-view+json": {
       "model_id": "2231d4c6b0824e4bac7821ea2c7cba39",
       "version_major": 2,
       "version_minor": 0
      },
      "text/plain": [
       "CadViewerWidget(anchor=None, cad_width=640, glass=False, height=480, pinning=False, theme='light', title=None,…"
      ]
     },
     "metadata": {},
     "output_type": "display_data"
    },
    {
     "data": {
      "text/html": [
       "<div></div>"
      ],
      "text/plain": [
       "<IPython.core.display.HTML object>"
      ]
     },
     "metadata": {},
     "output_type": "display_data"
    }
   ],
   "source": [
    "key_hole_shape"
   ]
  },
  {
   "cell_type": "code",
   "execution_count": 89,
   "id": "43cc1299",
   "metadata": {},
   "outputs": [],
   "source": [
    "def get_key_positions(config: Config) -> [(float, float)]:\n",
    "    kp={}\n",
    "    x_centre = max(config.row_key_num)* config.rowSpacing*0.5\n",
    "    for col_num, row_size in enumerate(reversed(config.row_key_num)):\n",
    "        centre = row_size* config.rowSpacing*0.5\n",
    "\n",
    "        if centre != x_centre:\n",
    "            x_trans = x_centre - centre\n",
    "        else:\n",
    "            x_trans = 0\n",
    "       \n",
    "        for row_num in range(row_size):\n",
    "            kp[(col_num, row_num)] = (config.rowSpacing*row_num+x_trans,\n",
    "                                        config.columnSpacing*col_num)\n",
    "\n",
    "\n",
    "    return kp     \n"
   ]
  },
  {
   "cell_type": "code",
   "execution_count": 99,
   "id": "1b5da223",
   "metadata": {},
   "outputs": [
    {
     "data": {
      "application/vnd.jupyter.widget-view+json": {
       "model_id": "56436596347d44fcb7e741f2651880a9",
       "version_major": 2,
       "version_minor": 0
      },
      "text/plain": [
       "CadViewerWidget(anchor=None, cad_width=640, glass=False, height=480, pinning=False, theme='light', title=None,…"
      ]
     },
     "metadata": {},
     "output_type": "display_data"
    },
    {
     "data": {
      "text/html": [
       "<div></div>"
      ],
      "text/plain": [
       "<IPython.core.display.HTML object>"
      ]
     },
     "metadata": {},
     "output_type": "display_data"
    }
   ],
   "source": [
    "ncols = 4\n",
    "rkn = [7,7,7,6]\n",
    "\n",
    "cc=Config(ncols, rkn)\n",
    "kp = get_key_positions(cc)\n",
    "get_keys(kp, key_hole_shape, cc)\n",
    "\n"
   ]
  },
  {
   "cell_type": "code",
   "execution_count": 111,
   "id": "5076fbd0",
   "metadata": {},
   "outputs": [],
   "source": [
    "def get_base(config: Config, kp, thickness, window=False):\n",
    "\n",
    "    foot_x, foot_y = (config.columnSpacing / 2 + config.switchHoleSize, config.rowSpacing / 2 +\n",
    "                      config.switchHoleSize) if config.shape == Shape.LEAN else (config.switchHoleSize, config.switchHoleSize)\n",
    "    base = cq.Sketch()\n",
    "   \n",
    "\n",
    "    base = base.push(kp.values())\n",
    "    if config.shape == Shape.LEAN:\n",
    "        base = base.rect(foot_x, foot_y)\\\n",
    "            .faces().clean().vertices().fillet(2.5).faces()\\\n",
    "            .wires().offset(5).clean()\n",
    "    elif config.shape == Shape.HULL:\n",
    "        base = base.rect(foot_x, foot_y)\\\n",
    "            .faces().hull().clean().wires().offset(12)\n",
    "\n",
    "    base = cq.Workplane().placeSketch(base).extrude(thickness)\n",
    "\n",
    "    base = base.rotate((0, 0, 0), (0, 0, 1), config.angle).translate(\n",
    "        (config.hOffset, 0))\n",
    "    \n",
    "    if True:\n",
    "    #if not config.split:\n",
    "        base = base.mirror('YZ', union=True).faces(\">Z\").workplane().placeSketch(\n",
    "            get_center(config, kp)).extrude(-thickness)\n",
    "\n",
    "    if window:\n",
    "        win = cq.Sketch().push(kp.values()).rect(config.columnSpacing / 2 +\n",
    "                                                 config.switchHoleSize, config.rowSpacing / 2 + config.switchHoleSize)\n",
    "        win = win.clean().faces().vertices().fillet(1)\n",
    "        win = cq.Workplane().placeSketch(win).extrude(thickness).rotate((0, 0, 0), (0, 0, 1), config.angle).translate(\n",
    "            (config.hOffset, 0))\n",
    "        #if not config.split:\n",
    "        win = win.mirror('YZ', union=True)\n",
    "        base = base.cut(win)\n",
    "\n",
    "    return base"
   ]
  },
  {
   "cell_type": "code",
   "execution_count": 115,
   "id": "12647bc6",
   "metadata": {},
   "outputs": [
    {
     "data": {
      "application/vnd.jupyter.widget-view+json": {
       "model_id": "dc76662be7414211b55e387fa4d72458",
       "version_major": 2,
       "version_minor": 0
      },
      "text/plain": [
       "CadViewerWidget(anchor=None, cad_width=640, glass=False, height=480, pinning=False, theme='light', title=None,…"
      ]
     },
     "metadata": {},
     "output_type": "display_data"
    },
    {
     "data": {
      "text/html": [
       "<div></div>"
      ],
      "text/plain": [
       "<IPython.core.display.HTML object>"
      ]
     },
     "metadata": {},
     "output_type": "display_data"
    }
   ],
   "source": [
    "get_base(cc, kp, thickness=2, window=False).cut(get_keys(kp, key_hole_shape, cc))"
   ]
  },
  {
   "cell_type": "code",
   "execution_count": null,
   "id": "20594323",
   "metadata": {},
   "outputs": [],
   "source": []
  }
 ],
 "metadata": {
  "kernelspec": {
   "display_name": "Python 3 (ipykernel)",
   "language": "python",
   "name": "python3"
  },
  "language_info": {
   "codemirror_mode": {
    "name": "ipython",
    "version": 3
   },
   "file_extension": ".py",
   "mimetype": "text/x-python",
   "name": "python",
   "nbconvert_exporter": "python",
   "pygments_lexer": "ipython3",
   "version": "3.10.13"
  }
 },
 "nbformat": 4,
 "nbformat_minor": 5
}
