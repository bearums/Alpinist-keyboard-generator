{
 "cells": [
  {
   "cell_type": "code",
   "execution_count": 1,
   "metadata": {},
   "outputs": [],
   "source": [
    "import glob\n",
    "import os\n",
    "\n",
    "make_scripts = glob.glob('examples/**/make_keyboard.py')"
   ]
  },
  {
   "cell_type": "code",
   "execution_count": 2,
   "metadata": {},
   "outputs": [],
   "source": [
    "import json"
   ]
  },
  {
   "cell_type": "code",
   "execution_count": 6,
   "metadata": {},
   "outputs": [
    {
     "ename": "ModuleNotFoundError",
     "evalue": "No module named 'config'",
     "output_type": "error",
     "traceback": [
      "\u001b[0;31m---------------------------------------------------------------------------\u001b[0m",
      "\u001b[0;31mModuleNotFoundError\u001b[0m                       Traceback (most recent call last)",
      "Cell \u001b[0;32mIn[6], line 34\u001b[0m\n\u001b[1;32m     32\u001b[0m \u001b[38;5;28;01mimport\u001b[39;00m \u001b[38;5;21;01msys\u001b[39;00m\n\u001b[1;32m     33\u001b[0m sys\u001b[38;5;241m.\u001b[39mpath\u001b[38;5;241m.\u001b[39mappend(\u001b[38;5;124m'\u001b[39m\u001b[38;5;124mfactory\u001b[39m\u001b[38;5;124m'\u001b[39m)\n\u001b[0;32m---> 34\u001b[0m \u001b[38;5;28;01mfrom\u001b[39;00m \u001b[38;5;21;01mconfig\u001b[39;00m \u001b[38;5;28;01mimport\u001b[39;00m \u001b[38;5;241m*\u001b[39m\n",
      "\u001b[0;31mModuleNotFoundError\u001b[0m: No module named 'config'"
     ]
    }
   ],
   "source": [
    "config_dict = \"\"\"{\n",
    "    \"name\" : \"Alpinist01\",\n",
    "    \"row_key_numbers\": [\n",
    "        7,\n",
    "        10,\n",
    "        10,\n",
    "        10\n",
    "    ],\n",
    "    \"columnSpacing\": 19,\n",
    "    \"rowSpacing\": 19,\n",
    "    \"plateThickness\": 2,\n",
    "    \"screwHoleDiamater\": 2.4,\n",
    "    \"switchHoleSize\": 13.97,\n",
    "    \"shape\": 0,\n",
    "    \"notched_keyhole\": true,\n",
    "    \"caseHeight\": 22,\n",
    "    \"caseGap\": 1.0,\n",
    "    \"wallThickness\": 1.6,\n",
    "    \"floorThickness\": 3.0,\n",
    "    \"edgeFillet\": 3,\n",
    "    \"bottomFillet\": 1,\n",
    "    \"controller\": {\n",
    "        \"name\": \"Pi Pico\",\n",
    "        \"board_dimension_x\": 51.0,\n",
    "        \"board_dimension_y\": 21.0,\n",
    "        \"screw_hole_x\": 47.0,\n",
    "        \"screw_hole_y\": 11.4\n",
    "    },\n",
    "    \"controllerYOffset\": 6,\n",
    "    \"controllerBoxThickness\": 2\n",
    "}\"\"\"\n",
    "import sys\n",
    "sys.path.append('factory')\n",
    "from config import *"
   ]
  },
  {
   "cell_type": "code",
   "execution_count": null,
   "metadata": {},
   "outputs": [],
   "source": [
    "read_config_from_json(string=config_dict)"
   ]
  }
 ],
 "metadata": {
  "kernelspec": {
   "display_name": "jcq3",
   "language": "python",
   "name": "python3"
  },
  "language_info": {
   "codemirror_mode": {
    "name": "ipython",
    "version": 3
   },
   "file_extension": ".py",
   "mimetype": "text/x-python",
   "name": "python",
   "nbconvert_exporter": "python",
   "pygments_lexer": "ipython3",
   "version": "3.10.13"
  }
 },
 "nbformat": 4,
 "nbformat_minor": 2
}
